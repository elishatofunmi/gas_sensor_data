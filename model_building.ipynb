{
 "cells": [
  {
   "cell_type": "code",
   "execution_count": 80,
   "metadata": {},
   "outputs": [],
   "source": [
    "import pandas as pd\n",
    "read_data = pd.read_csv('merged_preprocess_data.csv')"
   ]
  },
  {
   "cell_type": "code",
   "execution_count": 81,
   "metadata": {},
   "outputs": [
    {
     "data": {
      "text/plain": [
       "(698601, 10)"
      ]
     },
     "execution_count": 81,
     "metadata": {},
     "output_type": "execute_result"
    }
   ],
   "source": [
    "read_data.shape"
   ]
  },
  {
   "cell_type": "code",
   "execution_count": 82,
   "metadata": {},
   "outputs": [
    {
     "data": {
      "text/html": [
       "<div>\n",
       "<style>\n",
       "    .dataframe thead tr:only-child th {\n",
       "        text-align: right;\n",
       "    }\n",
       "\n",
       "    .dataframe thead th {\n",
       "        text-align: left;\n",
       "    }\n",
       "\n",
       "    .dataframe tbody tr th {\n",
       "        vertical-align: top;\n",
       "    }\n",
       "</style>\n",
       "<table border=\"1\" class=\"dataframe\">\n",
       "  <thead>\n",
       "    <tr style=\"text-align: right;\">\n",
       "      <th></th>\n",
       "      <th>Unnamed: 0</th>\n",
       "      <th>sense_eight</th>\n",
       "      <th>sense_five</th>\n",
       "      <th>sense_four</th>\n",
       "      <th>sense_one</th>\n",
       "      <th>sense_seven</th>\n",
       "      <th>sense_six</th>\n",
       "      <th>sense_three</th>\n",
       "      <th>sense_two</th>\n",
       "      <th>target</th>\n",
       "    </tr>\n",
       "  </thead>\n",
       "  <tbody>\n",
       "    <tr>\n",
       "      <th>0</th>\n",
       "      <td>0</td>\n",
       "      <td>7.7250</td>\n",
       "      <td>77.7575</td>\n",
       "      <td>6.875</td>\n",
       "      <td>41.935</td>\n",
       "      <td>61.2100</td>\n",
       "      <td>47.1925</td>\n",
       "      <td>23.2900</td>\n",
       "      <td>20.2800</td>\n",
       "      <td>1.0</td>\n",
       "    </tr>\n",
       "    <tr>\n",
       "      <th>1</th>\n",
       "      <td>1</td>\n",
       "      <td>7.7225</td>\n",
       "      <td>77.7075</td>\n",
       "      <td>6.875</td>\n",
       "      <td>41.960</td>\n",
       "      <td>61.2100</td>\n",
       "      <td>47.2700</td>\n",
       "      <td>23.3075</td>\n",
       "      <td>20.3000</td>\n",
       "      <td>1.0</td>\n",
       "    </tr>\n",
       "    <tr>\n",
       "      <th>2</th>\n",
       "      <td>2</td>\n",
       "      <td>7.7300</td>\n",
       "      <td>77.7025</td>\n",
       "      <td>6.875</td>\n",
       "      <td>41.935</td>\n",
       "      <td>61.2100</td>\n",
       "      <td>47.1625</td>\n",
       "      <td>23.2800</td>\n",
       "      <td>20.2875</td>\n",
       "      <td>1.0</td>\n",
       "    </tr>\n",
       "    <tr>\n",
       "      <th>3</th>\n",
       "      <td>3</td>\n",
       "      <td>7.7250</td>\n",
       "      <td>77.7025</td>\n",
       "      <td>6.875</td>\n",
       "      <td>41.915</td>\n",
       "      <td>61.1775</td>\n",
       "      <td>47.2625</td>\n",
       "      <td>23.2900</td>\n",
       "      <td>20.2800</td>\n",
       "      <td>1.0</td>\n",
       "    </tr>\n",
       "    <tr>\n",
       "      <th>4</th>\n",
       "      <td>4</td>\n",
       "      <td>7.7250</td>\n",
       "      <td>77.7575</td>\n",
       "      <td>6.875</td>\n",
       "      <td>41.960</td>\n",
       "      <td>61.1600</td>\n",
       "      <td>47.2450</td>\n",
       "      <td>23.2900</td>\n",
       "      <td>20.3025</td>\n",
       "      <td>1.0</td>\n",
       "    </tr>\n",
       "  </tbody>\n",
       "</table>\n",
       "</div>"
      ],
      "text/plain": [
       "   Unnamed: 0  sense_eight  sense_five  sense_four  sense_one  sense_seven  \\\n",
       "0           0       7.7250     77.7575       6.875     41.935      61.2100   \n",
       "1           1       7.7225     77.7075       6.875     41.960      61.2100   \n",
       "2           2       7.7300     77.7025       6.875     41.935      61.2100   \n",
       "3           3       7.7250     77.7025       6.875     41.915      61.1775   \n",
       "4           4       7.7250     77.7575       6.875     41.960      61.1600   \n",
       "\n",
       "   sense_six  sense_three  sense_two  target  \n",
       "0    47.1925      23.2900    20.2800     1.0  \n",
       "1    47.2700      23.3075    20.3000     1.0  \n",
       "2    47.1625      23.2800    20.2875     1.0  \n",
       "3    47.2625      23.2900    20.2800     1.0  \n",
       "4    47.2450      23.2900    20.3025     1.0  "
      ]
     },
     "execution_count": 82,
     "metadata": {},
     "output_type": "execute_result"
    }
   ],
   "source": [
    "read_data.head()"
   ]
  },
  {
   "cell_type": "code",
   "execution_count": 83,
   "metadata": {
    "collapsed": true
   },
   "outputs": [],
   "source": [
    "read_data = read_data.drop('Unnamed: 0', axis = 1)"
   ]
  },
  {
   "cell_type": "code",
   "execution_count": 84,
   "metadata": {},
   "outputs": [
    {
     "name": "stdout",
     "output_type": "stream",
     "text": [
      "<class 'pandas.core.frame.DataFrame'>\n",
      "RangeIndex: 698601 entries, 0 to 698600\n",
      "Data columns (total 9 columns):\n",
      "sense_eight    698601 non-null float64\n",
      "sense_five     698601 non-null float64\n",
      "sense_four     698601 non-null float64\n",
      "sense_one      698601 non-null float64\n",
      "sense_seven    698601 non-null float64\n",
      "sense_six      698601 non-null float64\n",
      "sense_three    698601 non-null float64\n",
      "sense_two      698601 non-null float64\n",
      "target         698601 non-null float64\n",
      "dtypes: float64(9)\n",
      "memory usage: 48.0 MB\n"
     ]
    }
   ],
   "source": [
    "read_data.info()"
   ]
  },
  {
   "cell_type": "code",
   "execution_count": 85,
   "metadata": {},
   "outputs": [
    {
     "data": {
      "text/plain": [
       "sense_eight    0\n",
       "sense_five     0\n",
       "sense_four     0\n",
       "sense_one      0\n",
       "sense_seven    0\n",
       "sense_six      0\n",
       "sense_three    0\n",
       "sense_two      0\n",
       "target         0\n",
       "dtype: int64"
      ]
     },
     "execution_count": 85,
     "metadata": {},
     "output_type": "execute_result"
    }
   ],
   "source": [
    "read_data.isnull().sum()"
   ]
  },
  {
   "cell_type": "code",
   "execution_count": 86,
   "metadata": {},
   "outputs": [
    {
     "data": {
      "text/html": [
       "<div>\n",
       "<style>\n",
       "    .dataframe thead tr:only-child th {\n",
       "        text-align: right;\n",
       "    }\n",
       "\n",
       "    .dataframe thead th {\n",
       "        text-align: left;\n",
       "    }\n",
       "\n",
       "    .dataframe tbody tr th {\n",
       "        vertical-align: top;\n",
       "    }\n",
       "</style>\n",
       "<table border=\"1\" class=\"dataframe\">\n",
       "  <thead>\n",
       "    <tr style=\"text-align: right;\">\n",
       "      <th></th>\n",
       "      <th>sense_eight</th>\n",
       "      <th>sense_five</th>\n",
       "      <th>sense_four</th>\n",
       "      <th>sense_one</th>\n",
       "      <th>sense_seven</th>\n",
       "      <th>sense_six</th>\n",
       "      <th>sense_three</th>\n",
       "      <th>sense_two</th>\n",
       "      <th>target</th>\n",
       "    </tr>\n",
       "  </thead>\n",
       "  <tbody>\n",
       "    <tr>\n",
       "      <th>0</th>\n",
       "      <td>7.7250</td>\n",
       "      <td>77.7575</td>\n",
       "      <td>6.875</td>\n",
       "      <td>41.935</td>\n",
       "      <td>61.2100</td>\n",
       "      <td>47.1925</td>\n",
       "      <td>23.2900</td>\n",
       "      <td>20.2800</td>\n",
       "      <td>1.0</td>\n",
       "    </tr>\n",
       "    <tr>\n",
       "      <th>1</th>\n",
       "      <td>7.7225</td>\n",
       "      <td>77.7075</td>\n",
       "      <td>6.875</td>\n",
       "      <td>41.960</td>\n",
       "      <td>61.2100</td>\n",
       "      <td>47.2700</td>\n",
       "      <td>23.3075</td>\n",
       "      <td>20.3000</td>\n",
       "      <td>1.0</td>\n",
       "    </tr>\n",
       "    <tr>\n",
       "      <th>2</th>\n",
       "      <td>7.7300</td>\n",
       "      <td>77.7025</td>\n",
       "      <td>6.875</td>\n",
       "      <td>41.935</td>\n",
       "      <td>61.2100</td>\n",
       "      <td>47.1625</td>\n",
       "      <td>23.2800</td>\n",
       "      <td>20.2875</td>\n",
       "      <td>1.0</td>\n",
       "    </tr>\n",
       "    <tr>\n",
       "      <th>3</th>\n",
       "      <td>7.7250</td>\n",
       "      <td>77.7025</td>\n",
       "      <td>6.875</td>\n",
       "      <td>41.915</td>\n",
       "      <td>61.1775</td>\n",
       "      <td>47.2625</td>\n",
       "      <td>23.2900</td>\n",
       "      <td>20.2800</td>\n",
       "      <td>1.0</td>\n",
       "    </tr>\n",
       "    <tr>\n",
       "      <th>4</th>\n",
       "      <td>7.7250</td>\n",
       "      <td>77.7575</td>\n",
       "      <td>6.875</td>\n",
       "      <td>41.960</td>\n",
       "      <td>61.1600</td>\n",
       "      <td>47.2450</td>\n",
       "      <td>23.2900</td>\n",
       "      <td>20.3025</td>\n",
       "      <td>1.0</td>\n",
       "    </tr>\n",
       "  </tbody>\n",
       "</table>\n",
       "</div>"
      ],
      "text/plain": [
       "   sense_eight  sense_five  sense_four  sense_one  sense_seven  sense_six  \\\n",
       "0       7.7250     77.7575       6.875     41.935      61.2100    47.1925   \n",
       "1       7.7225     77.7075       6.875     41.960      61.2100    47.2700   \n",
       "2       7.7300     77.7025       6.875     41.935      61.2100    47.1625   \n",
       "3       7.7250     77.7025       6.875     41.915      61.1775    47.2625   \n",
       "4       7.7250     77.7575       6.875     41.960      61.1600    47.2450   \n",
       "\n",
       "   sense_three  sense_two  target  \n",
       "0      23.2900    20.2800     1.0  \n",
       "1      23.3075    20.3000     1.0  \n",
       "2      23.2800    20.2875     1.0  \n",
       "3      23.2900    20.2800     1.0  \n",
       "4      23.2900    20.3025     1.0  "
      ]
     },
     "execution_count": 86,
     "metadata": {},
     "output_type": "execute_result"
    }
   ],
   "source": [
    "final_data = read_data.dropna(axis = 0, how = 'any')\n",
    "final_data.head()"
   ]
  },
  {
   "cell_type": "code",
   "execution_count": 87,
   "metadata": {},
   "outputs": [
    {
     "data": {
      "text/plain": [
       "sense_eight    0\n",
       "sense_five     0\n",
       "sense_four     0\n",
       "sense_one      0\n",
       "sense_seven    0\n",
       "sense_six      0\n",
       "sense_three    0\n",
       "sense_two      0\n",
       "target         0\n",
       "dtype: int64"
      ]
     },
     "execution_count": 87,
     "metadata": {},
     "output_type": "execute_result"
    }
   ],
   "source": [
    "final_data.isnull().sum()"
   ]
  },
  {
   "cell_type": "code",
   "execution_count": 88,
   "metadata": {},
   "outputs": [
    {
     "data": {
      "text/plain": [
       "(698601, 9)"
      ]
     },
     "execution_count": 88,
     "metadata": {},
     "output_type": "execute_result"
    }
   ],
   "source": [
    "final_data.shape"
   ]
  },
  {
   "cell_type": "code",
   "execution_count": 89,
   "metadata": {},
   "outputs": [
    {
     "data": {
      "text/plain": [
       "False"
      ]
     },
     "execution_count": 89,
     "metadata": {},
     "output_type": "execute_result"
    }
   ],
   "source": [
    "this = final_data.iloc[2][:]\n",
    "True in [isinstance(k, str) for k in this.values]"
   ]
  },
  {
   "cell_type": "code",
   "execution_count": 90,
   "metadata": {
    "collapsed": true
   },
   "outputs": [],
   "source": [
    "X = final_data.drop('target', axis = 1)"
   ]
  },
  {
   "cell_type": "code",
   "execution_count": 91,
   "metadata": {
    "collapsed": true
   },
   "outputs": [],
   "source": [
    "y = final_data['target']"
   ]
  },
  {
   "cell_type": "code",
   "execution_count": 92,
   "metadata": {
    "collapsed": true
   },
   "outputs": [],
   "source": [
    "import sklearn as sk"
   ]
  },
  {
   "cell_type": "code",
   "execution_count": 93,
   "metadata": {},
   "outputs": [],
   "source": [
    "from sklearn.model_selection import train_test_split"
   ]
  },
  {
   "cell_type": "code",
   "execution_count": 94,
   "metadata": {},
   "outputs": [],
   "source": [
    "x_train, x_test, y_train, y_test = train_test_split(X, y, train_size = 0.80, random_state = 500)"
   ]
  },
  {
   "cell_type": "code",
   "execution_count": 95,
   "metadata": {},
   "outputs": [
    {
     "data": {
      "text/plain": [
       "((558880, 8), (139721, 8), (558880,), (139721,))"
      ]
     },
     "execution_count": 95,
     "metadata": {},
     "output_type": "execute_result"
    }
   ],
   "source": [
    "x_train.shape, x_test.shape, y_train.shape, y_test.shape"
   ]
  },
  {
   "cell_type": "code",
   "execution_count": 96,
   "metadata": {
    "collapsed": true
   },
   "outputs": [],
   "source": [
    "from sklearn.preprocessing import StandardScaler\n",
    "from sklearn.preprocessing import MinMaxScaler\n",
    "from sklearn.preprocessing import Normalizer"
   ]
  },
  {
   "cell_type": "code",
   "execution_count": 97,
   "metadata": {},
   "outputs": [],
   "source": [
    "std_scaler = StandardScaler()\n",
    "max_scaler = MinMaxScaler()\n",
    "norm = Normalizer()\n",
    "\n",
    "x_train_scale = std_scaler.fit_transform(x_train)\n",
    "x_train_max = max_scaler.fit_transform(x_train_scale)\n",
    "x_train_norm = norm.fit_transform(x_train_max)\n",
    "\n",
    "x_test_scale = std_scaler.fit_transform(x_test)\n",
    "x_test_max = max_scaler.fit_transform(x_test_scale)\n",
    "x_test_norm = norm.fit_transform(x_test_max)"
   ]
  },
  {
   "cell_type": "code",
   "execution_count": 99,
   "metadata": {},
   "outputs": [
    {
     "data": {
      "text/plain": [
       "1.0"
      ]
     },
     "execution_count": 99,
     "metadata": {},
     "output_type": "execute_result"
    }
   ],
   "source": [
    "from sklearn.neighbors import KNeighborsClassifier\n",
    "\n",
    "knn = KNeighborsClassifier(n_neighbors = 4)\n",
    "knn.fit(x_train_scale, y_train)\n",
    "knn.score(x_train_scale, y_train)"
   ]
  },
  {
   "cell_type": "code",
   "execution_count": 100,
   "metadata": {},
   "outputs": [
    {
     "data": {
      "text/plain": [
       "1.0"
      ]
     },
     "execution_count": 100,
     "metadata": {},
     "output_type": "execute_result"
    }
   ],
   "source": [
    "test_predict = knn.predict(x_test_scale)\n",
    "from sklearn.metrics import accuracy_score\n",
    "accuracy_score(test_predict, y_test)"
   ]
  },
  {
   "cell_type": "code",
   "execution_count": 103,
   "metadata": {},
   "outputs": [
    {
     "data": {
      "text/plain": [
       "array([ 4.,  1.,  1.,  3.,  3.,  4.,  4.,  3.,  3.,  4.,  4.,  1.,  3.,\n",
       "        3.,  4.,  3.,  2.,  1.,  4.,  2.])"
      ]
     },
     "execution_count": 103,
     "metadata": {},
     "output_type": "execute_result"
    }
   ],
   "source": [
    "test_predict[:20]"
   ]
  },
  {
   "cell_type": "code",
   "execution_count": 104,
   "metadata": {},
   "outputs": [
    {
     "data": {
      "text/plain": [
       "571029    4.0\n",
       "27645     1.0\n",
       "105523    1.0\n",
       "399997    3.0\n",
       "412972    3.0\n",
       "572680    4.0\n",
       "520009    4.0\n",
       "373509    3.0\n",
       "371632    3.0\n",
       "663688    4.0\n",
       "584700    4.0\n",
       "11809     1.0\n",
       "349598    3.0\n",
       "468174    3.0\n",
       "679064    4.0\n",
       "490029    3.0\n",
       "273269    2.0\n",
       "107658    1.0\n",
       "574216    4.0\n",
       "284046    2.0\n",
       "Name: target, dtype: float64"
      ]
     },
     "execution_count": 104,
     "metadata": {},
     "output_type": "execute_result"
    }
   ],
   "source": [
    "y_test[:20]"
   ]
  },
  {
   "cell_type": "code",
   "execution_count": 105,
   "metadata": {},
   "outputs": [
    {
     "data": {
      "text/plain": [
       "1.0"
      ]
     },
     "execution_count": 105,
     "metadata": {},
     "output_type": "execute_result"
    }
   ],
   "source": [
    "from sklearn.svm import SVC\n",
    "svc = SVC(C = 1.0, kernel = 'linear')\n",
    "svc.fit(x_train_scale, y_train)\n",
    "svc.score(x_train_scale, y_train)"
   ]
  },
  {
   "cell_type": "code",
   "execution_count": 106,
   "metadata": {},
   "outputs": [
    {
     "data": {
      "text/plain": [
       "1.0"
      ]
     },
     "execution_count": 106,
     "metadata": {},
     "output_type": "execute_result"
    }
   ],
   "source": [
    "test_predict_svc = svc.predict(x_test_scale)\n",
    "accuracy_score(test_predict_svc, y_test)"
   ]
  },
  {
   "cell_type": "code",
   "execution_count": 108,
   "metadata": {},
   "outputs": [
    {
     "data": {
      "text/plain": [
       "1.0"
      ]
     },
     "execution_count": 108,
     "metadata": {},
     "output_type": "execute_result"
    }
   ],
   "source": [
    "from sklearn.svm import SVC\n",
    "svc = SVC(C = 1.0, kernel = 'rbf')\n",
    "svc.fit(x_train_scale, y_train)\n",
    "svc.score(x_train_scale, y_train)"
   ]
  },
  {
   "cell_type": "code",
   "execution_count": null,
   "metadata": {
    "collapsed": true
   },
   "outputs": [],
   "source": [
    "from sklearn.svm import SVC\n",
    "svc = SVC(C = 1.0, kernel = 'sigmoid')\n",
    "svc.fit(x_train_scale, y_train)\n",
    "svc.score(x_train_scale, y_train)"
   ]
  },
  {
   "cell_type": "code",
   "execution_count": null,
   "metadata": {
    "collapsed": true
   },
   "outputs": [],
   "source": [
    " "
   ]
  }
 ],
 "metadata": {
  "kernelspec": {
   "display_name": "Python 3",
   "language": "python",
   "name": "python3"
  },
  "language_info": {
   "codemirror_mode": {
    "name": "ipython",
    "version": 3
   },
   "file_extension": ".py",
   "mimetype": "text/x-python",
   "name": "python",
   "nbconvert_exporter": "python",
   "pygments_lexer": "ipython3",
   "version": "3.6.1"
  }
 },
 "nbformat": 4,
 "nbformat_minor": 2
}
