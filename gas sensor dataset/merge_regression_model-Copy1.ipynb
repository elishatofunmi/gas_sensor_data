{
 "cells": [
  {
   "cell_type": "code",
   "execution_count": 1,
   "metadata": {},
   "outputs": [
    {
     "data": {
      "text/plain": [
       "['.ipynb_checkpoints',\n",
       " 'create_dataset.ipynb',\n",
       " 'data visualization.ipynb',\n",
       " 'merged_preprocess_data.csv',\n",
       " 'merge_regression_model.ipynb',\n",
       " 'model_building.ipynb',\n",
       " 'Repitition_CO_at_70_ppm.csv',\n",
       " 'Repitition_CO_at_80_ppm.csv',\n",
       " 'Repitition_CO_at_90_ppm.csv',\n",
       " 'Repitition_EA_at_20_ppm.csv',\n",
       " 'Repitition_EA_at_30_ppm.csv',\n",
       " 'Repitition_EA_at_40_ppm.csv',\n",
       " 'Repitition_Ey_at_40_ppm.csv',\n",
       " 'Repitition_Ey_at_50_ppm.csv',\n",
       " 'Repitition_Ey_at_60_ppm.csv',\n",
       " 'Repitition_ME_at_60_ppm.csv',\n",
       " 'Repitition_ME_at_70_ppm.csv',\n",
       " 'Repitition_ME_at_80_ppm.csv',\n",
       " 'visualization of sensor five with respect to sensor eight value.png',\n",
       " 'visualization of sensor one with respect to sensor three value.png',\n",
       " 'visualization of sensor one with respect to sensor two value.png',\n",
       " 'visualization of sensor one with respect to the target value.png',\n",
       " 'visualization of sensor two with respect to sensor three value.png',\n",
       " 'visualization of sensor two with respect to the target value.png']"
      ]
     },
     "execution_count": 1,
     "metadata": {},
     "output_type": "execute_result"
    }
   ],
   "source": [
    "import os\n",
    "\n",
    "os.listdir()"
   ]
  },
  {
   "cell_type": "code",
   "execution_count": 36,
   "metadata": {
    "collapsed": true
   },
   "outputs": [],
   "source": [
    "import pandas as pd\n",
    "ea_at_20_ppm = pd.read_csv('Repitition_EA_at_20_ppm.csv')\n",
    "ea_at_30_ppm = pd.read_csv('Repitition_EA_at_30_ppm.csv')\n",
    "ea_at_40_ppm = pd.read_csv('Repitition_EA_at_40_ppm.csv')"
   ]
  },
  {
   "cell_type": "code",
   "execution_count": 37,
   "metadata": {
    "collapsed": true
   },
   "outputs": [],
   "source": [
    "import pandas as pd\n",
    "co_at_70_ppm = pd.read_csv('Repitition_CO_at_70_ppm.csv')\n",
    "co_at_80_ppm = pd.read_csv('Repitition_CO_at_80_ppm.csv')\n",
    "co_at_90_ppm = pd.read_csv('Repitition_CO_at_90_ppm.csv')"
   ]
  },
  {
   "cell_type": "code",
   "execution_count": 38,
   "metadata": {
    "collapsed": true
   },
   "outputs": [],
   "source": [
    "ey_at_40_ppm = pd.read_csv('Repitition_EY_at_40_ppm.csv')\n",
    "ey_at_50_ppm = pd.read_csv('Repitition_EY_at_50_ppm.csv')\n",
    "ey_at_60_ppm = pd.read_csv('Repitition_EY_at_60_ppm.csv')"
   ]
  },
  {
   "cell_type": "code",
   "execution_count": 39,
   "metadata": {
    "collapsed": true
   },
   "outputs": [],
   "source": [
    "me_at_60_ppm = pd.read_csv('Repitition_ME_at_60_ppm.csv')\n",
    "me_at_70_ppm = pd.read_csv('Repitition_ME_at_70_ppm.csv')\n",
    "me_at_80_ppm = pd.read_csv('Repitition_ME_at_80_ppm.csv')"
   ]
  },
  {
   "cell_type": "code",
   "execution_count": 40,
   "metadata": {
    "collapsed": true
   },
   "outputs": [],
   "source": [
    "# merge_co\n",
    "\n",
    "co_at_70_ppm['target'] = 1 # to represent concentration level 70\n",
    "co_at_80_ppm['target'] = 2 # to represent concentration level 80\n",
    "co_at_90_ppm['target'] = 3 # to represent concentration level 90\n",
    "\n",
    "ea_at_20_ppm['target'] = 1 # to represent concentration level 20\n",
    "ea_at_30_ppm['target'] = 2 # to represent concentration level 30\n",
    "ea_at_40_ppm['target'] = 3 # to represent concentration level 40\n",
    "\n",
    "ey_at_40_ppm['target'] = 1 # to represent concentration level 40\n",
    "ey_at_50_ppm['target'] = 2 # to represent concentration level 50\n",
    "ey_at_60_ppm['target'] = 3 # to represent concentration level 60\n",
    "\n",
    "me_at_60_ppm['target'] = 1 # to represent concentration level 60\n",
    "me_at_70_ppm['target'] = 2 # to represent concentration level 70\n",
    "me_at_80_ppm['target'] = 3 # to represent concentration level 80"
   ]
  },
  {
   "cell_type": "code",
   "execution_count": 41,
   "metadata": {
    "collapsed": true
   },
   "outputs": [],
   "source": [
    "co_at_70_ppm = co_at_70_ppm.drop(['Unnamed: 0', 'time'], axis = 1)\n",
    "co_at_80_ppm = co_at_80_ppm.drop(['Unnamed: 0', 'time'], axis = 1)\n",
    "co_at_90_ppm = co_at_90_ppm.drop(['Unnamed: 0', 'time'], axis = 1)\n",
    "\n",
    "ea_at_20_ppm = ea_at_20_ppm.drop(['Unnamed: 0', 'time'], axis = 1)\n",
    "ea_at_30_ppm = ea_at_30_ppm.drop(['Unnamed: 0', 'time'], axis = 1)\n",
    "ea_at_40_ppm = ea_at_40_ppm.drop(['Unnamed: 0', 'time'], axis = 1)\n",
    "\n",
    "ey_at_40_ppm = ey_at_40_ppm.drop(['Unnamed: 0', 'time'], axis = 1)\n",
    "ey_at_50_ppm = ey_at_50_ppm.drop(['Unnamed: 0', 'time'], axis = 1)\n",
    "ey_at_60_ppm = ey_at_60_ppm.drop(['Unnamed: 0', 'time'], axis = 1)\n",
    "\n",
    "\n",
    "me_at_60_ppm = me_at_60_ppm.drop(['Unnamed: 0', 'time'], axis = 1)\n",
    "me_at_70_ppm = me_at_70_ppm.drop(['Unnamed: 0', 'time'], axis = 1)\n",
    "me_at_80_ppm = me_at_80_ppm.drop(['Unnamed: 0', 'time'], axis = 1)\n",
    "\n",
    "\n"
   ]
  },
  {
   "cell_type": "code",
   "execution_count": 42,
   "metadata": {
    "collapsed": true
   },
   "outputs": [],
   "source": [
    "import numpy as np\n",
    "def append_values(l,m,n,key):\n",
    "    val_one = np.append(l[key],m[key])\n",
    "    return np.append(val_one, n[key])\n",
    "\n",
    "def deal_data(data1,data2,data3):\n",
    "    result_dict = {}\n",
    "    for key in data1.keys():\n",
    "        result_dict[key] = append_values(data1,data2,data3,key)\n",
    "    return pd.DataFrame(result_dict)"
   ]
  },
  {
   "cell_type": "code",
   "execution_count": 43,
   "metadata": {
    "collapsed": true
   },
   "outputs": [],
   "source": [
    "co_data = deal_data(co_at_70_ppm, co_at_80_ppm, co_at_90_ppm)\n",
    "ea_data = deal_data(ea_at_20_ppm, ea_at_30_ppm, ea_at_40_ppm)\n",
    "ey_data = deal_data(ey_at_40_ppm, ey_at_50_ppm, ey_at_60_ppm)\n",
    "me_data = deal_data(me_at_60_ppm, me_at_70_ppm, me_at_80_ppm)"
   ]
  },
  {
   "cell_type": "code",
   "execution_count": 44,
   "metadata": {},
   "outputs": [
    {
     "data": {
      "text/html": [
       "<div>\n",
       "<style>\n",
       "    .dataframe thead tr:only-child th {\n",
       "        text-align: right;\n",
       "    }\n",
       "\n",
       "    .dataframe thead th {\n",
       "        text-align: left;\n",
       "    }\n",
       "\n",
       "    .dataframe tbody tr th {\n",
       "        vertical-align: top;\n",
       "    }\n",
       "</style>\n",
       "<table border=\"1\" class=\"dataframe\">\n",
       "  <thead>\n",
       "    <tr style=\"text-align: right;\">\n",
       "      <th></th>\n",
       "      <th>sense_eight</th>\n",
       "      <th>sense_five</th>\n",
       "      <th>sense_four</th>\n",
       "      <th>sense_one</th>\n",
       "      <th>sense_seven</th>\n",
       "      <th>sense_six</th>\n",
       "      <th>sense_three</th>\n",
       "      <th>sense_two</th>\n",
       "      <th>target</th>\n",
       "    </tr>\n",
       "  </thead>\n",
       "  <tbody>\n",
       "    <tr>\n",
       "      <th>0</th>\n",
       "      <td>7.7250</td>\n",
       "      <td>77.7575</td>\n",
       "      <td>6.875</td>\n",
       "      <td>41.935</td>\n",
       "      <td>61.2100</td>\n",
       "      <td>47.1925</td>\n",
       "      <td>23.2900</td>\n",
       "      <td>20.2800</td>\n",
       "      <td>1</td>\n",
       "    </tr>\n",
       "    <tr>\n",
       "      <th>1</th>\n",
       "      <td>7.7225</td>\n",
       "      <td>77.7075</td>\n",
       "      <td>6.875</td>\n",
       "      <td>41.960</td>\n",
       "      <td>61.2100</td>\n",
       "      <td>47.2700</td>\n",
       "      <td>23.3075</td>\n",
       "      <td>20.3000</td>\n",
       "      <td>1</td>\n",
       "    </tr>\n",
       "    <tr>\n",
       "      <th>2</th>\n",
       "      <td>7.7300</td>\n",
       "      <td>77.7025</td>\n",
       "      <td>6.875</td>\n",
       "      <td>41.935</td>\n",
       "      <td>61.2100</td>\n",
       "      <td>47.1625</td>\n",
       "      <td>23.2800</td>\n",
       "      <td>20.2875</td>\n",
       "      <td>1</td>\n",
       "    </tr>\n",
       "    <tr>\n",
       "      <th>3</th>\n",
       "      <td>7.7250</td>\n",
       "      <td>77.7025</td>\n",
       "      <td>6.875</td>\n",
       "      <td>41.915</td>\n",
       "      <td>61.1775</td>\n",
       "      <td>47.2625</td>\n",
       "      <td>23.2900</td>\n",
       "      <td>20.2800</td>\n",
       "      <td>1</td>\n",
       "    </tr>\n",
       "    <tr>\n",
       "      <th>4</th>\n",
       "      <td>7.7250</td>\n",
       "      <td>77.7575</td>\n",
       "      <td>6.875</td>\n",
       "      <td>41.960</td>\n",
       "      <td>61.1600</td>\n",
       "      <td>47.2450</td>\n",
       "      <td>23.2900</td>\n",
       "      <td>20.3025</td>\n",
       "      <td>1</td>\n",
       "    </tr>\n",
       "  </tbody>\n",
       "</table>\n",
       "</div>"
      ],
      "text/plain": [
       "   sense_eight  sense_five  sense_four  sense_one  sense_seven  sense_six  \\\n",
       "0       7.7250     77.7575       6.875     41.935      61.2100    47.1925   \n",
       "1       7.7225     77.7075       6.875     41.960      61.2100    47.2700   \n",
       "2       7.7300     77.7025       6.875     41.935      61.2100    47.1625   \n",
       "3       7.7250     77.7025       6.875     41.915      61.1775    47.2625   \n",
       "4       7.7250     77.7575       6.875     41.960      61.1600    47.2450   \n",
       "\n",
       "   sense_three  sense_two  target  \n",
       "0      23.2900    20.2800       1  \n",
       "1      23.3075    20.3000       1  \n",
       "2      23.2800    20.2875       1  \n",
       "3      23.2900    20.2800       1  \n",
       "4      23.2900    20.3025       1  "
      ]
     },
     "execution_count": 44,
     "metadata": {},
     "output_type": "execute_result"
    }
   ],
   "source": [
    "co_data.head()"
   ]
  },
  {
   "cell_type": "code",
   "execution_count": 45,
   "metadata": {},
   "outputs": [
    {
     "data": {
      "text/plain": [
       "((179974, 9), (179998, 9), (180000, 9), (179979, 9))"
      ]
     },
     "execution_count": 45,
     "metadata": {},
     "output_type": "execute_result"
    }
   ],
   "source": [
    "co_data.shape,ea_data.shape, ey_data.shape, me_data.shape"
   ]
  },
  {
   "cell_type": "code",
   "execution_count": 46,
   "metadata": {},
   "outputs": [
    {
     "data": {
      "text/html": [
       "<div>\n",
       "<style>\n",
       "    .dataframe thead tr:only-child th {\n",
       "        text-align: right;\n",
       "    }\n",
       "\n",
       "    .dataframe thead th {\n",
       "        text-align: left;\n",
       "    }\n",
       "\n",
       "    .dataframe tbody tr th {\n",
       "        vertical-align: top;\n",
       "    }\n",
       "</style>\n",
       "<table border=\"1\" class=\"dataframe\">\n",
       "  <thead>\n",
       "    <tr style=\"text-align: right;\">\n",
       "      <th></th>\n",
       "      <th>sense_eight</th>\n",
       "      <th>sense_five</th>\n",
       "      <th>sense_four</th>\n",
       "      <th>sense_one</th>\n",
       "      <th>sense_seven</th>\n",
       "      <th>sense_six</th>\n",
       "      <th>sense_three</th>\n",
       "      <th>sense_two</th>\n",
       "      <th>target</th>\n",
       "    </tr>\n",
       "  </thead>\n",
       "  <tbody>\n",
       "    <tr>\n",
       "      <th>0</th>\n",
       "      <td>7.125</td>\n",
       "      <td>80.0425</td>\n",
       "      <td>6.3950</td>\n",
       "      <td>43.2400</td>\n",
       "      <td>62.7175</td>\n",
       "      <td>48.1375</td>\n",
       "      <td>23.9725</td>\n",
       "      <td>20.7750</td>\n",
       "      <td>1</td>\n",
       "    </tr>\n",
       "    <tr>\n",
       "      <th>1</th>\n",
       "      <td>7.130</td>\n",
       "      <td>80.1000</td>\n",
       "      <td>6.3950</td>\n",
       "      <td>43.1925</td>\n",
       "      <td>62.7175</td>\n",
       "      <td>48.1325</td>\n",
       "      <td>23.9875</td>\n",
       "      <td>20.7650</td>\n",
       "      <td>1</td>\n",
       "    </tr>\n",
       "    <tr>\n",
       "      <th>2</th>\n",
       "      <td>7.120</td>\n",
       "      <td>80.0425</td>\n",
       "      <td>6.3950</td>\n",
       "      <td>43.2425</td>\n",
       "      <td>62.6825</td>\n",
       "      <td>48.1600</td>\n",
       "      <td>23.9725</td>\n",
       "      <td>20.7650</td>\n",
       "      <td>1</td>\n",
       "    </tr>\n",
       "    <tr>\n",
       "      <th>3</th>\n",
       "      <td>7.130</td>\n",
       "      <td>80.0425</td>\n",
       "      <td>6.3950</td>\n",
       "      <td>43.2425</td>\n",
       "      <td>62.7175</td>\n",
       "      <td>48.1925</td>\n",
       "      <td>23.9925</td>\n",
       "      <td>20.7650</td>\n",
       "      <td>1</td>\n",
       "    </tr>\n",
       "    <tr>\n",
       "      <th>4</th>\n",
       "      <td>7.130</td>\n",
       "      <td>80.0425</td>\n",
       "      <td>6.3925</td>\n",
       "      <td>43.2425</td>\n",
       "      <td>62.6825</td>\n",
       "      <td>48.1650</td>\n",
       "      <td>23.9800</td>\n",
       "      <td>20.7575</td>\n",
       "      <td>1</td>\n",
       "    </tr>\n",
       "  </tbody>\n",
       "</table>\n",
       "</div>"
      ],
      "text/plain": [
       "   sense_eight  sense_five  sense_four  sense_one  sense_seven  sense_six  \\\n",
       "0        7.125     80.0425      6.3950    43.2400      62.7175    48.1375   \n",
       "1        7.130     80.1000      6.3950    43.1925      62.7175    48.1325   \n",
       "2        7.120     80.0425      6.3950    43.2425      62.6825    48.1600   \n",
       "3        7.130     80.0425      6.3950    43.2425      62.7175    48.1925   \n",
       "4        7.130     80.0425      6.3925    43.2425      62.6825    48.1650   \n",
       "\n",
       "   sense_three  sense_two  target  \n",
       "0      23.9725    20.7750       1  \n",
       "1      23.9875    20.7650       1  \n",
       "2      23.9725    20.7650       1  \n",
       "3      23.9925    20.7650       1  \n",
       "4      23.9800    20.7575       1  "
      ]
     },
     "execution_count": 46,
     "metadata": {},
     "output_type": "execute_result"
    }
   ],
   "source": [
    "ea_data.head()"
   ]
  },
  {
   "cell_type": "code",
   "execution_count": 47,
   "metadata": {},
   "outputs": [
    {
     "data": {
      "text/html": [
       "<div>\n",
       "<style>\n",
       "    .dataframe thead tr:only-child th {\n",
       "        text-align: right;\n",
       "    }\n",
       "\n",
       "    .dataframe thead th {\n",
       "        text-align: left;\n",
       "    }\n",
       "\n",
       "    .dataframe tbody tr th {\n",
       "        vertical-align: top;\n",
       "    }\n",
       "</style>\n",
       "<table border=\"1\" class=\"dataframe\">\n",
       "  <thead>\n",
       "    <tr style=\"text-align: right;\">\n",
       "      <th></th>\n",
       "      <th>sense_eight</th>\n",
       "      <th>sense_five</th>\n",
       "      <th>sense_four</th>\n",
       "      <th>sense_one</th>\n",
       "      <th>sense_seven</th>\n",
       "      <th>sense_six</th>\n",
       "      <th>sense_three</th>\n",
       "      <th>sense_two</th>\n",
       "      <th>target</th>\n",
       "    </tr>\n",
       "  </thead>\n",
       "  <tbody>\n",
       "    <tr>\n",
       "      <th>0</th>\n",
       "      <td>7.5075</td>\n",
       "      <td>74.6050</td>\n",
       "      <td>6.7550</td>\n",
       "      <td>40.265</td>\n",
       "      <td>58.950</td>\n",
       "      <td>45.240</td>\n",
       "      <td>22.4025</td>\n",
       "      <td>19.4275</td>\n",
       "      <td>1</td>\n",
       "    </tr>\n",
       "    <tr>\n",
       "      <th>1</th>\n",
       "      <td>7.5025</td>\n",
       "      <td>74.6050</td>\n",
       "      <td>6.7525</td>\n",
       "      <td>40.280</td>\n",
       "      <td>59.075</td>\n",
       "      <td>45.240</td>\n",
       "      <td>22.4025</td>\n",
       "      <td>19.4300</td>\n",
       "      <td>1</td>\n",
       "    </tr>\n",
       "    <tr>\n",
       "      <th>2</th>\n",
       "      <td>7.5100</td>\n",
       "      <td>74.6625</td>\n",
       "      <td>6.7525</td>\n",
       "      <td>40.265</td>\n",
       "      <td>58.995</td>\n",
       "      <td>45.215</td>\n",
       "      <td>22.4025</td>\n",
       "      <td>19.4150</td>\n",
       "      <td>1</td>\n",
       "    </tr>\n",
       "    <tr>\n",
       "      <th>3</th>\n",
       "      <td>7.5075</td>\n",
       "      <td>74.6625</td>\n",
       "      <td>6.7525</td>\n",
       "      <td>40.265</td>\n",
       "      <td>59.005</td>\n",
       "      <td>45.220</td>\n",
       "      <td>22.3925</td>\n",
       "      <td>19.4100</td>\n",
       "      <td>1</td>\n",
       "    </tr>\n",
       "    <tr>\n",
       "      <th>4</th>\n",
       "      <td>7.5100</td>\n",
       "      <td>74.7100</td>\n",
       "      <td>6.7525</td>\n",
       "      <td>40.265</td>\n",
       "      <td>59.005</td>\n",
       "      <td>45.190</td>\n",
       "      <td>22.4025</td>\n",
       "      <td>19.4025</td>\n",
       "      <td>1</td>\n",
       "    </tr>\n",
       "  </tbody>\n",
       "</table>\n",
       "</div>"
      ],
      "text/plain": [
       "   sense_eight  sense_five  sense_four  sense_one  sense_seven  sense_six  \\\n",
       "0       7.5075     74.6050      6.7550     40.265       58.950     45.240   \n",
       "1       7.5025     74.6050      6.7525     40.280       59.075     45.240   \n",
       "2       7.5100     74.6625      6.7525     40.265       58.995     45.215   \n",
       "3       7.5075     74.6625      6.7525     40.265       59.005     45.220   \n",
       "4       7.5100     74.7100      6.7525     40.265       59.005     45.190   \n",
       "\n",
       "   sense_three  sense_two  target  \n",
       "0      22.4025    19.4275       1  \n",
       "1      22.4025    19.4300       1  \n",
       "2      22.4025    19.4150       1  \n",
       "3      22.3925    19.4100       1  \n",
       "4      22.4025    19.4025       1  "
      ]
     },
     "execution_count": 47,
     "metadata": {},
     "output_type": "execute_result"
    }
   ],
   "source": [
    "ey_data.head()"
   ]
  },
  {
   "cell_type": "code",
   "execution_count": 48,
   "metadata": {},
   "outputs": [
    {
     "data": {
      "text/html": [
       "<div>\n",
       "<style>\n",
       "    .dataframe thead tr:only-child th {\n",
       "        text-align: right;\n",
       "    }\n",
       "\n",
       "    .dataframe thead th {\n",
       "        text-align: left;\n",
       "    }\n",
       "\n",
       "    .dataframe tbody tr th {\n",
       "        vertical-align: top;\n",
       "    }\n",
       "</style>\n",
       "<table border=\"1\" class=\"dataframe\">\n",
       "  <thead>\n",
       "    <tr style=\"text-align: right;\">\n",
       "      <th></th>\n",
       "      <th>sense_eight</th>\n",
       "      <th>sense_five</th>\n",
       "      <th>sense_four</th>\n",
       "      <th>sense_one</th>\n",
       "      <th>sense_seven</th>\n",
       "      <th>sense_six</th>\n",
       "      <th>sense_three</th>\n",
       "      <th>sense_two</th>\n",
       "      <th>target</th>\n",
       "    </tr>\n",
       "  </thead>\n",
       "  <tbody>\n",
       "    <tr>\n",
       "      <th>0</th>\n",
       "      <td>7.7250</td>\n",
       "      <td>77.7575</td>\n",
       "      <td>6.875</td>\n",
       "      <td>41.935</td>\n",
       "      <td>61.2100</td>\n",
       "      <td>47.1925</td>\n",
       "      <td>23.2900</td>\n",
       "      <td>20.2800</td>\n",
       "      <td>1</td>\n",
       "    </tr>\n",
       "    <tr>\n",
       "      <th>1</th>\n",
       "      <td>7.7225</td>\n",
       "      <td>77.7075</td>\n",
       "      <td>6.875</td>\n",
       "      <td>41.960</td>\n",
       "      <td>61.2100</td>\n",
       "      <td>47.2700</td>\n",
       "      <td>23.3075</td>\n",
       "      <td>20.3000</td>\n",
       "      <td>1</td>\n",
       "    </tr>\n",
       "    <tr>\n",
       "      <th>2</th>\n",
       "      <td>7.7300</td>\n",
       "      <td>77.7025</td>\n",
       "      <td>6.875</td>\n",
       "      <td>41.935</td>\n",
       "      <td>61.2100</td>\n",
       "      <td>47.1625</td>\n",
       "      <td>23.2800</td>\n",
       "      <td>20.2875</td>\n",
       "      <td>1</td>\n",
       "    </tr>\n",
       "    <tr>\n",
       "      <th>3</th>\n",
       "      <td>7.7250</td>\n",
       "      <td>77.7025</td>\n",
       "      <td>6.875</td>\n",
       "      <td>41.915</td>\n",
       "      <td>61.1775</td>\n",
       "      <td>47.2625</td>\n",
       "      <td>23.2900</td>\n",
       "      <td>20.2800</td>\n",
       "      <td>1</td>\n",
       "    </tr>\n",
       "    <tr>\n",
       "      <th>4</th>\n",
       "      <td>7.7250</td>\n",
       "      <td>77.7575</td>\n",
       "      <td>6.875</td>\n",
       "      <td>41.960</td>\n",
       "      <td>61.1600</td>\n",
       "      <td>47.2450</td>\n",
       "      <td>23.2900</td>\n",
       "      <td>20.3025</td>\n",
       "      <td>1</td>\n",
       "    </tr>\n",
       "  </tbody>\n",
       "</table>\n",
       "</div>"
      ],
      "text/plain": [
       "   sense_eight  sense_five  sense_four  sense_one  sense_seven  sense_six  \\\n",
       "0       7.7250     77.7575       6.875     41.935      61.2100    47.1925   \n",
       "1       7.7225     77.7075       6.875     41.960      61.2100    47.2700   \n",
       "2       7.7300     77.7025       6.875     41.935      61.2100    47.1625   \n",
       "3       7.7250     77.7025       6.875     41.915      61.1775    47.2625   \n",
       "4       7.7250     77.7575       6.875     41.960      61.1600    47.2450   \n",
       "\n",
       "   sense_three  sense_two  target  \n",
       "0      23.2900    20.2800       1  \n",
       "1      23.3075    20.3000       1  \n",
       "2      23.2800    20.2875       1  \n",
       "3      23.2900    20.2800       1  \n",
       "4      23.2900    20.3025       1  "
      ]
     },
     "execution_count": 48,
     "metadata": {},
     "output_type": "execute_result"
    }
   ],
   "source": [
    "co_data.head()"
   ]
  },
  {
   "cell_type": "code",
   "execution_count": 49,
   "metadata": {},
   "outputs": [
    {
     "data": {
      "text/html": [
       "<div>\n",
       "<style>\n",
       "    .dataframe thead tr:only-child th {\n",
       "        text-align: right;\n",
       "    }\n",
       "\n",
       "    .dataframe thead th {\n",
       "        text-align: left;\n",
       "    }\n",
       "\n",
       "    .dataframe tbody tr th {\n",
       "        vertical-align: top;\n",
       "    }\n",
       "</style>\n",
       "<table border=\"1\" class=\"dataframe\">\n",
       "  <thead>\n",
       "    <tr style=\"text-align: right;\">\n",
       "      <th></th>\n",
       "      <th>sense_eight</th>\n",
       "      <th>sense_five</th>\n",
       "      <th>sense_four</th>\n",
       "      <th>sense_one</th>\n",
       "      <th>sense_seven</th>\n",
       "      <th>sense_six</th>\n",
       "      <th>sense_three</th>\n",
       "      <th>sense_two</th>\n",
       "      <th>target</th>\n",
       "    </tr>\n",
       "  </thead>\n",
       "  <tbody>\n",
       "    <tr>\n",
       "      <th>0</th>\n",
       "      <td>7.520</td>\n",
       "      <td>72.220</td>\n",
       "      <td>6.7175</td>\n",
       "      <td>39.2275</td>\n",
       "      <td>57.0875</td>\n",
       "      <td>44.3650</td>\n",
       "      <td>21.7850</td>\n",
       "      <td>19.0575</td>\n",
       "      <td>1</td>\n",
       "    </tr>\n",
       "    <tr>\n",
       "      <th>1</th>\n",
       "      <td>7.510</td>\n",
       "      <td>72.215</td>\n",
       "      <td>6.7150</td>\n",
       "      <td>39.2275</td>\n",
       "      <td>57.1200</td>\n",
       "      <td>44.3400</td>\n",
       "      <td>21.8025</td>\n",
       "      <td>19.0575</td>\n",
       "      <td>1</td>\n",
       "    </tr>\n",
       "    <tr>\n",
       "      <th>2</th>\n",
       "      <td>7.515</td>\n",
       "      <td>72.165</td>\n",
       "      <td>6.7125</td>\n",
       "      <td>39.2300</td>\n",
       "      <td>57.1200</td>\n",
       "      <td>44.2675</td>\n",
       "      <td>21.7950</td>\n",
       "      <td>19.0725</td>\n",
       "      <td>1</td>\n",
       "    </tr>\n",
       "    <tr>\n",
       "      <th>3</th>\n",
       "      <td>7.510</td>\n",
       "      <td>72.280</td>\n",
       "      <td>6.7125</td>\n",
       "      <td>39.1925</td>\n",
       "      <td>57.0475</td>\n",
       "      <td>44.2950</td>\n",
       "      <td>21.7950</td>\n",
       "      <td>19.0725</td>\n",
       "      <td>1</td>\n",
       "    </tr>\n",
       "    <tr>\n",
       "      <th>4</th>\n",
       "      <td>7.510</td>\n",
       "      <td>72.225</td>\n",
       "      <td>6.7125</td>\n",
       "      <td>39.2100</td>\n",
       "      <td>57.0875</td>\n",
       "      <td>44.2950</td>\n",
       "      <td>21.7950</td>\n",
       "      <td>19.0575</td>\n",
       "      <td>1</td>\n",
       "    </tr>\n",
       "  </tbody>\n",
       "</table>\n",
       "</div>"
      ],
      "text/plain": [
       "   sense_eight  sense_five  sense_four  sense_one  sense_seven  sense_six  \\\n",
       "0        7.520      72.220      6.7175    39.2275      57.0875    44.3650   \n",
       "1        7.510      72.215      6.7150    39.2275      57.1200    44.3400   \n",
       "2        7.515      72.165      6.7125    39.2300      57.1200    44.2675   \n",
       "3        7.510      72.280      6.7125    39.1925      57.0475    44.2950   \n",
       "4        7.510      72.225      6.7125    39.2100      57.0875    44.2950   \n",
       "\n",
       "   sense_three  sense_two  target  \n",
       "0      21.7850    19.0575       1  \n",
       "1      21.8025    19.0575       1  \n",
       "2      21.7950    19.0725       1  \n",
       "3      21.7950    19.0725       1  \n",
       "4      21.7950    19.0575       1  "
      ]
     },
     "execution_count": 49,
     "metadata": {},
     "output_type": "execute_result"
    }
   ],
   "source": [
    "me_data.head()"
   ]
  },
  {
   "cell_type": "markdown",
   "metadata": {},
   "source": [
    "# regression to classifier on CO"
   ]
  },
  {
   "cell_type": "code",
   "execution_count": 51,
   "metadata": {
    "collapsed": true
   },
   "outputs": [],
   "source": [
    "from sklearn.model_selection import train_test_split"
   ]
  },
  {
   "cell_type": "code",
   "execution_count": 52,
   "metadata": {},
   "outputs": [
    {
     "data": {
      "text/html": [
       "<div>\n",
       "<style>\n",
       "    .dataframe thead tr:only-child th {\n",
       "        text-align: right;\n",
       "    }\n",
       "\n",
       "    .dataframe thead th {\n",
       "        text-align: left;\n",
       "    }\n",
       "\n",
       "    .dataframe tbody tr th {\n",
       "        vertical-align: top;\n",
       "    }\n",
       "</style>\n",
       "<table border=\"1\" class=\"dataframe\">\n",
       "  <thead>\n",
       "    <tr style=\"text-align: right;\">\n",
       "      <th></th>\n",
       "      <th>sense_eight</th>\n",
       "      <th>sense_five</th>\n",
       "      <th>sense_four</th>\n",
       "      <th>sense_one</th>\n",
       "      <th>sense_seven</th>\n",
       "      <th>sense_six</th>\n",
       "      <th>sense_three</th>\n",
       "      <th>sense_two</th>\n",
       "      <th>target</th>\n",
       "    </tr>\n",
       "  </thead>\n",
       "  <tbody>\n",
       "    <tr>\n",
       "      <th>0</th>\n",
       "      <td>7.7250</td>\n",
       "      <td>77.7575</td>\n",
       "      <td>6.875</td>\n",
       "      <td>41.935</td>\n",
       "      <td>61.2100</td>\n",
       "      <td>47.1925</td>\n",
       "      <td>23.2900</td>\n",
       "      <td>20.2800</td>\n",
       "      <td>1</td>\n",
       "    </tr>\n",
       "    <tr>\n",
       "      <th>1</th>\n",
       "      <td>7.7225</td>\n",
       "      <td>77.7075</td>\n",
       "      <td>6.875</td>\n",
       "      <td>41.960</td>\n",
       "      <td>61.2100</td>\n",
       "      <td>47.2700</td>\n",
       "      <td>23.3075</td>\n",
       "      <td>20.3000</td>\n",
       "      <td>1</td>\n",
       "    </tr>\n",
       "    <tr>\n",
       "      <th>2</th>\n",
       "      <td>7.7300</td>\n",
       "      <td>77.7025</td>\n",
       "      <td>6.875</td>\n",
       "      <td>41.935</td>\n",
       "      <td>61.2100</td>\n",
       "      <td>47.1625</td>\n",
       "      <td>23.2800</td>\n",
       "      <td>20.2875</td>\n",
       "      <td>1</td>\n",
       "    </tr>\n",
       "    <tr>\n",
       "      <th>3</th>\n",
       "      <td>7.7250</td>\n",
       "      <td>77.7025</td>\n",
       "      <td>6.875</td>\n",
       "      <td>41.915</td>\n",
       "      <td>61.1775</td>\n",
       "      <td>47.2625</td>\n",
       "      <td>23.2900</td>\n",
       "      <td>20.2800</td>\n",
       "      <td>1</td>\n",
       "    </tr>\n",
       "    <tr>\n",
       "      <th>4</th>\n",
       "      <td>7.7250</td>\n",
       "      <td>77.7575</td>\n",
       "      <td>6.875</td>\n",
       "      <td>41.960</td>\n",
       "      <td>61.1600</td>\n",
       "      <td>47.2450</td>\n",
       "      <td>23.2900</td>\n",
       "      <td>20.3025</td>\n",
       "      <td>1</td>\n",
       "    </tr>\n",
       "  </tbody>\n",
       "</table>\n",
       "</div>"
      ],
      "text/plain": [
       "   sense_eight  sense_five  sense_four  sense_one  sense_seven  sense_six  \\\n",
       "0       7.7250     77.7575       6.875     41.935      61.2100    47.1925   \n",
       "1       7.7225     77.7075       6.875     41.960      61.2100    47.2700   \n",
       "2       7.7300     77.7025       6.875     41.935      61.2100    47.1625   \n",
       "3       7.7250     77.7025       6.875     41.915      61.1775    47.2625   \n",
       "4       7.7250     77.7575       6.875     41.960      61.1600    47.2450   \n",
       "\n",
       "   sense_three  sense_two  target  \n",
       "0      23.2900    20.2800       1  \n",
       "1      23.3075    20.3000       1  \n",
       "2      23.2800    20.2875       1  \n",
       "3      23.2900    20.2800       1  \n",
       "4      23.2900    20.3025       1  "
      ]
     },
     "execution_count": 52,
     "metadata": {},
     "output_type": "execute_result"
    }
   ],
   "source": [
    "co_data = co_data.dropna(axis = 0, how = 'any')\n",
    "co_data.head()"
   ]
  },
  {
   "cell_type": "code",
   "execution_count": 53,
   "metadata": {},
   "outputs": [
    {
     "data": {
      "text/plain": [
       "sense_eight    0\n",
       "sense_five     0\n",
       "sense_four     0\n",
       "sense_one      0\n",
       "sense_seven    0\n",
       "sense_six      0\n",
       "sense_three    0\n",
       "sense_two      0\n",
       "target         0\n",
       "dtype: int64"
      ]
     },
     "execution_count": 53,
     "metadata": {},
     "output_type": "execute_result"
    }
   ],
   "source": [
    "co_data.isnull().sum()"
   ]
  },
  {
   "cell_type": "code",
   "execution_count": 54,
   "metadata": {},
   "outputs": [
    {
     "data": {
      "text/plain": [
       "(175429, 9)"
      ]
     },
     "execution_count": 54,
     "metadata": {},
     "output_type": "execute_result"
    }
   ],
   "source": [
    "co_data.shape"
   ]
  },
  {
   "cell_type": "code",
   "execution_count": 55,
   "metadata": {
    "collapsed": true
   },
   "outputs": [],
   "source": [
    "X = co_data.drop('target', axis = 1)\n",
    "y = co_data['target']\n",
    "x_train, x_test, y_train, y_test = train_test_split(X, y, train_size = 0.80, random_state = 500)"
   ]
  },
  {
   "cell_type": "code",
   "execution_count": 56,
   "metadata": {
    "collapsed": true
   },
   "outputs": [],
   "source": [
    "from sklearn.preprocessing import StandardScaler\n",
    "from sklearn.preprocessing import MinMaxScaler\n",
    "from sklearn.preprocessing import Normalizer"
   ]
  },
  {
   "cell_type": "code",
   "execution_count": 57,
   "metadata": {
    "collapsed": true
   },
   "outputs": [],
   "source": [
    "std_scaler = StandardScaler()\n",
    "max_scaler = MinMaxScaler()\n",
    "norm = Normalizer()\n",
    "\n",
    "x_train_scale = std_scaler.fit_transform(x_train)\n",
    "x_train_max = max_scaler.fit_transform(x_train_scale)\n",
    "x_train_norm = norm.fit_transform(x_train_max)\n",
    "\n",
    "x_test_scale = std_scaler.fit_transform(x_test)\n",
    "x_test_max = max_scaler.fit_transform(x_test_scale)\n",
    "x_test_norm = norm.fit_transform(x_test_max)"
   ]
  },
  {
   "cell_type": "code",
   "execution_count": 58,
   "metadata": {},
   "outputs": [
    {
     "data": {
      "text/plain": [
       "0.97298048352963806"
      ]
     },
     "execution_count": 58,
     "metadata": {},
     "output_type": "execute_result"
    }
   ],
   "source": [
    "from sklearn.neighbors import KNeighborsClassifier\n",
    "knn = KNeighborsClassifier(n_neighbors = 4)\n",
    "knn.fit(x_train_scale, y_train)\n",
    "knn.score(x_train_scale, y_train)"
   ]
  },
  {
   "cell_type": "code",
   "execution_count": 59,
   "metadata": {},
   "outputs": [
    {
     "data": {
      "text/plain": [
       "0.84349059090941481"
      ]
     },
     "execution_count": 59,
     "metadata": {},
     "output_type": "execute_result"
    }
   ],
   "source": [
    "from sklearn.svm import SVC\n",
    "svc = SVC(C = 1.0, kernel = 'linear')\n",
    "svc.fit(x_train_scale, y_train)\n",
    "svc.score(x_train_scale, y_train)"
   ]
  },
  {
   "cell_type": "markdown",
   "metadata": {},
   "source": [
    "# linear regression to classifier on EA"
   ]
  },
  {
   "cell_type": "code",
   "execution_count": 60,
   "metadata": {},
   "outputs": [
    {
     "data": {
      "text/html": [
       "<div>\n",
       "<style>\n",
       "    .dataframe thead tr:only-child th {\n",
       "        text-align: right;\n",
       "    }\n",
       "\n",
       "    .dataframe thead th {\n",
       "        text-align: left;\n",
       "    }\n",
       "\n",
       "    .dataframe tbody tr th {\n",
       "        vertical-align: top;\n",
       "    }\n",
       "</style>\n",
       "<table border=\"1\" class=\"dataframe\">\n",
       "  <thead>\n",
       "    <tr style=\"text-align: right;\">\n",
       "      <th></th>\n",
       "      <th>sense_eight</th>\n",
       "      <th>sense_five</th>\n",
       "      <th>sense_four</th>\n",
       "      <th>sense_one</th>\n",
       "      <th>sense_seven</th>\n",
       "      <th>sense_six</th>\n",
       "      <th>sense_three</th>\n",
       "      <th>sense_two</th>\n",
       "      <th>target</th>\n",
       "    </tr>\n",
       "  </thead>\n",
       "  <tbody>\n",
       "    <tr>\n",
       "      <th>0</th>\n",
       "      <td>7.7250</td>\n",
       "      <td>77.7575</td>\n",
       "      <td>6.875</td>\n",
       "      <td>41.935</td>\n",
       "      <td>61.2100</td>\n",
       "      <td>47.1925</td>\n",
       "      <td>23.2900</td>\n",
       "      <td>20.2800</td>\n",
       "      <td>1</td>\n",
       "    </tr>\n",
       "    <tr>\n",
       "      <th>1</th>\n",
       "      <td>7.7225</td>\n",
       "      <td>77.7075</td>\n",
       "      <td>6.875</td>\n",
       "      <td>41.960</td>\n",
       "      <td>61.2100</td>\n",
       "      <td>47.2700</td>\n",
       "      <td>23.3075</td>\n",
       "      <td>20.3000</td>\n",
       "      <td>1</td>\n",
       "    </tr>\n",
       "    <tr>\n",
       "      <th>2</th>\n",
       "      <td>7.7300</td>\n",
       "      <td>77.7025</td>\n",
       "      <td>6.875</td>\n",
       "      <td>41.935</td>\n",
       "      <td>61.2100</td>\n",
       "      <td>47.1625</td>\n",
       "      <td>23.2800</td>\n",
       "      <td>20.2875</td>\n",
       "      <td>1</td>\n",
       "    </tr>\n",
       "    <tr>\n",
       "      <th>3</th>\n",
       "      <td>7.7250</td>\n",
       "      <td>77.7025</td>\n",
       "      <td>6.875</td>\n",
       "      <td>41.915</td>\n",
       "      <td>61.1775</td>\n",
       "      <td>47.2625</td>\n",
       "      <td>23.2900</td>\n",
       "      <td>20.2800</td>\n",
       "      <td>1</td>\n",
       "    </tr>\n",
       "    <tr>\n",
       "      <th>4</th>\n",
       "      <td>7.7250</td>\n",
       "      <td>77.7575</td>\n",
       "      <td>6.875</td>\n",
       "      <td>41.960</td>\n",
       "      <td>61.1600</td>\n",
       "      <td>47.2450</td>\n",
       "      <td>23.2900</td>\n",
       "      <td>20.3025</td>\n",
       "      <td>1</td>\n",
       "    </tr>\n",
       "  </tbody>\n",
       "</table>\n",
       "</div>"
      ],
      "text/plain": [
       "   sense_eight  sense_five  sense_four  sense_one  sense_seven  sense_six  \\\n",
       "0       7.7250     77.7575       6.875     41.935      61.2100    47.1925   \n",
       "1       7.7225     77.7075       6.875     41.960      61.2100    47.2700   \n",
       "2       7.7300     77.7025       6.875     41.935      61.2100    47.1625   \n",
       "3       7.7250     77.7025       6.875     41.915      61.1775    47.2625   \n",
       "4       7.7250     77.7575       6.875     41.960      61.1600    47.2450   \n",
       "\n",
       "   sense_three  sense_two  target  \n",
       "0      23.2900    20.2800       1  \n",
       "1      23.3075    20.3000       1  \n",
       "2      23.2800    20.2875       1  \n",
       "3      23.2900    20.2800       1  \n",
       "4      23.2900    20.3025       1  "
      ]
     },
     "execution_count": 60,
     "metadata": {},
     "output_type": "execute_result"
    }
   ],
   "source": [
    "ea_data = co_data.dropna(axis = 0, how = 'any')\n",
    "ea_data.head()"
   ]
  },
  {
   "cell_type": "code",
   "execution_count": 61,
   "metadata": {},
   "outputs": [
    {
     "data": {
      "text/plain": [
       "sense_eight    0\n",
       "sense_five     0\n",
       "sense_four     0\n",
       "sense_one      0\n",
       "sense_seven    0\n",
       "sense_six      0\n",
       "sense_three    0\n",
       "sense_two      0\n",
       "target         0\n",
       "dtype: int64"
      ]
     },
     "execution_count": 61,
     "metadata": {},
     "output_type": "execute_result"
    }
   ],
   "source": [
    "ea_data.isnull().sum()"
   ]
  },
  {
   "cell_type": "code",
   "execution_count": 62,
   "metadata": {
    "collapsed": true
   },
   "outputs": [],
   "source": [
    "X = ea_data.drop('target', axis = 1)\n",
    "y = ea_data['target']\n",
    "x_train, x_test, y_train, y_test = train_test_split(X, y, train_size = 0.80, random_state = 500)"
   ]
  },
  {
   "cell_type": "code",
   "execution_count": 63,
   "metadata": {
    "collapsed": true
   },
   "outputs": [],
   "source": [
    "std_scaler = StandardScaler()\n",
    "max_scaler = MinMaxScaler()\n",
    "norm = Normalizer()\n",
    "\n",
    "x_train_scale = std_scaler.fit_transform(x_train)\n",
    "x_train_max = max_scaler.fit_transform(x_train_scale)\n",
    "x_train_norm = norm.fit_transform(x_train_max)\n",
    "\n",
    "x_test_scale = std_scaler.fit_transform(x_test)\n",
    "x_test_max = max_scaler.fit_transform(x_test_scale)\n",
    "x_test_norm = norm.fit_transform(x_test_max)"
   ]
  },
  {
   "cell_type": "code",
   "execution_count": 64,
   "metadata": {},
   "outputs": [
    {
     "data": {
      "text/plain": [
       "0.97298048352963806"
      ]
     },
     "execution_count": 64,
     "metadata": {},
     "output_type": "execute_result"
    }
   ],
   "source": [
    "from sklearn.neighbors import KNeighborsClassifier\n",
    "knn = KNeighborsClassifier(n_neighbors = 4)\n",
    "knn.fit(x_train_scale, y_train)\n",
    "knn.score(x_train_scale, y_train)"
   ]
  },
  {
   "cell_type": "code",
   "execution_count": 65,
   "metadata": {},
   "outputs": [
    {
     "data": {
      "text/plain": [
       "0.84349059090941481"
      ]
     },
     "execution_count": 65,
     "metadata": {},
     "output_type": "execute_result"
    }
   ],
   "source": [
    "from sklearn.svm import SVC\n",
    "svc = SVC(C = 1.0, kernel = 'linear')\n",
    "svc.fit(x_train_scale, y_train)\n",
    "svc.score(x_train_scale, y_train)"
   ]
  },
  {
   "cell_type": "markdown",
   "metadata": {},
   "source": [
    "# linear regression to classifier on EY"
   ]
  },
  {
   "cell_type": "code",
   "execution_count": 66,
   "metadata": {},
   "outputs": [
    {
     "data": {
      "text/html": [
       "<div>\n",
       "<style>\n",
       "    .dataframe thead tr:only-child th {\n",
       "        text-align: right;\n",
       "    }\n",
       "\n",
       "    .dataframe thead th {\n",
       "        text-align: left;\n",
       "    }\n",
       "\n",
       "    .dataframe tbody tr th {\n",
       "        vertical-align: top;\n",
       "    }\n",
       "</style>\n",
       "<table border=\"1\" class=\"dataframe\">\n",
       "  <thead>\n",
       "    <tr style=\"text-align: right;\">\n",
       "      <th></th>\n",
       "      <th>sense_eight</th>\n",
       "      <th>sense_five</th>\n",
       "      <th>sense_four</th>\n",
       "      <th>sense_one</th>\n",
       "      <th>sense_seven</th>\n",
       "      <th>sense_six</th>\n",
       "      <th>sense_three</th>\n",
       "      <th>sense_two</th>\n",
       "      <th>target</th>\n",
       "    </tr>\n",
       "  </thead>\n",
       "  <tbody>\n",
       "    <tr>\n",
       "      <th>0</th>\n",
       "      <td>7.7250</td>\n",
       "      <td>77.7575</td>\n",
       "      <td>6.875</td>\n",
       "      <td>41.935</td>\n",
       "      <td>61.2100</td>\n",
       "      <td>47.1925</td>\n",
       "      <td>23.2900</td>\n",
       "      <td>20.2800</td>\n",
       "      <td>1</td>\n",
       "    </tr>\n",
       "    <tr>\n",
       "      <th>1</th>\n",
       "      <td>7.7225</td>\n",
       "      <td>77.7075</td>\n",
       "      <td>6.875</td>\n",
       "      <td>41.960</td>\n",
       "      <td>61.2100</td>\n",
       "      <td>47.2700</td>\n",
       "      <td>23.3075</td>\n",
       "      <td>20.3000</td>\n",
       "      <td>1</td>\n",
       "    </tr>\n",
       "    <tr>\n",
       "      <th>2</th>\n",
       "      <td>7.7300</td>\n",
       "      <td>77.7025</td>\n",
       "      <td>6.875</td>\n",
       "      <td>41.935</td>\n",
       "      <td>61.2100</td>\n",
       "      <td>47.1625</td>\n",
       "      <td>23.2800</td>\n",
       "      <td>20.2875</td>\n",
       "      <td>1</td>\n",
       "    </tr>\n",
       "    <tr>\n",
       "      <th>3</th>\n",
       "      <td>7.7250</td>\n",
       "      <td>77.7025</td>\n",
       "      <td>6.875</td>\n",
       "      <td>41.915</td>\n",
       "      <td>61.1775</td>\n",
       "      <td>47.2625</td>\n",
       "      <td>23.2900</td>\n",
       "      <td>20.2800</td>\n",
       "      <td>1</td>\n",
       "    </tr>\n",
       "    <tr>\n",
       "      <th>4</th>\n",
       "      <td>7.7250</td>\n",
       "      <td>77.7575</td>\n",
       "      <td>6.875</td>\n",
       "      <td>41.960</td>\n",
       "      <td>61.1600</td>\n",
       "      <td>47.2450</td>\n",
       "      <td>23.2900</td>\n",
       "      <td>20.3025</td>\n",
       "      <td>1</td>\n",
       "    </tr>\n",
       "  </tbody>\n",
       "</table>\n",
       "</div>"
      ],
      "text/plain": [
       "   sense_eight  sense_five  sense_four  sense_one  sense_seven  sense_six  \\\n",
       "0       7.7250     77.7575       6.875     41.935      61.2100    47.1925   \n",
       "1       7.7225     77.7075       6.875     41.960      61.2100    47.2700   \n",
       "2       7.7300     77.7025       6.875     41.935      61.2100    47.1625   \n",
       "3       7.7250     77.7025       6.875     41.915      61.1775    47.2625   \n",
       "4       7.7250     77.7575       6.875     41.960      61.1600    47.2450   \n",
       "\n",
       "   sense_three  sense_two  target  \n",
       "0      23.2900    20.2800       1  \n",
       "1      23.3075    20.3000       1  \n",
       "2      23.2800    20.2875       1  \n",
       "3      23.2900    20.2800       1  \n",
       "4      23.2900    20.3025       1  "
      ]
     },
     "execution_count": 66,
     "metadata": {},
     "output_type": "execute_result"
    }
   ],
   "source": [
    "ey_data = co_data.dropna(axis = 0, how = 'any')\n",
    "ey_data.head()"
   ]
  },
  {
   "cell_type": "code",
   "execution_count": 68,
   "metadata": {},
   "outputs": [
    {
     "data": {
      "text/plain": [
       "sense_eight    0\n",
       "sense_five     0\n",
       "sense_four     0\n",
       "sense_one      0\n",
       "sense_seven    0\n",
       "sense_six      0\n",
       "sense_three    0\n",
       "sense_two      0\n",
       "target         0\n",
       "dtype: int64"
      ]
     },
     "execution_count": 68,
     "metadata": {},
     "output_type": "execute_result"
    }
   ],
   "source": [
    "ey_data.isnull().sum()"
   ]
  },
  {
   "cell_type": "code",
   "execution_count": 69,
   "metadata": {
    "collapsed": true
   },
   "outputs": [],
   "source": [
    "X = ey_data.drop('target', axis = 1)\n",
    "y = ey_data['target']\n",
    "x_train, x_test, y_train, y_test = train_test_split(X, y, train_size = 0.80, random_state = 500)"
   ]
  },
  {
   "cell_type": "code",
   "execution_count": 70,
   "metadata": {
    "collapsed": true
   },
   "outputs": [],
   "source": [
    "std_scaler = StandardScaler()\n",
    "max_scaler = MinMaxScaler()\n",
    "norm = Normalizer()\n",
    "\n",
    "x_train_scale = std_scaler.fit_transform(x_train)\n",
    "x_train_max = max_scaler.fit_transform(x_train_scale)\n",
    "x_train_norm = norm.fit_transform(x_train_max)\n",
    "\n",
    "x_test_scale = std_scaler.fit_transform(x_test)\n",
    "x_test_max = max_scaler.fit_transform(x_test_scale)\n",
    "x_test_norm = norm.fit_transform(x_test_max)"
   ]
  },
  {
   "cell_type": "code",
   "execution_count": 71,
   "metadata": {},
   "outputs": [
    {
     "data": {
      "text/plain": [
       "0.97298048352963806"
      ]
     },
     "execution_count": 71,
     "metadata": {},
     "output_type": "execute_result"
    }
   ],
   "source": [
    "from sklearn.neighbors import KNeighborsClassifier\n",
    "knn = KNeighborsClassifier(n_neighbors = 4)\n",
    "knn.fit(x_train_scale, y_train)\n",
    "knn.score(x_train_scale, y_train)"
   ]
  },
  {
   "cell_type": "code",
   "execution_count": 77,
   "metadata": {},
   "outputs": [
    {
     "data": {
      "text/plain": [
       "0.84349059090941481"
      ]
     },
     "execution_count": 77,
     "metadata": {},
     "output_type": "execute_result"
    }
   ],
   "source": [
    "from sklearn.svm import SVC\n",
    "svc = SVC(C = 1.0, kernel = 'linear')\n",
    "svc.fit(x_train_scale, y_train)\n",
    "svc.score(x_train_scale, y_train)"
   ]
  },
  {
   "cell_type": "markdown",
   "metadata": {},
   "source": [
    "# linear regression to classifier on ME"
   ]
  },
  {
   "cell_type": "code",
   "execution_count": 72,
   "metadata": {},
   "outputs": [
    {
     "data": {
      "text/html": [
       "<div>\n",
       "<style>\n",
       "    .dataframe thead tr:only-child th {\n",
       "        text-align: right;\n",
       "    }\n",
       "\n",
       "    .dataframe thead th {\n",
       "        text-align: left;\n",
       "    }\n",
       "\n",
       "    .dataframe tbody tr th {\n",
       "        vertical-align: top;\n",
       "    }\n",
       "</style>\n",
       "<table border=\"1\" class=\"dataframe\">\n",
       "  <thead>\n",
       "    <tr style=\"text-align: right;\">\n",
       "      <th></th>\n",
       "      <th>sense_eight</th>\n",
       "      <th>sense_five</th>\n",
       "      <th>sense_four</th>\n",
       "      <th>sense_one</th>\n",
       "      <th>sense_seven</th>\n",
       "      <th>sense_six</th>\n",
       "      <th>sense_three</th>\n",
       "      <th>sense_two</th>\n",
       "      <th>target</th>\n",
       "    </tr>\n",
       "  </thead>\n",
       "  <tbody>\n",
       "    <tr>\n",
       "      <th>0</th>\n",
       "      <td>7.7250</td>\n",
       "      <td>77.7575</td>\n",
       "      <td>6.875</td>\n",
       "      <td>41.935</td>\n",
       "      <td>61.2100</td>\n",
       "      <td>47.1925</td>\n",
       "      <td>23.2900</td>\n",
       "      <td>20.2800</td>\n",
       "      <td>1</td>\n",
       "    </tr>\n",
       "    <tr>\n",
       "      <th>1</th>\n",
       "      <td>7.7225</td>\n",
       "      <td>77.7075</td>\n",
       "      <td>6.875</td>\n",
       "      <td>41.960</td>\n",
       "      <td>61.2100</td>\n",
       "      <td>47.2700</td>\n",
       "      <td>23.3075</td>\n",
       "      <td>20.3000</td>\n",
       "      <td>1</td>\n",
       "    </tr>\n",
       "    <tr>\n",
       "      <th>2</th>\n",
       "      <td>7.7300</td>\n",
       "      <td>77.7025</td>\n",
       "      <td>6.875</td>\n",
       "      <td>41.935</td>\n",
       "      <td>61.2100</td>\n",
       "      <td>47.1625</td>\n",
       "      <td>23.2800</td>\n",
       "      <td>20.2875</td>\n",
       "      <td>1</td>\n",
       "    </tr>\n",
       "    <tr>\n",
       "      <th>3</th>\n",
       "      <td>7.7250</td>\n",
       "      <td>77.7025</td>\n",
       "      <td>6.875</td>\n",
       "      <td>41.915</td>\n",
       "      <td>61.1775</td>\n",
       "      <td>47.2625</td>\n",
       "      <td>23.2900</td>\n",
       "      <td>20.2800</td>\n",
       "      <td>1</td>\n",
       "    </tr>\n",
       "    <tr>\n",
       "      <th>4</th>\n",
       "      <td>7.7250</td>\n",
       "      <td>77.7575</td>\n",
       "      <td>6.875</td>\n",
       "      <td>41.960</td>\n",
       "      <td>61.1600</td>\n",
       "      <td>47.2450</td>\n",
       "      <td>23.2900</td>\n",
       "      <td>20.3025</td>\n",
       "      <td>1</td>\n",
       "    </tr>\n",
       "  </tbody>\n",
       "</table>\n",
       "</div>"
      ],
      "text/plain": [
       "   sense_eight  sense_five  sense_four  sense_one  sense_seven  sense_six  \\\n",
       "0       7.7250     77.7575       6.875     41.935      61.2100    47.1925   \n",
       "1       7.7225     77.7075       6.875     41.960      61.2100    47.2700   \n",
       "2       7.7300     77.7025       6.875     41.935      61.2100    47.1625   \n",
       "3       7.7250     77.7025       6.875     41.915      61.1775    47.2625   \n",
       "4       7.7250     77.7575       6.875     41.960      61.1600    47.2450   \n",
       "\n",
       "   sense_three  sense_two  target  \n",
       "0      23.2900    20.2800       1  \n",
       "1      23.3075    20.3000       1  \n",
       "2      23.2800    20.2875       1  \n",
       "3      23.2900    20.2800       1  \n",
       "4      23.2900    20.3025       1  "
      ]
     },
     "execution_count": 72,
     "metadata": {},
     "output_type": "execute_result"
    }
   ],
   "source": [
    "ey_data = co_data.dropna(axis = 0, how = 'any')\n",
    "ey_data.head()"
   ]
  },
  {
   "cell_type": "code",
   "execution_count": 73,
   "metadata": {},
   "outputs": [
    {
     "data": {
      "text/plain": [
       "sense_eight    0\n",
       "sense_five     0\n",
       "sense_four     0\n",
       "sense_one      0\n",
       "sense_seven    0\n",
       "sense_six      0\n",
       "sense_three    0\n",
       "sense_two      0\n",
       "target         0\n",
       "dtype: int64"
      ]
     },
     "execution_count": 73,
     "metadata": {},
     "output_type": "execute_result"
    }
   ],
   "source": [
    "ey_data.isnull().sum()"
   ]
  },
  {
   "cell_type": "code",
   "execution_count": 74,
   "metadata": {
    "collapsed": true
   },
   "outputs": [],
   "source": [
    "X = me_data.drop('target', axis = 1)\n",
    "y = m_data['target']\n",
    "x_train, x_test, y_train, y_test = train_test_split(X, y, train_size = 0.80, random_state = 500)"
   ]
  },
  {
   "cell_type": "code",
   "execution_count": 75,
   "metadata": {
    "collapsed": true
   },
   "outputs": [],
   "source": [
    "std_scaler = StandardScaler()\n",
    "max_scaler = MinMaxScaler()\n",
    "norm = Normalizer()\n",
    "\n",
    "x_train_scale = std_scaler.fit_transform(x_train)\n",
    "x_train_max = max_scaler.fit_transform(x_train_scale)\n",
    "x_train_norm = norm.fit_transform(x_train_max)\n",
    "\n",
    "x_test_scale = std_scaler.fit_transform(x_test)\n",
    "x_test_max = max_scaler.fit_transform(x_test_scale)\n",
    "x_test_norm = norm.fit_transform(x_test_max)"
   ]
  },
  {
   "cell_type": "code",
   "execution_count": 76,
   "metadata": {},
   "outputs": [
    {
     "data": {
      "text/plain": [
       "0.97298048352963806"
      ]
     },
     "execution_count": 76,
     "metadata": {},
     "output_type": "execute_result"
    }
   ],
   "source": [
    "from sklearn.neighbors import KNeighborsClassifier\n",
    "knn = KNeighborsClassifier(n_neighbors = 4)\n",
    "knn.fit(x_train_scale, y_train)\n",
    "knn.score(x_train_scale, y_train)"
   ]
  },
  {
   "cell_type": "code",
   "execution_count": 78,
   "metadata": {},
   "outputs": [
    {
     "data": {
      "text/plain": [
       "0.84349059090941481"
      ]
     },
     "execution_count": 78,
     "metadata": {},
     "output_type": "execute_result"
    }
   ],
   "source": [
    "from sklearn.svm import SVC\n",
    "svc = SVC(C = 1.0, kernel = 'linear')\n",
    "svc.fit(x_train_scale, y_train)\n",
    "svc.score(x_train_scale, y_train)"
   ]
  },
  {
   "cell_type": "code",
   "execution_count": 79,
   "metadata": {},
   "outputs": [
    {
     "data": {
      "text/plain": [
       "0.95855896938950014"
      ]
     },
     "execution_count": 79,
     "metadata": {},
     "output_type": "execute_result"
    }
   ],
   "source": [
    "test_predict = knn.predict(x_test_scale)\n",
    "from sklearn.metrics import accuracy_score\n",
    "accuracy_score(test_predict, y_test)"
   ]
  },
  {
   "cell_type": "code",
   "execution_count": 80,
   "metadata": {},
   "outputs": [
    {
     "name": "stderr",
     "output_type": "stream",
     "text": [
      "C:\\Users\\T YAWA\\Anaconda3\\lib\\site-packages\\sklearn\\utils\\validation.py:395: DeprecationWarning: Passing 1d arrays as data is deprecated in 0.17 and will raise ValueError in 0.19. Reshape your data either using X.reshape(-1, 1) if your data has a single feature or X.reshape(1, -1) if it contains a single sample.\n",
      "  DeprecationWarning)\n"
     ]
    },
    {
     "data": {
      "text/plain": [
       "array([3], dtype=int64)"
      ]
     },
     "execution_count": 80,
     "metadata": {},
     "output_type": "execute_result"
    }
   ],
   "source": [
    "test_data = [23.4,12.3,45.5,67.8,1.2,3.4,5.7,7.8]\n",
    "knn.predict(test_data)"
   ]
  },
  {
   "cell_type": "code",
   "execution_count": 81,
   "metadata": {},
   "outputs": [
    {
     "name": "stderr",
     "output_type": "stream",
     "text": [
      "C:\\Users\\T YAWA\\Anaconda3\\lib\\site-packages\\sklearn\\utils\\validation.py:395: DeprecationWarning: Passing 1d arrays as data is deprecated in 0.17 and will raise ValueError in 0.19. Reshape your data either using X.reshape(-1, 1) if your data has a single feature or X.reshape(1, -1) if it contains a single sample.\n",
      "  DeprecationWarning)\n"
     ]
    },
    {
     "data": {
      "text/plain": [
       "array([2], dtype=int64)"
      ]
     },
     "execution_count": 81,
     "metadata": {},
     "output_type": "execute_result"
    }
   ],
   "source": [
    "check_data = [4.5,3.4,2.2,5.5,6.6,7.7,1.1,5.3]\n",
    "knn.predict(check_data)"
   ]
  },
  {
   "cell_type": "code",
   "execution_count": 82,
   "metadata": {},
   "outputs": [
    {
     "name": "stderr",
     "output_type": "stream",
     "text": [
      "C:\\Users\\T YAWA\\Anaconda3\\lib\\site-packages\\sklearn\\utils\\validation.py:395: DeprecationWarning: Passing 1d arrays as data is deprecated in 0.17 and will raise ValueError in 0.19. Reshape your data either using X.reshape(-1, 1) if your data has a single feature or X.reshape(1, -1) if it contains a single sample.\n",
      "  DeprecationWarning)\n"
     ]
    },
    {
     "data": {
      "text/plain": [
       "array([2], dtype=int64)"
      ]
     },
     "execution_count": 82,
     "metadata": {},
     "output_type": "execute_result"
    }
   ],
   "source": [
    "test_data=(2,3,4,5,6,7,8,9)\n",
    "knn.predict(test_data)\n"
   ]
  },
  {
   "cell_type": "code",
   "execution_count": null,
   "metadata": {
    "collapsed": true
   },
   "outputs": [],
   "source": []
  }
 ],
 "metadata": {
  "kernelspec": {
   "display_name": "Python 3",
   "language": "python",
   "name": "python3"
  },
  "language_info": {
   "codemirror_mode": {
    "name": "ipython",
    "version": 3
   },
   "file_extension": ".py",
   "mimetype": "text/x-python",
   "name": "python",
   "nbconvert_exporter": "python",
   "pygments_lexer": "ipython3",
   "version": "3.6.2"
  }
 },
 "nbformat": 4,
 "nbformat_minor": 2
}
