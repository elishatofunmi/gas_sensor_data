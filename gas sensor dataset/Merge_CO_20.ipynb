{
 "cells": [
  {
   "cell_type": "code",
   "execution_count": 1,
   "metadata": {},
   "outputs": [
    {
     "data": {
      "text/plain": [
       "['.ipynb_checkpoints',\n",
       " 'B1_GCO_F020_R1.txt',\n",
       " 'B1_GCO_F020_R2.txt',\n",
       " 'B1_GCO_F020_R3.txt',\n",
       " 'B1_GCO_F020_R4.txt',\n",
       " 'Merge_CO_20.ipynb']"
      ]
     },
     "execution_count": 1,
     "metadata": {},
     "output_type": "execute_result"
    }
   ],
   "source": [
    "import os\n",
    "import sys\n",
    "os.listdir()"
   ]
  },
  {
   "cell_type": "markdown",
   "metadata": {},
   "source": [
    "# load in the repitition 1,2,3,4 for CO at 20ppm"
   ]
  },
  {
   "cell_type": "code",
   "execution_count": 3,
   "metadata": {},
   "outputs": [
    {
     "data": {
      "text/html": [
       "<div>\n",
       "<style>\n",
       "    .dataframe thead tr:only-child th {\n",
       "        text-align: right;\n",
       "    }\n",
       "\n",
       "    .dataframe thead th {\n",
       "        text-align: left;\n",
       "    }\n",
       "\n",
       "    .dataframe tbody tr th {\n",
       "        vertical-align: top;\n",
       "    }\n",
       "</style>\n",
       "<table border=\"1\" class=\"dataframe\">\n",
       "  <thead>\n",
       "    <tr style=\"text-align: right;\">\n",
       "      <th></th>\n",
       "      <th>time</th>\n",
       "      <th>sense_one</th>\n",
       "      <th>sense_two</th>\n",
       "      <th>sense_three</th>\n",
       "      <th>sense_four</th>\n",
       "      <th>sense_five</th>\n",
       "      <th>sense_six</th>\n",
       "      <th>sense_seven</th>\n",
       "      <th>sense_eight</th>\n",
       "    </tr>\n",
       "  </thead>\n",
       "  <tbody>\n",
       "    <tr>\n",
       "      <th>0</th>\n",
       "      <td>0.00</td>\n",
       "      <td>39.46</td>\n",
       "      <td>18.80</td>\n",
       "      <td>21.82</td>\n",
       "      <td>5.62</td>\n",
       "      <td>73.75</td>\n",
       "      <td>46.17</td>\n",
       "      <td>56.09</td>\n",
       "      <td>7.05</td>\n",
       "    </tr>\n",
       "    <tr>\n",
       "      <th>1</th>\n",
       "      <td>0.01</td>\n",
       "      <td>39.46</td>\n",
       "      <td>18.80</td>\n",
       "      <td>21.82</td>\n",
       "      <td>5.62</td>\n",
       "      <td>73.75</td>\n",
       "      <td>46.17</td>\n",
       "      <td>56.23</td>\n",
       "      <td>7.06</td>\n",
       "    </tr>\n",
       "    <tr>\n",
       "      <th>2</th>\n",
       "      <td>0.02</td>\n",
       "      <td>39.46</td>\n",
       "      <td>18.82</td>\n",
       "      <td>21.86</td>\n",
       "      <td>5.62</td>\n",
       "      <td>73.75</td>\n",
       "      <td>46.17</td>\n",
       "      <td>56.23</td>\n",
       "      <td>7.06</td>\n",
       "    </tr>\n",
       "    <tr>\n",
       "      <th>3</th>\n",
       "      <td>0.03</td>\n",
       "      <td>39.46</td>\n",
       "      <td>18.82</td>\n",
       "      <td>21.82</td>\n",
       "      <td>5.62</td>\n",
       "      <td>73.75</td>\n",
       "      <td>46.27</td>\n",
       "      <td>56.23</td>\n",
       "      <td>7.07</td>\n",
       "    </tr>\n",
       "    <tr>\n",
       "      <th>4</th>\n",
       "      <td>0.04</td>\n",
       "      <td>39.46</td>\n",
       "      <td>18.85</td>\n",
       "      <td>21.82</td>\n",
       "      <td>5.62</td>\n",
       "      <td>73.75</td>\n",
       "      <td>46.17</td>\n",
       "      <td>56.23</td>\n",
       "      <td>7.05</td>\n",
       "    </tr>\n",
       "  </tbody>\n",
       "</table>\n",
       "</div>"
      ],
      "text/plain": [
       "   time  sense_one  sense_two  sense_three  sense_four  sense_five  sense_six  \\\n",
       "0  0.00      39.46      18.80        21.82        5.62       73.75      46.17   \n",
       "1  0.01      39.46      18.80        21.82        5.62       73.75      46.17   \n",
       "2  0.02      39.46      18.82        21.86        5.62       73.75      46.17   \n",
       "3  0.03      39.46      18.82        21.82        5.62       73.75      46.27   \n",
       "4  0.04      39.46      18.85        21.82        5.62       73.75      46.17   \n",
       "\n",
       "   sense_seven  sense_eight  \n",
       "0        56.09         7.05  \n",
       "1        56.23         7.06  \n",
       "2        56.23         7.06  \n",
       "3        56.23         7.07  \n",
       "4        56.23         7.05  "
      ]
     },
     "execution_count": 3,
     "metadata": {},
     "output_type": "execute_result"
    }
   ],
   "source": [
    "import pandas as pd\n",
    "repitition_one = pd.read_csv(r'B1_GCO_F020_R1.txt',sep = '\\t',header = None)\n",
    "repitition_one.columns = ['time','sense_one', 'sense_two', 'sense_three','sense_four','sense_five',\n",
    "                          'sense_six','sense_seven','sense_eight']\n",
    "repitition_one.head()"
   ]
  },
  {
   "cell_type": "code",
   "execution_count": 4,
   "metadata": {},
   "outputs": [
    {
     "data": {
      "text/html": [
       "<div>\n",
       "<style>\n",
       "    .dataframe thead tr:only-child th {\n",
       "        text-align: right;\n",
       "    }\n",
       "\n",
       "    .dataframe thead th {\n",
       "        text-align: left;\n",
       "    }\n",
       "\n",
       "    .dataframe tbody tr th {\n",
       "        vertical-align: top;\n",
       "    }\n",
       "</style>\n",
       "<table border=\"1\" class=\"dataframe\">\n",
       "  <thead>\n",
       "    <tr style=\"text-align: right;\">\n",
       "      <th></th>\n",
       "      <th>time</th>\n",
       "      <th>sense_one</th>\n",
       "      <th>sense_two</th>\n",
       "      <th>sense_three</th>\n",
       "      <th>sense_four</th>\n",
       "      <th>sense_five</th>\n",
       "      <th>sense_six</th>\n",
       "      <th>sense_seven</th>\n",
       "      <th>sense_eight</th>\n",
       "    </tr>\n",
       "  </thead>\n",
       "  <tbody>\n",
       "    <tr>\n",
       "      <th>0</th>\n",
       "      <td>0.00</td>\n",
       "      <td>38.01</td>\n",
       "      <td>17.67</td>\n",
       "      <td>20.69</td>\n",
       "      <td>6.03</td>\n",
       "      <td>71.55</td>\n",
       "      <td>43.11</td>\n",
       "      <td>54.72</td>\n",
       "      <td>7.22</td>\n",
       "    </tr>\n",
       "    <tr>\n",
       "      <th>1</th>\n",
       "      <td>0.01</td>\n",
       "      <td>38.08</td>\n",
       "      <td>17.69</td>\n",
       "      <td>20.69</td>\n",
       "      <td>6.04</td>\n",
       "      <td>71.55</td>\n",
       "      <td>43.11</td>\n",
       "      <td>54.85</td>\n",
       "      <td>7.22</td>\n",
       "    </tr>\n",
       "    <tr>\n",
       "      <th>2</th>\n",
       "      <td>0.02</td>\n",
       "      <td>38.08</td>\n",
       "      <td>17.67</td>\n",
       "      <td>20.72</td>\n",
       "      <td>6.04</td>\n",
       "      <td>71.55</td>\n",
       "      <td>43.20</td>\n",
       "      <td>54.99</td>\n",
       "      <td>7.22</td>\n",
       "    </tr>\n",
       "    <tr>\n",
       "      <th>3</th>\n",
       "      <td>0.03</td>\n",
       "      <td>38.08</td>\n",
       "      <td>17.69</td>\n",
       "      <td>20.66</td>\n",
       "      <td>6.03</td>\n",
       "      <td>71.55</td>\n",
       "      <td>43.20</td>\n",
       "      <td>54.85</td>\n",
       "      <td>7.22</td>\n",
       "    </tr>\n",
       "    <tr>\n",
       "      <th>4</th>\n",
       "      <td>0.04</td>\n",
       "      <td>38.08</td>\n",
       "      <td>17.67</td>\n",
       "      <td>20.66</td>\n",
       "      <td>6.03</td>\n",
       "      <td>71.55</td>\n",
       "      <td>43.11</td>\n",
       "      <td>54.72</td>\n",
       "      <td>7.21</td>\n",
       "    </tr>\n",
       "  </tbody>\n",
       "</table>\n",
       "</div>"
      ],
      "text/plain": [
       "   time  sense_one  sense_two  sense_three  sense_four  sense_five  sense_six  \\\n",
       "0  0.00      38.01      17.67        20.69        6.03       71.55      43.11   \n",
       "1  0.01      38.08      17.69        20.69        6.04       71.55      43.11   \n",
       "2  0.02      38.08      17.67        20.72        6.04       71.55      43.20   \n",
       "3  0.03      38.08      17.69        20.66        6.03       71.55      43.20   \n",
       "4  0.04      38.08      17.67        20.66        6.03       71.55      43.11   \n",
       "\n",
       "   sense_seven  sense_eight  \n",
       "0        54.72         7.22  \n",
       "1        54.85         7.22  \n",
       "2        54.99         7.22  \n",
       "3        54.85         7.22  \n",
       "4        54.72         7.21  "
      ]
     },
     "execution_count": 4,
     "metadata": {},
     "output_type": "execute_result"
    }
   ],
   "source": [
    "repitition_two = pd.read_csv(r'B1_GCO_F020_R2.txt',sep = '\\t',header = None)\n",
    "repitition_two.columns = ['time','sense_one', 'sense_two', 'sense_three','sense_four','sense_five',\n",
    "                          'sense_six','sense_seven','sense_eight']\n",
    "repitition_two.head()"
   ]
  },
  {
   "cell_type": "code",
   "execution_count": 5,
   "metadata": {},
   "outputs": [
    {
     "data": {
      "text/html": [
       "<div>\n",
       "<style>\n",
       "    .dataframe thead tr:only-child th {\n",
       "        text-align: right;\n",
       "    }\n",
       "\n",
       "    .dataframe thead th {\n",
       "        text-align: left;\n",
       "    }\n",
       "\n",
       "    .dataframe tbody tr th {\n",
       "        vertical-align: top;\n",
       "    }\n",
       "</style>\n",
       "<table border=\"1\" class=\"dataframe\">\n",
       "  <thead>\n",
       "    <tr style=\"text-align: right;\">\n",
       "      <th></th>\n",
       "      <th>time</th>\n",
       "      <th>sense_one</th>\n",
       "      <th>sense_two</th>\n",
       "      <th>sense_three</th>\n",
       "      <th>sense_four</th>\n",
       "      <th>sense_five</th>\n",
       "      <th>sense_six</th>\n",
       "      <th>sense_seven</th>\n",
       "      <th>sense_eight</th>\n",
       "    </tr>\n",
       "  </thead>\n",
       "  <tbody>\n",
       "    <tr>\n",
       "      <th>0</th>\n",
       "      <td>0.00</td>\n",
       "      <td>45.46</td>\n",
       "      <td>22.00</td>\n",
       "      <td>25.30</td>\n",
       "      <td>7.94</td>\n",
       "      <td>82.2</td>\n",
       "      <td>49.85</td>\n",
       "      <td>66.30</td>\n",
       "      <td>8.12</td>\n",
       "    </tr>\n",
       "    <tr>\n",
       "      <th>1</th>\n",
       "      <td>0.01</td>\n",
       "      <td>45.46</td>\n",
       "      <td>21.96</td>\n",
       "      <td>25.30</td>\n",
       "      <td>7.94</td>\n",
       "      <td>82.2</td>\n",
       "      <td>49.96</td>\n",
       "      <td>66.49</td>\n",
       "      <td>8.13</td>\n",
       "    </tr>\n",
       "    <tr>\n",
       "      <th>2</th>\n",
       "      <td>0.02</td>\n",
       "      <td>45.46</td>\n",
       "      <td>22.00</td>\n",
       "      <td>25.25</td>\n",
       "      <td>7.94</td>\n",
       "      <td>82.2</td>\n",
       "      <td>50.08</td>\n",
       "      <td>66.49</td>\n",
       "      <td>8.13</td>\n",
       "    </tr>\n",
       "    <tr>\n",
       "      <th>3</th>\n",
       "      <td>0.03</td>\n",
       "      <td>45.46</td>\n",
       "      <td>21.96</td>\n",
       "      <td>25.30</td>\n",
       "      <td>7.94</td>\n",
       "      <td>82.2</td>\n",
       "      <td>49.85</td>\n",
       "      <td>66.30</td>\n",
       "      <td>8.12</td>\n",
       "    </tr>\n",
       "    <tr>\n",
       "      <th>4</th>\n",
       "      <td>0.04</td>\n",
       "      <td>45.46</td>\n",
       "      <td>22.00</td>\n",
       "      <td>25.30</td>\n",
       "      <td>7.94</td>\n",
       "      <td>82.2</td>\n",
       "      <td>49.96</td>\n",
       "      <td>66.30</td>\n",
       "      <td>8.12</td>\n",
       "    </tr>\n",
       "  </tbody>\n",
       "</table>\n",
       "</div>"
      ],
      "text/plain": [
       "   time  sense_one  sense_two  sense_three  sense_four  sense_five  sense_six  \\\n",
       "0  0.00      45.46      22.00        25.30        7.94        82.2      49.85   \n",
       "1  0.01      45.46      21.96        25.30        7.94        82.2      49.96   \n",
       "2  0.02      45.46      22.00        25.25        7.94        82.2      50.08   \n",
       "3  0.03      45.46      21.96        25.30        7.94        82.2      49.85   \n",
       "4  0.04      45.46      22.00        25.30        7.94        82.2      49.96   \n",
       "\n",
       "   sense_seven  sense_eight  \n",
       "0        66.30         8.12  \n",
       "1        66.49         8.13  \n",
       "2        66.49         8.13  \n",
       "3        66.30         8.12  \n",
       "4        66.30         8.12  "
      ]
     },
     "execution_count": 5,
     "metadata": {},
     "output_type": "execute_result"
    }
   ],
   "source": [
    "repitition_three = pd.read_csv(r'B1_GCO_F020_R3.txt',sep = '\\t',header = None)\n",
    "repitition_three.columns = ['time','sense_one', 'sense_two', 'sense_three','sense_four','sense_five',\n",
    "                          'sense_six','sense_seven','sense_eight']\n",
    "repitition_three.head()"
   ]
  },
  {
   "cell_type": "code",
   "execution_count": 6,
   "metadata": {},
   "outputs": [
    {
     "data": {
      "text/html": [
       "<div>\n",
       "<style>\n",
       "    .dataframe thead tr:only-child th {\n",
       "        text-align: right;\n",
       "    }\n",
       "\n",
       "    .dataframe thead th {\n",
       "        text-align: left;\n",
       "    }\n",
       "\n",
       "    .dataframe tbody tr th {\n",
       "        vertical-align: top;\n",
       "    }\n",
       "</style>\n",
       "<table border=\"1\" class=\"dataframe\">\n",
       "  <thead>\n",
       "    <tr style=\"text-align: right;\">\n",
       "      <th></th>\n",
       "      <th>time</th>\n",
       "      <th>sense_one</th>\n",
       "      <th>sense_two</th>\n",
       "      <th>sense_three</th>\n",
       "      <th>sense_four</th>\n",
       "      <th>sense_five</th>\n",
       "      <th>sense_six</th>\n",
       "      <th>sense_seven</th>\n",
       "      <th>sense_eight</th>\n",
       "    </tr>\n",
       "  </thead>\n",
       "  <tbody>\n",
       "    <tr>\n",
       "      <th>0</th>\n",
       "      <td>0.00</td>\n",
       "      <td>46.58</td>\n",
       "      <td>23.12</td>\n",
       "      <td>26.20</td>\n",
       "      <td>7.97</td>\n",
       "      <td>86.19</td>\n",
       "      <td>50.78</td>\n",
       "      <td>69.21</td>\n",
       "      <td>8.15</td>\n",
       "    </tr>\n",
       "    <tr>\n",
       "      <th>1</th>\n",
       "      <td>0.03</td>\n",
       "      <td>46.58</td>\n",
       "      <td>23.16</td>\n",
       "      <td>26.20</td>\n",
       "      <td>7.96</td>\n",
       "      <td>85.89</td>\n",
       "      <td>50.90</td>\n",
       "      <td>69.21</td>\n",
       "      <td>8.15</td>\n",
       "    </tr>\n",
       "    <tr>\n",
       "      <th>2</th>\n",
       "      <td>0.04</td>\n",
       "      <td>46.58</td>\n",
       "      <td>23.12</td>\n",
       "      <td>26.16</td>\n",
       "      <td>7.96</td>\n",
       "      <td>86.19</td>\n",
       "      <td>50.90</td>\n",
       "      <td>69.21</td>\n",
       "      <td>8.16</td>\n",
       "    </tr>\n",
       "    <tr>\n",
       "      <th>3</th>\n",
       "      <td>0.05</td>\n",
       "      <td>46.58</td>\n",
       "      <td>23.12</td>\n",
       "      <td>26.20</td>\n",
       "      <td>7.96</td>\n",
       "      <td>85.89</td>\n",
       "      <td>50.90</td>\n",
       "      <td>69.21</td>\n",
       "      <td>8.15</td>\n",
       "    </tr>\n",
       "    <tr>\n",
       "      <th>4</th>\n",
       "      <td>0.06</td>\n",
       "      <td>46.58</td>\n",
       "      <td>23.12</td>\n",
       "      <td>26.20</td>\n",
       "      <td>7.96</td>\n",
       "      <td>85.89</td>\n",
       "      <td>50.90</td>\n",
       "      <td>69.01</td>\n",
       "      <td>8.15</td>\n",
       "    </tr>\n",
       "  </tbody>\n",
       "</table>\n",
       "</div>"
      ],
      "text/plain": [
       "   time  sense_one  sense_two  sense_three  sense_four  sense_five  sense_six  \\\n",
       "0  0.00      46.58      23.12        26.20        7.97       86.19      50.78   \n",
       "1  0.03      46.58      23.16        26.20        7.96       85.89      50.90   \n",
       "2  0.04      46.58      23.12        26.16        7.96       86.19      50.90   \n",
       "3  0.05      46.58      23.12        26.20        7.96       85.89      50.90   \n",
       "4  0.06      46.58      23.12        26.20        7.96       85.89      50.90   \n",
       "\n",
       "   sense_seven  sense_eight  \n",
       "0        69.21         8.15  \n",
       "1        69.21         8.15  \n",
       "2        69.21         8.16  \n",
       "3        69.21         8.15  \n",
       "4        69.01         8.15  "
      ]
     },
     "execution_count": 6,
     "metadata": {},
     "output_type": "execute_result"
    }
   ],
   "source": [
    "repitition_four = pd.read_csv(r'B1_GCO_F020_R4.txt',sep = '\\t',header = None)\n",
    "repitition_four.columns = ['time','sense_one', 'sense_two', 'sense_three','sense_four','sense_five',\n",
    "                          'sense_six','sense_seven','sense_eight']\n",
    "repitition_four.head()"
   ]
  },
  {
   "cell_type": "markdown",
   "metadata": {},
   "source": [
    "# visualizing repitition 1"
   ]
  },
  {
   "cell_type": "code",
   "execution_count": 7,
   "metadata": {},
   "outputs": [
    {
     "data": {
      "image/png": "[encoded data removed]",
      "text/plain": [
       "<matplotlib.figure.Figure at 0x2d6b1ff2ac8>"
      ]
     },
     "metadata": {},
     "output_type": "display_data"
    },
    {
     "data": {
      "image/png": "[encoded data removed]",
      "text/plain": [
       "<matplotlib.figure.Figure at 0x2d6b7309160>"
      ]
     },
     "metadata": {},
     "output_type": "display_data"
    },
    {
     "data": {
      "image/png": "[encoded data removed]",
      "text/plain": [
       "<matplotlib.figure.Figure at 0x2d6b78b6f60>"
      ]
     },
     "metadata": {},
     "output_type": "display_data"
    },
    {
     "data": {
      "image/png": "[encoded data removed]",
      "text/plain": [
       "<matplotlib.figure.Figure at 0x2d6b5e97898>"
      ]
     },
     "metadata": {},
     "output_type": "display_data"
    },
    {
     "data": {
      "image/png": "[encoded data removed]",
      "text/plain": [
       "<matplotlib.figure.Figure at 0x2d6b7297eb8>"
      ]
     },
     "metadata": {},
     "output_type": "display_data"
    },
    {
     "data": {
      "image/png": "[encoded data removed]",
      "text/plain": [
       "<matplotlib.figure.Figure at 0x2d6b78d8d30>"
      ]
     },
     "metadata": {},
     "output_type": "display_data"
    },
    {
     "data": {
      "image/png": "[encoded data removed]",
      "text/plain": [
       "<matplotlib.figure.Figure at 0x2d6b7856eb8>"
      ]
     },
     "metadata": {},
     "output_type": "display_data"
    },
    {
     "data": {
      "image/png": "[encoded data removed]",
      "text/plain": [
       "<matplotlib.figure.Figure at 0x2d6b8a97f98>"
      ]
     },
     "metadata": {},
     "output_type": "display_data"
    },
    {
     "data": {
      "image/png": "[encoded data removed]",
      "text/plain": [
       "<matplotlib.figure.Figure at 0x2d6b79d7a90>"
      ]
     },
     "metadata": {},
     "output_type": "display_data"
    }
   ],
   "source": [
    "import matplotlib.pyplot as plt\n",
    "\n",
    "for key in repitition_one.keys():\n",
    "    plt.boxplot(repitition_one[key])\n",
    "    plt.grid('on')\n",
    "    plt.title('Box plot of '+str(key))\n",
    "    plt.show()\n",
    "    plt.savefig('Box_plot_of_'+ str(key)+ 'board_one_CO_at_20ppm.jpeg')"
   ]
  },
  {
   "cell_type": "code",
   "execution_count": 8,
   "metadata": {
    "collapsed": true
   },
   "outputs": [],
   "source": [
    "# dealing with outliers in each sensor\n",
    "\n",
    "repitition_one['sense_one'][repitition_one['sense_one'] <= 38.75] = 38.75\n",
    "repitition_one['sense_one'][repitition_one['sense_one'] > 39.80] = 39.80"
   ]
  },
  {
   "cell_type": "code",
   "execution_count": 17,
   "metadata": {
    "collapsed": true
   },
   "outputs": [],
   "source": [
    "repitition_one['sense_two'][repitition_one['sense_two'] <= 18.6] = 18.6"
   ]
  },
  {
   "cell_type": "code",
   "execution_count": 10,
   "metadata": {
    "collapsed": true
   },
   "outputs": [],
   "source": [
    "repitition_one['sense_three'][repitition_one['sense_three'] < 21.43] = 21.43"
   ]
  },
  {
   "cell_type": "code",
   "execution_count": 11,
   "metadata": {
    "collapsed": true
   },
   "outputs": [],
   "source": [
    "repitition_one['sense_four'][repitition_one['sense_four'] < 5.05] = 5.05"
   ]
  },
  {
   "cell_type": "code",
   "execution_count": 12,
   "metadata": {
    "collapsed": true
   },
   "outputs": [],
   "source": [
    "repitition_one['sense_five'][repitition_one['sense_five'] < 72.7] = 72.7\n",
    "repitition_one['sense_five'][repitition_one['sense_five'] > 74] = 74"
   ]
  },
  {
   "cell_type": "code",
   "execution_count": 13,
   "metadata": {
    "collapsed": true
   },
   "outputs": [],
   "source": [
    "repitition_one['sense_six'][repitition_one['sense_six'] < 45.5] = 45.5"
   ]
  },
  {
   "cell_type": "code",
   "execution_count": 14,
   "metadata": {
    "collapsed": true
   },
   "outputs": [],
   "source": [
    "repitition_one['sense_seven'][repitition_one['sense_seven'] <= 55.2] = 55.2"
   ]
  },
  {
   "cell_type": "code",
   "execution_count": 18,
   "metadata": {
    "collapsed": true
   },
   "outputs": [],
   "source": [
    "repitition_one['sense_eight'][repitition_one['sense_eight'] <= 5.7] = 5.7"
   ]
  },
  {
   "cell_type": "code",
   "execution_count": 19,
   "metadata": {},
   "outputs": [
    {
     "data": {
      "image/png": "[encoded data removed]",
      "text/plain": [
       "<matplotlib.figure.Figure at 0x2d6b8b53f28>"
      ]
     },
     "metadata": {},
     "output_type": "display_data"
    },
    {
     "data": {
      "image/png": "[encoded data removed]",
      "text/plain": [
       "<matplotlib.figure.Figure at 0x2d6b8c26b00>"
      ]
     },
     "metadata": {},
     "output_type": "display_data"
    },
    {
     "data": {
      "image/png": "[encoded data removed]",
      "text/plain": [
       "<matplotlib.figure.Figure at 0x2d6b79b4eb8>"
      ]
     },
     "metadata": {},
     "output_type": "display_data"
    },
    {
     "data": {
      "image/png": "[encoded data removed]",
      "text/plain": [
       "<matplotlib.figure.Figure at 0x2d6b797bf98>"
      ]
     },
     "metadata": {},
     "output_type": "display_data"
    },
    {
     "data": {
      "image/png": "[encoded data removed]",
      "text/plain": [
       "<matplotlib.figure.Figure at 0x2d6b734fe80>"
      ]
     },
     "metadata": {},
     "output_type": "display_data"
    },
    {
     "data": {
      "image/png": "[encoded data removed]",
      "text/plain": [
       "<matplotlib.figure.Figure at 0x2d6b7907c50>"
      ]
     },
     "metadata": {},
     "output_type": "display_data"
    },
    {
     "data": {
      "image/png": "[encoded data removed]",
      "text/plain": [
       "<matplotlib.figure.Figure at 0x2d6b7384cc0>"
      ]
     },
     "metadata": {},
     "output_type": "display_data"
    },
    {
     "data": {
      "image/png": "[encoded data removed]",
      "text/plain": [
       "<matplotlib.figure.Figure at 0x2d6b7830630>"
      ]
     },
     "metadata": {},
     "output_type": "display_data"
    },
    {
     "data": {
      "image/png": "[encoded data removed]",
      "text/plain": [
       "<matplotlib.figure.Figure at 0x2d6b5e97860>"
      ]
     },
     "metadata": {},
     "output_type": "display_data"
    }
   ],
   "source": [
    "import matplotlib.pyplot as plt\n",
    "\n",
    "for key in repitition_one.keys():\n",
    "    plt.boxplot(repitition_one[key])\n",
    "    plt.grid('on')\n",
    "    plt.title('Box plot of '+str(key))\n",
    "    plt.show()\n",
    "    plt.savefig('Box_plot_of_'+ str(key)+ '_no_outliers_board_one_CO_at_20ppm.jpeg')"
   ]
  },
  {
   "cell_type": "code",
   "execution_count": 20,
   "metadata": {
    "collapsed": true
   },
   "outputs": [],
   "source": [
    "final_repitition = (repitition_one + repitition_two+repitition_three + repitition_four) / 4"
   ]
  },
  {
   "cell_type": "code",
   "execution_count": 21,
   "metadata": {},
   "outputs": [
    {
     "data": {
      "text/html": [
       "<div>\n",
       "<style>\n",
       "    .dataframe thead tr:only-child th {\n",
       "        text-align: right;\n",
       "    }\n",
       "\n",
       "    .dataframe thead th {\n",
       "        text-align: left;\n",
       "    }\n",
       "\n",
       "    .dataframe tbody tr th {\n",
       "        vertical-align: top;\n",
       "    }\n",
       "</style>\n",
       "<table border=\"1\" class=\"dataframe\">\n",
       "  <thead>\n",
       "    <tr style=\"text-align: right;\">\n",
       "      <th></th>\n",
       "      <th>time</th>\n",
       "      <th>sense_one</th>\n",
       "      <th>sense_two</th>\n",
       "      <th>sense_three</th>\n",
       "      <th>sense_four</th>\n",
       "      <th>sense_five</th>\n",
       "      <th>sense_six</th>\n",
       "      <th>sense_seven</th>\n",
       "      <th>sense_eight</th>\n",
       "    </tr>\n",
       "  </thead>\n",
       "  <tbody>\n",
       "    <tr>\n",
       "      <th>0</th>\n",
       "      <td>0.000</td>\n",
       "      <td>42.3775</td>\n",
       "      <td>20.3975</td>\n",
       "      <td>23.5025</td>\n",
       "      <td>6.8900</td>\n",
       "      <td>78.4225</td>\n",
       "      <td>47.4775</td>\n",
       "      <td>61.5800</td>\n",
       "      <td>7.6350</td>\n",
       "    </tr>\n",
       "    <tr>\n",
       "      <th>1</th>\n",
       "      <td>0.015</td>\n",
       "      <td>42.3950</td>\n",
       "      <td>20.4025</td>\n",
       "      <td>23.5025</td>\n",
       "      <td>6.8900</td>\n",
       "      <td>78.3475</td>\n",
       "      <td>47.5350</td>\n",
       "      <td>61.6950</td>\n",
       "      <td>7.6400</td>\n",
       "    </tr>\n",
       "    <tr>\n",
       "      <th>2</th>\n",
       "      <td>0.025</td>\n",
       "      <td>42.3950</td>\n",
       "      <td>20.4025</td>\n",
       "      <td>23.4975</td>\n",
       "      <td>6.8900</td>\n",
       "      <td>78.4225</td>\n",
       "      <td>47.5875</td>\n",
       "      <td>61.7300</td>\n",
       "      <td>7.6425</td>\n",
       "    </tr>\n",
       "    <tr>\n",
       "      <th>3</th>\n",
       "      <td>0.035</td>\n",
       "      <td>42.3950</td>\n",
       "      <td>20.3975</td>\n",
       "      <td>23.4950</td>\n",
       "      <td>6.8875</td>\n",
       "      <td>78.3475</td>\n",
       "      <td>47.5550</td>\n",
       "      <td>61.6475</td>\n",
       "      <td>7.6400</td>\n",
       "    </tr>\n",
       "    <tr>\n",
       "      <th>4</th>\n",
       "      <td>0.045</td>\n",
       "      <td>42.3950</td>\n",
       "      <td>20.4100</td>\n",
       "      <td>23.4950</td>\n",
       "      <td>6.8875</td>\n",
       "      <td>78.3475</td>\n",
       "      <td>47.5350</td>\n",
       "      <td>61.5650</td>\n",
       "      <td>7.6325</td>\n",
       "    </tr>\n",
       "  </tbody>\n",
       "</table>\n",
       "</div>"
      ],
      "text/plain": [
       "    time  sense_one  sense_two  sense_three  sense_four  sense_five  \\\n",
       "0  0.000    42.3775    20.3975      23.5025      6.8900     78.4225   \n",
       "1  0.015    42.3950    20.4025      23.5025      6.8900     78.3475   \n",
       "2  0.025    42.3950    20.4025      23.4975      6.8900     78.4225   \n",
       "3  0.035    42.3950    20.3975      23.4950      6.8875     78.3475   \n",
       "4  0.045    42.3950    20.4100      23.4950      6.8875     78.3475   \n",
       "\n",
       "   sense_six  sense_seven  sense_eight  \n",
       "0    47.4775      61.5800       7.6350  \n",
       "1    47.5350      61.6950       7.6400  \n",
       "2    47.5875      61.7300       7.6425  \n",
       "3    47.5550      61.6475       7.6400  \n",
       "4    47.5350      61.5650       7.6325  "
      ]
     },
     "execution_count": 21,
     "metadata": {},
     "output_type": "execute_result"
    }
   ],
   "source": [
    "final_repitition.head()"
   ]
  },
  {
   "cell_type": "code",
   "execution_count": 22,
   "metadata": {
    "collapsed": true
   },
   "outputs": [],
   "source": [
    "final_repitition.to_csv('Repitition_CO_at_20_ppm.csv')"
   ]
  },
  {
   "cell_type": "code",
   "execution_count": null,
   "metadata": {
    "collapsed": true
   },
   "outputs": [],
   "source": []
  }
 ],
 "metadata": {
  "kernelspec": {
   "display_name": "Python 3",
   "language": "python",
   "name": "python3"
  },
  "language_info": {
   "codemirror_mode": {
    "name": "ipython",
    "version": 3
   },
   "file_extension": ".py",
   "mimetype": "text/x-python",
   "name": "python",
   "nbconvert_exporter": "python",
   "pygments_lexer": "ipython3",
   "version": "3.6.1"
  }
 },
 "nbformat": 4,
 "nbformat_minor": 2
}
