{
 "cells": [
  {
   "cell_type": "code",
   "execution_count": 1,
   "metadata": {},
   "outputs": [
    {
     "data": {
      "text/plain": [
       "['.ipynb_checkpoints',\n",
       " 'B1_GCO_F050_R1.txt',\n",
       " 'B1_GCO_F050_R2.txt',\n",
       " 'B1_GCO_F050_R3.txt',\n",
       " 'B1_GCO_F050_R4.txt',\n",
       " 'Merge_CO_50.ipynb']"
      ]
     },
     "execution_count": 1,
     "metadata": {},
     "output_type": "execute_result"
    }
   ],
   "source": [
    "import os\n",
    "import sys\n",
    "os.listdir()"
   ]
  },
  {
   "cell_type": "code",
   "execution_count": 3,
   "metadata": {},
   "outputs": [
    {
     "data": {
      "text/html": [
       "<div>\n",
       "<style>\n",
       "    .dataframe thead tr:only-child th {\n",
       "        text-align: right;\n",
       "    }\n",
       "\n",
       "    .dataframe thead th {\n",
       "        text-align: left;\n",
       "    }\n",
       "\n",
       "    .dataframe tbody tr th {\n",
       "        vertical-align: top;\n",
       "    }\n",
       "</style>\n",
       "<table border=\"1\" class=\"dataframe\">\n",
       "  <thead>\n",
       "    <tr style=\"text-align: right;\">\n",
       "      <th></th>\n",
       "      <th>time</th>\n",
       "      <th>sense_one</th>\n",
       "      <th>sense_two</th>\n",
       "      <th>sense_three</th>\n",
       "      <th>sense_four</th>\n",
       "      <th>sense_five</th>\n",
       "      <th>sense_six</th>\n",
       "      <th>sense_seven</th>\n",
       "      <th>sense_eight</th>\n",
       "    </tr>\n",
       "  </thead>\n",
       "  <tbody>\n",
       "    <tr>\n",
       "      <th>0</th>\n",
       "      <td>0.00</td>\n",
       "      <td>39.54</td>\n",
       "      <td>18.77</td>\n",
       "      <td>21.92</td>\n",
       "      <td>5.59</td>\n",
       "      <td>73.97</td>\n",
       "      <td>46.07</td>\n",
       "      <td>56.23</td>\n",
       "      <td>7.03</td>\n",
       "    </tr>\n",
       "    <tr>\n",
       "      <th>1</th>\n",
       "      <td>0.01</td>\n",
       "      <td>39.62</td>\n",
       "      <td>18.77</td>\n",
       "      <td>21.89</td>\n",
       "      <td>5.59</td>\n",
       "      <td>73.97</td>\n",
       "      <td>46.17</td>\n",
       "      <td>56.38</td>\n",
       "      <td>7.03</td>\n",
       "    </tr>\n",
       "    <tr>\n",
       "      <th>2</th>\n",
       "      <td>0.02</td>\n",
       "      <td>39.54</td>\n",
       "      <td>18.80</td>\n",
       "      <td>21.89</td>\n",
       "      <td>5.59</td>\n",
       "      <td>73.97</td>\n",
       "      <td>46.07</td>\n",
       "      <td>56.38</td>\n",
       "      <td>7.03</td>\n",
       "    </tr>\n",
       "    <tr>\n",
       "      <th>3</th>\n",
       "      <td>0.03</td>\n",
       "      <td>39.54</td>\n",
       "      <td>18.80</td>\n",
       "      <td>21.86</td>\n",
       "      <td>5.59</td>\n",
       "      <td>73.97</td>\n",
       "      <td>46.07</td>\n",
       "      <td>56.38</td>\n",
       "      <td>7.03</td>\n",
       "    </tr>\n",
       "    <tr>\n",
       "      <th>4</th>\n",
       "      <td>0.04</td>\n",
       "      <td>39.54</td>\n",
       "      <td>18.77</td>\n",
       "      <td>21.86</td>\n",
       "      <td>5.60</td>\n",
       "      <td>73.97</td>\n",
       "      <td>46.07</td>\n",
       "      <td>56.38</td>\n",
       "      <td>7.04</td>\n",
       "    </tr>\n",
       "  </tbody>\n",
       "</table>\n",
       "</div>"
      ],
      "text/plain": [
       "   time  sense_one  sense_two  sense_three  sense_four  sense_five  sense_six  \\\n",
       "0  0.00      39.54      18.77        21.92        5.59       73.97      46.07   \n",
       "1  0.01      39.62      18.77        21.89        5.59       73.97      46.17   \n",
       "2  0.02      39.54      18.80        21.89        5.59       73.97      46.07   \n",
       "3  0.03      39.54      18.80        21.86        5.59       73.97      46.07   \n",
       "4  0.04      39.54      18.77        21.86        5.60       73.97      46.07   \n",
       "\n",
       "   sense_seven  sense_eight  \n",
       "0        56.23         7.03  \n",
       "1        56.38         7.03  \n",
       "2        56.38         7.03  \n",
       "3        56.38         7.03  \n",
       "4        56.38         7.04  "
      ]
     },
     "execution_count": 3,
     "metadata": {},
     "output_type": "execute_result"
    }
   ],
   "source": [
    "import pandas as pd\n",
    "repitition_one = pd.read_csv(r'B1_GCO_F050_R1.txt',sep = '\\t',header = None)\n",
    "repitition_one.columns = ['time','sense_one', 'sense_two', 'sense_three','sense_four','sense_five',\n",
    "                          'sense_six','sense_seven','sense_eight']\n",
    "repitition_one.head()"
   ]
  },
  {
   "cell_type": "code",
   "execution_count": 4,
   "metadata": {},
   "outputs": [
    {
     "data": {
      "text/html": [
       "<div>\n",
       "<style>\n",
       "    .dataframe thead tr:only-child th {\n",
       "        text-align: right;\n",
       "    }\n",
       "\n",
       "    .dataframe thead th {\n",
       "        text-align: left;\n",
       "    }\n",
       "\n",
       "    .dataframe tbody tr th {\n",
       "        vertical-align: top;\n",
       "    }\n",
       "</style>\n",
       "<table border=\"1\" class=\"dataframe\">\n",
       "  <thead>\n",
       "    <tr style=\"text-align: right;\">\n",
       "      <th></th>\n",
       "      <th>time</th>\n",
       "      <th>sense_one</th>\n",
       "      <th>sense_two</th>\n",
       "      <th>sense_three</th>\n",
       "      <th>sense_four</th>\n",
       "      <th>sense_five</th>\n",
       "      <th>sense_six</th>\n",
       "      <th>sense_seven</th>\n",
       "      <th>sense_eight</th>\n",
       "    </tr>\n",
       "  </thead>\n",
       "  <tbody>\n",
       "    <tr>\n",
       "      <th>0</th>\n",
       "      <td>0.00</td>\n",
       "      <td>36.92</td>\n",
       "      <td>17.38</td>\n",
       "      <td>20.07</td>\n",
       "      <td>5.89</td>\n",
       "      <td>69.46</td>\n",
       "      <td>42.30</td>\n",
       "      <td>53.27</td>\n",
       "      <td>7.06</td>\n",
       "    </tr>\n",
       "    <tr>\n",
       "      <th>1</th>\n",
       "      <td>0.01</td>\n",
       "      <td>36.92</td>\n",
       "      <td>17.40</td>\n",
       "      <td>20.07</td>\n",
       "      <td>5.89</td>\n",
       "      <td>69.26</td>\n",
       "      <td>42.22</td>\n",
       "      <td>53.27</td>\n",
       "      <td>7.05</td>\n",
       "    </tr>\n",
       "    <tr>\n",
       "      <th>2</th>\n",
       "      <td>0.02</td>\n",
       "      <td>36.99</td>\n",
       "      <td>17.40</td>\n",
       "      <td>20.10</td>\n",
       "      <td>5.89</td>\n",
       "      <td>69.46</td>\n",
       "      <td>42.22</td>\n",
       "      <td>53.27</td>\n",
       "      <td>7.05</td>\n",
       "    </tr>\n",
       "    <tr>\n",
       "      <th>3</th>\n",
       "      <td>0.03</td>\n",
       "      <td>36.99</td>\n",
       "      <td>17.40</td>\n",
       "      <td>20.10</td>\n",
       "      <td>5.90</td>\n",
       "      <td>69.26</td>\n",
       "      <td>42.30</td>\n",
       "      <td>53.27</td>\n",
       "      <td>7.04</td>\n",
       "    </tr>\n",
       "    <tr>\n",
       "      <th>4</th>\n",
       "      <td>0.04</td>\n",
       "      <td>36.92</td>\n",
       "      <td>17.38</td>\n",
       "      <td>20.07</td>\n",
       "      <td>5.89</td>\n",
       "      <td>69.46</td>\n",
       "      <td>42.30</td>\n",
       "      <td>53.27</td>\n",
       "      <td>7.06</td>\n",
       "    </tr>\n",
       "  </tbody>\n",
       "</table>\n",
       "</div>"
      ],
      "text/plain": [
       "   time  sense_one  sense_two  sense_three  sense_four  sense_five  sense_six  \\\n",
       "0  0.00      36.92      17.38        20.07        5.89       69.46      42.30   \n",
       "1  0.01      36.92      17.40        20.07        5.89       69.26      42.22   \n",
       "2  0.02      36.99      17.40        20.10        5.89       69.46      42.22   \n",
       "3  0.03      36.99      17.40        20.10        5.90       69.26      42.30   \n",
       "4  0.04      36.92      17.38        20.07        5.89       69.46      42.30   \n",
       "\n",
       "   sense_seven  sense_eight  \n",
       "0        53.27         7.06  \n",
       "1        53.27         7.05  \n",
       "2        53.27         7.05  \n",
       "3        53.27         7.04  \n",
       "4        53.27         7.06  "
      ]
     },
     "execution_count": 4,
     "metadata": {},
     "output_type": "execute_result"
    }
   ],
   "source": [
    "repitition_two = pd.read_csv(r'B1_GCO_F050_R2.txt',sep = '\\t',header = None)\n",
    "repitition_two.columns = ['time','sense_one', 'sense_two', 'sense_three','sense_four','sense_five',\n",
    "                          'sense_six','sense_seven','sense_eight']\n",
    "repitition_two.head()"
   ]
  },
  {
   "cell_type": "code",
   "execution_count": 5,
   "metadata": {},
   "outputs": [
    {
     "data": {
      "text/html": [
       "<div>\n",
       "<style>\n",
       "    .dataframe thead tr:only-child th {\n",
       "        text-align: right;\n",
       "    }\n",
       "\n",
       "    .dataframe thead th {\n",
       "        text-align: left;\n",
       "    }\n",
       "\n",
       "    .dataframe tbody tr th {\n",
       "        vertical-align: top;\n",
       "    }\n",
       "</style>\n",
       "<table border=\"1\" class=\"dataframe\">\n",
       "  <thead>\n",
       "    <tr style=\"text-align: right;\">\n",
       "      <th></th>\n",
       "      <th>time</th>\n",
       "      <th>sense_one</th>\n",
       "      <th>sense_two</th>\n",
       "      <th>sense_three</th>\n",
       "      <th>sense_four</th>\n",
       "      <th>sense_five</th>\n",
       "      <th>sense_six</th>\n",
       "      <th>sense_seven</th>\n",
       "      <th>sense_eight</th>\n",
       "    </tr>\n",
       "  </thead>\n",
       "  <tbody>\n",
       "    <tr>\n",
       "      <th>0</th>\n",
       "      <td>0.00</td>\n",
       "      <td>44.30</td>\n",
       "      <td>21.83</td>\n",
       "      <td>24.74</td>\n",
       "      <td>8.04</td>\n",
       "      <td>80.85</td>\n",
       "      <td>49.28</td>\n",
       "      <td>65.38</td>\n",
       "      <td>8.48</td>\n",
       "    </tr>\n",
       "    <tr>\n",
       "      <th>1</th>\n",
       "      <td>0.01</td>\n",
       "      <td>44.30</td>\n",
       "      <td>21.86</td>\n",
       "      <td>24.78</td>\n",
       "      <td>8.04</td>\n",
       "      <td>80.85</td>\n",
       "      <td>49.28</td>\n",
       "      <td>65.56</td>\n",
       "      <td>8.48</td>\n",
       "    </tr>\n",
       "    <tr>\n",
       "      <th>2</th>\n",
       "      <td>0.02</td>\n",
       "      <td>44.30</td>\n",
       "      <td>21.86</td>\n",
       "      <td>24.78</td>\n",
       "      <td>8.04</td>\n",
       "      <td>80.85</td>\n",
       "      <td>49.28</td>\n",
       "      <td>65.56</td>\n",
       "      <td>8.50</td>\n",
       "    </tr>\n",
       "    <tr>\n",
       "      <th>3</th>\n",
       "      <td>0.03</td>\n",
       "      <td>44.30</td>\n",
       "      <td>21.90</td>\n",
       "      <td>24.78</td>\n",
       "      <td>8.04</td>\n",
       "      <td>80.85</td>\n",
       "      <td>49.28</td>\n",
       "      <td>65.38</td>\n",
       "      <td>8.48</td>\n",
       "    </tr>\n",
       "    <tr>\n",
       "      <th>4</th>\n",
       "      <td>0.04</td>\n",
       "      <td>44.21</td>\n",
       "      <td>21.86</td>\n",
       "      <td>24.74</td>\n",
       "      <td>8.04</td>\n",
       "      <td>80.85</td>\n",
       "      <td>49.28</td>\n",
       "      <td>65.56</td>\n",
       "      <td>8.48</td>\n",
       "    </tr>\n",
       "  </tbody>\n",
       "</table>\n",
       "</div>"
      ],
      "text/plain": [
       "   time  sense_one  sense_two  sense_three  sense_four  sense_five  sense_six  \\\n",
       "0  0.00      44.30      21.83        24.74        8.04       80.85      49.28   \n",
       "1  0.01      44.30      21.86        24.78        8.04       80.85      49.28   \n",
       "2  0.02      44.30      21.86        24.78        8.04       80.85      49.28   \n",
       "3  0.03      44.30      21.90        24.78        8.04       80.85      49.28   \n",
       "4  0.04      44.21      21.86        24.74        8.04       80.85      49.28   \n",
       "\n",
       "   sense_seven  sense_eight  \n",
       "0        65.38         8.48  \n",
       "1        65.56         8.48  \n",
       "2        65.56         8.50  \n",
       "3        65.38         8.48  \n",
       "4        65.56         8.48  "
      ]
     },
     "execution_count": 5,
     "metadata": {},
     "output_type": "execute_result"
    }
   ],
   "source": [
    "repitition_three = pd.read_csv(r'B1_GCO_F050_R3.txt',sep = '\\t',header = None)\n",
    "repitition_three.columns = ['time','sense_one', 'sense_two', 'sense_three','sense_four','sense_five',\n",
    "                          'sense_six','sense_seven','sense_eight']\n",
    "repitition_three.head()"
   ]
  },
  {
   "cell_type": "code",
   "execution_count": 6,
   "metadata": {},
   "outputs": [
    {
     "data": {
      "text/html": [
       "<div>\n",
       "<style>\n",
       "    .dataframe thead tr:only-child th {\n",
       "        text-align: right;\n",
       "    }\n",
       "\n",
       "    .dataframe thead th {\n",
       "        text-align: left;\n",
       "    }\n",
       "\n",
       "    .dataframe tbody tr th {\n",
       "        vertical-align: top;\n",
       "    }\n",
       "</style>\n",
       "<table border=\"1\" class=\"dataframe\">\n",
       "  <thead>\n",
       "    <tr style=\"text-align: right;\">\n",
       "      <th></th>\n",
       "      <th>time</th>\n",
       "      <th>sense_one</th>\n",
       "      <th>sense_two</th>\n",
       "      <th>sense_three</th>\n",
       "      <th>sense_four</th>\n",
       "      <th>sense_five</th>\n",
       "      <th>sense_six</th>\n",
       "      <th>sense_seven</th>\n",
       "      <th>sense_eight</th>\n",
       "    </tr>\n",
       "  </thead>\n",
       "  <tbody>\n",
       "    <tr>\n",
       "      <th>0</th>\n",
       "      <td>0.00</td>\n",
       "      <td>46.06</td>\n",
       "      <td>22.88</td>\n",
       "      <td>25.91</td>\n",
       "      <td>7.93</td>\n",
       "      <td>85.02</td>\n",
       "      <td>50.55</td>\n",
       "      <td>68.61</td>\n",
       "      <td>8.17</td>\n",
       "    </tr>\n",
       "    <tr>\n",
       "      <th>1</th>\n",
       "      <td>0.01</td>\n",
       "      <td>46.17</td>\n",
       "      <td>22.88</td>\n",
       "      <td>25.99</td>\n",
       "      <td>7.94</td>\n",
       "      <td>85.31</td>\n",
       "      <td>50.43</td>\n",
       "      <td>68.61</td>\n",
       "      <td>8.17</td>\n",
       "    </tr>\n",
       "    <tr>\n",
       "      <th>2</th>\n",
       "      <td>0.02</td>\n",
       "      <td>46.06</td>\n",
       "      <td>22.88</td>\n",
       "      <td>25.95</td>\n",
       "      <td>7.93</td>\n",
       "      <td>85.02</td>\n",
       "      <td>50.43</td>\n",
       "      <td>68.61</td>\n",
       "      <td>8.18</td>\n",
       "    </tr>\n",
       "    <tr>\n",
       "      <th>3</th>\n",
       "      <td>0.03</td>\n",
       "      <td>46.06</td>\n",
       "      <td>22.84</td>\n",
       "      <td>25.95</td>\n",
       "      <td>7.93</td>\n",
       "      <td>85.31</td>\n",
       "      <td>50.43</td>\n",
       "      <td>68.81</td>\n",
       "      <td>8.17</td>\n",
       "    </tr>\n",
       "    <tr>\n",
       "      <th>4</th>\n",
       "      <td>0.04</td>\n",
       "      <td>46.17</td>\n",
       "      <td>22.88</td>\n",
       "      <td>25.91</td>\n",
       "      <td>7.93</td>\n",
       "      <td>85.31</td>\n",
       "      <td>50.55</td>\n",
       "      <td>68.61</td>\n",
       "      <td>8.18</td>\n",
       "    </tr>\n",
       "  </tbody>\n",
       "</table>\n",
       "</div>"
      ],
      "text/plain": [
       "   time  sense_one  sense_two  sense_three  sense_four  sense_five  sense_six  \\\n",
       "0  0.00      46.06      22.88        25.91        7.93       85.02      50.55   \n",
       "1  0.01      46.17      22.88        25.99        7.94       85.31      50.43   \n",
       "2  0.02      46.06      22.88        25.95        7.93       85.02      50.43   \n",
       "3  0.03      46.06      22.84        25.95        7.93       85.31      50.43   \n",
       "4  0.04      46.17      22.88        25.91        7.93       85.31      50.55   \n",
       "\n",
       "   sense_seven  sense_eight  \n",
       "0        68.61         8.17  \n",
       "1        68.61         8.17  \n",
       "2        68.61         8.18  \n",
       "3        68.81         8.17  \n",
       "4        68.61         8.18  "
      ]
     },
     "execution_count": 6,
     "metadata": {},
     "output_type": "execute_result"
    }
   ],
   "source": [
    "repitition_four = pd.read_csv(r'B1_GCO_F050_R4.txt',sep = '\\t',header = None)\n",
    "repitition_four.columns = ['time','sense_one', 'sense_two', 'sense_three','sense_four','sense_five',\n",
    "                          'sense_six','sense_seven','sense_eight']\n",
    "repitition_four.head()"
   ]
  },
  {
   "cell_type": "code",
   "execution_count": 7,
   "metadata": {},
   "outputs": [
    {
     "data": {
      "image/png": "[encoded data removed]",
      "text/plain": [
       "<matplotlib.figure.Figure at 0x25513622b00>"
      ]
     },
     "metadata": {},
     "output_type": "display_data"
    },
    {
     "data": {
      "image/png": "[encoded data removed]",
      "text/plain": [
       "<matplotlib.figure.Figure at 0x25517a5c198>"
      ]
     },
     "metadata": {},
     "output_type": "display_data"
    },
    {
     "data": {
      "image/png": "[encoded data removed]",
      "text/plain": [
       "<matplotlib.figure.Figure at 0x25517bc1b70>"
      ]
     },
     "metadata": {},
     "output_type": "display_data"
    },
    {
     "data": {
      "image/png": "[encoded data removed]",
      "text/plain": [
       "<matplotlib.figure.Figure at 0x25517972320>"
      ]
     },
     "metadata": {},
     "output_type": "display_data"
    },
    {
     "data": {
      "image/png": "[encoded data removed]",
      "text/plain": [
       "<matplotlib.figure.Figure at 0x25517a7dcc0>"
      ]
     },
     "metadata": {},
     "output_type": "display_data"
    },
    {
     "data": {
      "image/png": "[encoded data removed]",
      "text/plain": [
       "<matplotlib.figure.Figure at 0x25517b4aef0>"
      ]
     },
     "metadata": {},
     "output_type": "display_data"
    },
    {
     "data": {
      "image/png": "[encoded data removed]",
      "text/plain": [
       "<matplotlib.figure.Figure at 0x25517c1cf28>"
      ]
     },
     "metadata": {},
     "output_type": "display_data"
    },
    {
     "data": {
      "image/png": "[encoded data removed]",
      "text/plain": [
       "<matplotlib.figure.Figure at 0x25517cd2e48>"
      ]
     },
     "metadata": {},
     "output_type": "display_data"
    },
    {
     "data": {
      "image/png": "[encoded data removed]",
      "text/plain": [
       "<matplotlib.figure.Figure at 0x25517e78f28>"
      ]
     },
     "metadata": {},
     "output_type": "display_data"
    }
   ],
   "source": [
    "import matplotlib.pyplot as plt\n",
    "\n",
    "for key in repitition_one.keys():\n",
    "    plt.boxplot(repitition_one[key])\n",
    "    plt.grid('on')\n",
    "    plt.title('Box plot of '+str(key))\n",
    "    plt.show()\n",
    "    plt.savefig('Box_plot_of_'+ str(key)+ 'board_one_CO_at_50ppm.jpeg')"
   ]
  },
  {
   "cell_type": "code",
   "execution_count": 8,
   "metadata": {
    "collapsed": true
   },
   "outputs": [],
   "source": [
    "repitition_one['sense_one'][repitition_one['sense_one'] < 38.9] = 38.9\n",
    "repitition_one['sense_one'][repitition_one['sense_one'] > 40.0] = 40.0"
   ]
  },
  {
   "cell_type": "code",
   "execution_count": 9,
   "metadata": {
    "collapsed": true
   },
   "outputs": [],
   "source": [
    "repitition_one['sense_two'][repitition_one['sense_two'] <= 18.45] = 18.45"
   ]
  },
  {
   "cell_type": "code",
   "execution_count": 18,
   "metadata": {
    "collapsed": true
   },
   "outputs": [],
   "source": [
    "repitition_one['sense_three'][repitition_one['sense_three'] < 21.53] = 21.53"
   ]
  },
  {
   "cell_type": "code",
   "execution_count": 19,
   "metadata": {
    "collapsed": true
   },
   "outputs": [],
   "source": [
    "repitition_one['sense_four'][repitition_one['sense_four'] < 5.42 ]= 5.42"
   ]
  },
  {
   "cell_type": "code",
   "execution_count": 13,
   "metadata": {
    "collapsed": true
   },
   "outputs": [],
   "source": [
    "repitition_one['sense_five'][repitition_one['sense_five'] > 74.5] = 74.5\n",
    "repitition_one['sense_five'][repitition_one['sense_five'] < 72.9] = 72.9"
   ]
  },
  {
   "cell_type": "code",
   "execution_count": 14,
   "metadata": {
    "collapsed": true
   },
   "outputs": [],
   "source": [
    "repitition_one['sense_six'][repitition_one['sense_six'] < 45.5] = 45.5\n",
    "repitition_one['sense_six'][repitition_one['sense_six'] > 46.5] = 46.5"
   ]
  },
  {
   "cell_type": "code",
   "execution_count": 28,
   "metadata": {
    "collapsed": true
   },
   "outputs": [],
   "source": [
    "repitition_one['sense_seven'][repitition_one['sense_seven'] < 55.7]= 55.7\n",
    "repitition_one['sense_seven'][repitition_one['sense_seven'] > 56.8] = 56.8"
   ]
  },
  {
   "cell_type": "code",
   "execution_count": 24,
   "metadata": {
    "collapsed": true
   },
   "outputs": [],
   "source": [
    "repitition_one['sense_eight'][repitition_one['sense_eight'] <6.62] = 6.62"
   ]
  },
  {
   "cell_type": "code",
   "execution_count": 29,
   "metadata": {},
   "outputs": [
    {
     "data": {
      "image/png": "[encoded data removed]",
      "text/plain": [
       "<matplotlib.figure.Figure at 0x25517f06cf8>"
      ]
     },
     "metadata": {},
     "output_type": "display_data"
    },
    {
     "data": {
      "image/png": "[encoded data removed]",
      "text/plain": [
       "<matplotlib.figure.Figure at 0x25517da2f28>"
      ]
     },
     "metadata": {},
     "output_type": "display_data"
    },
    {
     "data": {
      "image/png": "[encoded data removed]",
      "text/plain": [
       "<matplotlib.figure.Figure at 0x25517b60c18>"
      ]
     },
     "metadata": {},
     "output_type": "display_data"
    },
    {
     "data": {
      "image/png": "[encoded data removed]",
      "text/plain": [
       "<matplotlib.figure.Figure at 0x25517a16ba8>"
      ]
     },
     "metadata": {},
     "output_type": "display_data"
    },
    {
     "data": {
      "image/png": "[encoded data removed]",
      "text/plain": [
       "<matplotlib.figure.Figure at 0x255144247b8>"
      ]
     },
     "metadata": {},
     "output_type": "display_data"
    },
    {
     "data": {
      "image/png": "[encoded data removed]",
      "text/plain": [
       "<matplotlib.figure.Figure at 0x25517dd9470>"
      ]
     },
     "metadata": {},
     "output_type": "display_data"
    },
    {
     "data": {
      "image/png": "[encoded data removed]",
      "text/plain": [
       "<matplotlib.figure.Figure at 0x25517abfb70>"
      ]
     },
     "metadata": {},
     "output_type": "display_data"
    },
    {
     "data": {
      "image/png": "[encoded data removed]",
      "text/plain": [
       "<matplotlib.figure.Figure at 0x25517c88da0>"
      ]
     },
     "metadata": {},
     "output_type": "display_data"
    },
    {
     "data": {
      "image/png": "[encoded data removed]",
      "text/plain": [
       "<matplotlib.figure.Figure at 0x25517b40f98>"
      ]
     },
     "metadata": {},
     "output_type": "display_data"
    }
   ],
   "source": [
    "import matplotlib.pyplot as plt\n",
    "\n",
    "for key in repitition_one.keys():\n",
    "    plt.boxplot(repitition_one[key])\n",
    "    plt.grid('on')\n",
    "    plt.title('Box plot of '+str(key))\n",
    "    plt.show()\n",
    "    plt.savefig('Box_plot_of_'+ str(key)+ '_no_outliers_board_one_CO_at_50ppm.jpeg')"
   ]
  },
  {
   "cell_type": "code",
   "execution_count": 30,
   "metadata": {
    "collapsed": true
   },
   "outputs": [],
   "source": [
    "final_repitition = (repitition_one + repitition_two+repitition_three + repitition_four) / 4"
   ]
  },
  {
   "cell_type": "code",
   "execution_count": 32,
   "metadata": {},
   "outputs": [
    {
     "data": {
      "text/html": [
       "<div>\n",
       "<style>\n",
       "    .dataframe thead tr:only-child th {\n",
       "        text-align: right;\n",
       "    }\n",
       "\n",
       "    .dataframe thead th {\n",
       "        text-align: left;\n",
       "    }\n",
       "\n",
       "    .dataframe tbody tr th {\n",
       "        vertical-align: top;\n",
       "    }\n",
       "</style>\n",
       "<table border=\"1\" class=\"dataframe\">\n",
       "  <thead>\n",
       "    <tr style=\"text-align: right;\">\n",
       "      <th></th>\n",
       "      <th>time</th>\n",
       "      <th>sense_one</th>\n",
       "      <th>sense_two</th>\n",
       "      <th>sense_three</th>\n",
       "      <th>sense_four</th>\n",
       "      <th>sense_five</th>\n",
       "      <th>sense_six</th>\n",
       "      <th>sense_seven</th>\n",
       "      <th>sense_eight</th>\n",
       "    </tr>\n",
       "  </thead>\n",
       "  <tbody>\n",
       "    <tr>\n",
       "      <th>0</th>\n",
       "      <td>0.00</td>\n",
       "      <td>41.7050</td>\n",
       "      <td>20.2150</td>\n",
       "      <td>23.1600</td>\n",
       "      <td>6.8625</td>\n",
       "      <td>77.3250</td>\n",
       "      <td>47.050</td>\n",
       "      <td>60.8725</td>\n",
       "      <td>7.6850</td>\n",
       "    </tr>\n",
       "    <tr>\n",
       "      <th>1</th>\n",
       "      <td>0.01</td>\n",
       "      <td>41.7525</td>\n",
       "      <td>20.2275</td>\n",
       "      <td>23.1825</td>\n",
       "      <td>6.8650</td>\n",
       "      <td>77.3475</td>\n",
       "      <td>47.025</td>\n",
       "      <td>60.9550</td>\n",
       "      <td>7.6825</td>\n",
       "    </tr>\n",
       "    <tr>\n",
       "      <th>2</th>\n",
       "      <td>0.02</td>\n",
       "      <td>41.7225</td>\n",
       "      <td>20.2350</td>\n",
       "      <td>23.1800</td>\n",
       "      <td>6.8625</td>\n",
       "      <td>77.3250</td>\n",
       "      <td>47.000</td>\n",
       "      <td>60.9550</td>\n",
       "      <td>7.6900</td>\n",
       "    </tr>\n",
       "    <tr>\n",
       "      <th>3</th>\n",
       "      <td>0.03</td>\n",
       "      <td>41.7225</td>\n",
       "      <td>20.2350</td>\n",
       "      <td>23.1725</td>\n",
       "      <td>6.8650</td>\n",
       "      <td>77.3475</td>\n",
       "      <td>47.020</td>\n",
       "      <td>60.9600</td>\n",
       "      <td>7.6800</td>\n",
       "    </tr>\n",
       "    <tr>\n",
       "      <th>4</th>\n",
       "      <td>0.04</td>\n",
       "      <td>41.7100</td>\n",
       "      <td>20.2225</td>\n",
       "      <td>23.1450</td>\n",
       "      <td>6.8650</td>\n",
       "      <td>77.3975</td>\n",
       "      <td>47.050</td>\n",
       "      <td>60.9550</td>\n",
       "      <td>7.6900</td>\n",
       "    </tr>\n",
       "  </tbody>\n",
       "</table>\n",
       "</div>"
      ],
      "text/plain": [
       "   time  sense_one  sense_two  sense_three  sense_four  sense_five  sense_six  \\\n",
       "0  0.00    41.7050    20.2150      23.1600      6.8625     77.3250     47.050   \n",
       "1  0.01    41.7525    20.2275      23.1825      6.8650     77.3475     47.025   \n",
       "2  0.02    41.7225    20.2350      23.1800      6.8625     77.3250     47.000   \n",
       "3  0.03    41.7225    20.2350      23.1725      6.8650     77.3475     47.020   \n",
       "4  0.04    41.7100    20.2225      23.1450      6.8650     77.3975     47.050   \n",
       "\n",
       "   sense_seven  sense_eight  \n",
       "0      60.8725       7.6850  \n",
       "1      60.9550       7.6825  \n",
       "2      60.9550       7.6900  \n",
       "3      60.9600       7.6800  \n",
       "4      60.9550       7.6900  "
      ]
     },
     "execution_count": 32,
     "metadata": {},
     "output_type": "execute_result"
    }
   ],
   "source": [
    "final_repitition.head()"
   ]
  },
  {
   "cell_type": "code",
   "execution_count": 31,
   "metadata": {
    "collapsed": true
   },
   "outputs": [],
   "source": [
    "final_repitition.to_csv('Repitition_CO_at_50_ppm.csv')"
   ]
  },
  {
   "cell_type": "code",
   "execution_count": null,
   "metadata": {
    "collapsed": true
   },
   "outputs": [],
   "source": []
  }
 ],
 "metadata": {
  "kernelspec": {
   "display_name": "Python 3",
   "language": "python",
   "name": "python3"
  },
  "language_info": {
   "codemirror_mode": {
    "name": "ipython",
    "version": 3
   },
   "file_extension": ".py",
   "mimetype": "text/x-python",
   "name": "python",
   "nbconvert_exporter": "python",
   "pygments_lexer": "ipython3",
   "version": "3.6.1"
  }
 },
 "nbformat": 4,
 "nbformat_minor": 2
}
