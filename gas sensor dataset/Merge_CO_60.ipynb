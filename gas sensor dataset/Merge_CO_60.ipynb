{
 "cells": [
  {
   "cell_type": "code",
   "execution_count": 1,
   "metadata": {},
   "outputs": [
    {
     "data": {
      "text/plain": [
       "['.ipynb_checkpoints',\n",
       " 'B1_GCO_F060_R1.txt',\n",
       " 'B1_GCO_F060_R2.txt',\n",
       " 'B1_GCO_F060_R3.txt',\n",
       " 'B1_GCO_F060_R4.txt',\n",
       " 'Merge_CO_60.ipynb']"
      ]
     },
     "execution_count": 1,
     "metadata": {},
     "output_type": "execute_result"
    }
   ],
   "source": [
    "import os\n",
    "import sys\n",
    "os.listdir()"
   ]
  },
  {
   "cell_type": "code",
   "execution_count": 2,
   "metadata": {},
   "outputs": [
    {
     "data": {
      "text/html": [
       "<div>\n",
       "<style>\n",
       "    .dataframe thead tr:only-child th {\n",
       "        text-align: right;\n",
       "    }\n",
       "\n",
       "    .dataframe thead th {\n",
       "        text-align: left;\n",
       "    }\n",
       "\n",
       "    .dataframe tbody tr th {\n",
       "        vertical-align: top;\n",
       "    }\n",
       "</style>\n",
       "<table border=\"1\" class=\"dataframe\">\n",
       "  <thead>\n",
       "    <tr style=\"text-align: right;\">\n",
       "      <th></th>\n",
       "      <th>time</th>\n",
       "      <th>sense_one</th>\n",
       "      <th>sense_two</th>\n",
       "      <th>sense_three</th>\n",
       "      <th>sense_four</th>\n",
       "      <th>sense_five</th>\n",
       "      <th>sense_six</th>\n",
       "      <th>sense_seven</th>\n",
       "      <th>sense_eight</th>\n",
       "    </tr>\n",
       "  </thead>\n",
       "  <tbody>\n",
       "    <tr>\n",
       "      <th>0</th>\n",
       "      <td>0.00</td>\n",
       "      <td>39.70</td>\n",
       "      <td>18.90</td>\n",
       "      <td>22.02</td>\n",
       "      <td>5.61</td>\n",
       "      <td>74.43</td>\n",
       "      <td>46.17</td>\n",
       "      <td>56.66</td>\n",
       "      <td>6.99</td>\n",
       "    </tr>\n",
       "    <tr>\n",
       "      <th>1</th>\n",
       "      <td>0.01</td>\n",
       "      <td>39.78</td>\n",
       "      <td>18.93</td>\n",
       "      <td>22.02</td>\n",
       "      <td>5.62</td>\n",
       "      <td>74.20</td>\n",
       "      <td>46.07</td>\n",
       "      <td>56.66</td>\n",
       "      <td>6.99</td>\n",
       "    </tr>\n",
       "    <tr>\n",
       "      <th>2</th>\n",
       "      <td>0.02</td>\n",
       "      <td>39.70</td>\n",
       "      <td>18.93</td>\n",
       "      <td>22.02</td>\n",
       "      <td>5.61</td>\n",
       "      <td>74.20</td>\n",
       "      <td>46.07</td>\n",
       "      <td>56.80</td>\n",
       "      <td>7.00</td>\n",
       "    </tr>\n",
       "    <tr>\n",
       "      <th>3</th>\n",
       "      <td>0.03</td>\n",
       "      <td>39.78</td>\n",
       "      <td>18.90</td>\n",
       "      <td>22.02</td>\n",
       "      <td>5.61</td>\n",
       "      <td>74.43</td>\n",
       "      <td>46.17</td>\n",
       "      <td>56.80</td>\n",
       "      <td>6.99</td>\n",
       "    </tr>\n",
       "    <tr>\n",
       "      <th>4</th>\n",
       "      <td>0.04</td>\n",
       "      <td>39.78</td>\n",
       "      <td>18.93</td>\n",
       "      <td>22.05</td>\n",
       "      <td>5.61</td>\n",
       "      <td>74.43</td>\n",
       "      <td>46.07</td>\n",
       "      <td>56.80</td>\n",
       "      <td>6.99</td>\n",
       "    </tr>\n",
       "  </tbody>\n",
       "</table>\n",
       "</div>"
      ],
      "text/plain": [
       "   time  sense_one  sense_two  sense_three  sense_four  sense_five  sense_six  \\\n",
       "0  0.00      39.70      18.90        22.02        5.61       74.43      46.17   \n",
       "1  0.01      39.78      18.93        22.02        5.62       74.20      46.07   \n",
       "2  0.02      39.70      18.93        22.02        5.61       74.20      46.07   \n",
       "3  0.03      39.78      18.90        22.02        5.61       74.43      46.17   \n",
       "4  0.04      39.78      18.93        22.05        5.61       74.43      46.07   \n",
       "\n",
       "   sense_seven  sense_eight  \n",
       "0        56.66         6.99  \n",
       "1        56.66         6.99  \n",
       "2        56.80         7.00  \n",
       "3        56.80         6.99  \n",
       "4        56.80         6.99  "
      ]
     },
     "execution_count": 2,
     "metadata": {},
     "output_type": "execute_result"
    }
   ],
   "source": [
    "import pandas as pd\n",
    "repitition_one = pd.read_csv(r'B1_GCO_F060_R1.txt',sep = '\\t',header = None)\n",
    "repitition_one.columns = ['time','sense_one', 'sense_two', 'sense_three','sense_four','sense_five',\n",
    "                          'sense_six','sense_seven','sense_eight']\n",
    "repitition_one.head()"
   ]
  },
  {
   "cell_type": "code",
   "execution_count": 3,
   "metadata": {},
   "outputs": [
    {
     "data": {
      "text/html": [
       "<div>\n",
       "<style>\n",
       "    .dataframe thead tr:only-child th {\n",
       "        text-align: right;\n",
       "    }\n",
       "\n",
       "    .dataframe thead th {\n",
       "        text-align: left;\n",
       "    }\n",
       "\n",
       "    .dataframe tbody tr th {\n",
       "        vertical-align: top;\n",
       "    }\n",
       "</style>\n",
       "<table border=\"1\" class=\"dataframe\">\n",
       "  <thead>\n",
       "    <tr style=\"text-align: right;\">\n",
       "      <th></th>\n",
       "      <th>time</th>\n",
       "      <th>sense_one</th>\n",
       "      <th>sense_two</th>\n",
       "      <th>sense_three</th>\n",
       "      <th>sense_four</th>\n",
       "      <th>sense_five</th>\n",
       "      <th>sense_six</th>\n",
       "      <th>sense_seven</th>\n",
       "      <th>sense_eight</th>\n",
       "    </tr>\n",
       "  </thead>\n",
       "  <tbody>\n",
       "    <tr>\n",
       "      <th>0</th>\n",
       "      <td>0.00</td>\n",
       "      <td>38.16</td>\n",
       "      <td>17.89</td>\n",
       "      <td>20.72</td>\n",
       "      <td>6.03</td>\n",
       "      <td>71.55</td>\n",
       "      <td>43.56</td>\n",
       "      <td>54.99</td>\n",
       "      <td>7.17</td>\n",
       "    </tr>\n",
       "    <tr>\n",
       "      <th>1</th>\n",
       "      <td>0.01</td>\n",
       "      <td>38.08</td>\n",
       "      <td>17.84</td>\n",
       "      <td>20.75</td>\n",
       "      <td>6.02</td>\n",
       "      <td>71.55</td>\n",
       "      <td>43.66</td>\n",
       "      <td>54.72</td>\n",
       "      <td>7.16</td>\n",
       "    </tr>\n",
       "    <tr>\n",
       "      <th>2</th>\n",
       "      <td>0.02</td>\n",
       "      <td>38.08</td>\n",
       "      <td>17.87</td>\n",
       "      <td>20.72</td>\n",
       "      <td>6.02</td>\n",
       "      <td>71.55</td>\n",
       "      <td>43.56</td>\n",
       "      <td>54.85</td>\n",
       "      <td>7.17</td>\n",
       "    </tr>\n",
       "    <tr>\n",
       "      <th>3</th>\n",
       "      <td>0.03</td>\n",
       "      <td>38.08</td>\n",
       "      <td>17.87</td>\n",
       "      <td>20.72</td>\n",
       "      <td>6.02</td>\n",
       "      <td>71.55</td>\n",
       "      <td>43.47</td>\n",
       "      <td>54.85</td>\n",
       "      <td>7.15</td>\n",
       "    </tr>\n",
       "    <tr>\n",
       "      <th>4</th>\n",
       "      <td>0.04</td>\n",
       "      <td>38.16</td>\n",
       "      <td>17.87</td>\n",
       "      <td>20.75</td>\n",
       "      <td>6.03</td>\n",
       "      <td>71.55</td>\n",
       "      <td>43.56</td>\n",
       "      <td>54.85</td>\n",
       "      <td>7.16</td>\n",
       "    </tr>\n",
       "  </tbody>\n",
       "</table>\n",
       "</div>"
      ],
      "text/plain": [
       "   time  sense_one  sense_two  sense_three  sense_four  sense_five  sense_six  \\\n",
       "0  0.00      38.16      17.89        20.72        6.03       71.55      43.56   \n",
       "1  0.01      38.08      17.84        20.75        6.02       71.55      43.66   \n",
       "2  0.02      38.08      17.87        20.72        6.02       71.55      43.56   \n",
       "3  0.03      38.08      17.87        20.72        6.02       71.55      43.47   \n",
       "4  0.04      38.16      17.87        20.75        6.03       71.55      43.56   \n",
       "\n",
       "   sense_seven  sense_eight  \n",
       "0        54.99         7.17  \n",
       "1        54.72         7.16  \n",
       "2        54.85         7.17  \n",
       "3        54.85         7.15  \n",
       "4        54.85         7.16  "
      ]
     },
     "execution_count": 3,
     "metadata": {},
     "output_type": "execute_result"
    }
   ],
   "source": [
    "repitition_two = pd.read_csv(r'B1_GCO_F060_R2.txt',sep = '\\t',header = None)\n",
    "repitition_two.columns = ['time','sense_one', 'sense_two', 'sense_three','sense_four','sense_five',\n",
    "                          'sense_six','sense_seven','sense_eight']\n",
    "repitition_two.head()"
   ]
  },
  {
   "cell_type": "code",
   "execution_count": 4,
   "metadata": {},
   "outputs": [
    {
     "data": {
      "text/html": [
       "<div>\n",
       "<style>\n",
       "    .dataframe thead tr:only-child th {\n",
       "        text-align: right;\n",
       "    }\n",
       "\n",
       "    .dataframe thead th {\n",
       "        text-align: left;\n",
       "    }\n",
       "\n",
       "    .dataframe tbody tr th {\n",
       "        vertical-align: top;\n",
       "    }\n",
       "</style>\n",
       "<table border=\"1\" class=\"dataframe\">\n",
       "  <thead>\n",
       "    <tr style=\"text-align: right;\">\n",
       "      <th></th>\n",
       "      <th>time</th>\n",
       "      <th>sense_one</th>\n",
       "      <th>sense_two</th>\n",
       "      <th>sense_three</th>\n",
       "      <th>sense_four</th>\n",
       "      <th>sense_five</th>\n",
       "      <th>sense_six</th>\n",
       "      <th>sense_seven</th>\n",
       "      <th>sense_eight</th>\n",
       "    </tr>\n",
       "  </thead>\n",
       "  <tbody>\n",
       "    <tr>\n",
       "      <th>0</th>\n",
       "      <td>0.00</td>\n",
       "      <td>44.11</td>\n",
       "      <td>21.73</td>\n",
       "      <td>24.66</td>\n",
       "      <td>8.02</td>\n",
       "      <td>80.58</td>\n",
       "      <td>49.28</td>\n",
       "      <td>65.19</td>\n",
       "      <td>8.56</td>\n",
       "    </tr>\n",
       "    <tr>\n",
       "      <th>1</th>\n",
       "      <td>0.01</td>\n",
       "      <td>44.11</td>\n",
       "      <td>21.77</td>\n",
       "      <td>24.66</td>\n",
       "      <td>8.04</td>\n",
       "      <td>80.58</td>\n",
       "      <td>49.16</td>\n",
       "      <td>65.19</td>\n",
       "      <td>8.56</td>\n",
       "    </tr>\n",
       "    <tr>\n",
       "      <th>2</th>\n",
       "      <td>0.02</td>\n",
       "      <td>44.11</td>\n",
       "      <td>21.77</td>\n",
       "      <td>24.66</td>\n",
       "      <td>8.02</td>\n",
       "      <td>80.58</td>\n",
       "      <td>49.16</td>\n",
       "      <td>65.19</td>\n",
       "      <td>8.56</td>\n",
       "    </tr>\n",
       "    <tr>\n",
       "      <th>3</th>\n",
       "      <td>0.03</td>\n",
       "      <td>44.11</td>\n",
       "      <td>21.73</td>\n",
       "      <td>24.66</td>\n",
       "      <td>8.04</td>\n",
       "      <td>80.58</td>\n",
       "      <td>49.16</td>\n",
       "      <td>65.19</td>\n",
       "      <td>8.56</td>\n",
       "    </tr>\n",
       "    <tr>\n",
       "      <th>4</th>\n",
       "      <td>0.04</td>\n",
       "      <td>44.11</td>\n",
       "      <td>21.77</td>\n",
       "      <td>24.66</td>\n",
       "      <td>8.04</td>\n",
       "      <td>80.58</td>\n",
       "      <td>49.05</td>\n",
       "      <td>65.19</td>\n",
       "      <td>8.57</td>\n",
       "    </tr>\n",
       "  </tbody>\n",
       "</table>\n",
       "</div>"
      ],
      "text/plain": [
       "   time  sense_one  sense_two  sense_three  sense_four  sense_five  sense_six  \\\n",
       "0  0.00      44.11      21.73        24.66        8.02       80.58      49.28   \n",
       "1  0.01      44.11      21.77        24.66        8.04       80.58      49.16   \n",
       "2  0.02      44.11      21.77        24.66        8.02       80.58      49.16   \n",
       "3  0.03      44.11      21.73        24.66        8.04       80.58      49.16   \n",
       "4  0.04      44.11      21.77        24.66        8.04       80.58      49.05   \n",
       "\n",
       "   sense_seven  sense_eight  \n",
       "0        65.19         8.56  \n",
       "1        65.19         8.56  \n",
       "2        65.19         8.56  \n",
       "3        65.19         8.56  \n",
       "4        65.19         8.57  "
      ]
     },
     "execution_count": 4,
     "metadata": {},
     "output_type": "execute_result"
    }
   ],
   "source": [
    "repitition_three = pd.read_csv(r'B1_GCO_F060_R3.txt',sep = '\\t',header = None)\n",
    "repitition_three.columns = ['time','sense_one', 'sense_two', 'sense_three','sense_four','sense_five',\n",
    "                          'sense_six','sense_seven','sense_eight']\n",
    "repitition_three.head()"
   ]
  },
  {
   "cell_type": "code",
   "execution_count": 5,
   "metadata": {},
   "outputs": [
    {
     "data": {
      "text/html": [
       "<div>\n",
       "<style>\n",
       "    .dataframe thead tr:only-child th {\n",
       "        text-align: right;\n",
       "    }\n",
       "\n",
       "    .dataframe thead th {\n",
       "        text-align: left;\n",
       "    }\n",
       "\n",
       "    .dataframe tbody tr th {\n",
       "        vertical-align: top;\n",
       "    }\n",
       "</style>\n",
       "<table border=\"1\" class=\"dataframe\">\n",
       "  <thead>\n",
       "    <tr style=\"text-align: right;\">\n",
       "      <th></th>\n",
       "      <th>time</th>\n",
       "      <th>sense_one</th>\n",
       "      <th>sense_two</th>\n",
       "      <th>sense_three</th>\n",
       "      <th>sense_four</th>\n",
       "      <th>sense_five</th>\n",
       "      <th>sense_six</th>\n",
       "      <th>sense_seven</th>\n",
       "      <th>sense_eight</th>\n",
       "    </tr>\n",
       "  </thead>\n",
       "  <tbody>\n",
       "    <tr>\n",
       "      <th>0</th>\n",
       "      <td>0.00</td>\n",
       "      <td>46.17</td>\n",
       "      <td>22.91</td>\n",
       "      <td>25.95</td>\n",
       "      <td>8.00</td>\n",
       "      <td>85.31</td>\n",
       "      <td>50.66</td>\n",
       "      <td>68.61</td>\n",
       "      <td>8.24</td>\n",
       "    </tr>\n",
       "    <tr>\n",
       "      <th>1</th>\n",
       "      <td>0.01</td>\n",
       "      <td>46.17</td>\n",
       "      <td>22.91</td>\n",
       "      <td>25.99</td>\n",
       "      <td>8.00</td>\n",
       "      <td>85.31</td>\n",
       "      <td>50.55</td>\n",
       "      <td>68.81</td>\n",
       "      <td>8.24</td>\n",
       "    </tr>\n",
       "    <tr>\n",
       "      <th>2</th>\n",
       "      <td>0.02</td>\n",
       "      <td>46.17</td>\n",
       "      <td>22.91</td>\n",
       "      <td>25.99</td>\n",
       "      <td>8.01</td>\n",
       "      <td>85.31</td>\n",
       "      <td>50.55</td>\n",
       "      <td>68.81</td>\n",
       "      <td>8.26</td>\n",
       "    </tr>\n",
       "    <tr>\n",
       "      <th>3</th>\n",
       "      <td>0.03</td>\n",
       "      <td>46.17</td>\n",
       "      <td>22.91</td>\n",
       "      <td>25.95</td>\n",
       "      <td>8.00</td>\n",
       "      <td>85.31</td>\n",
       "      <td>50.66</td>\n",
       "      <td>68.81</td>\n",
       "      <td>8.24</td>\n",
       "    </tr>\n",
       "    <tr>\n",
       "      <th>4</th>\n",
       "      <td>0.04</td>\n",
       "      <td>46.17</td>\n",
       "      <td>22.95</td>\n",
       "      <td>25.99</td>\n",
       "      <td>8.00</td>\n",
       "      <td>85.31</td>\n",
       "      <td>50.66</td>\n",
       "      <td>68.81</td>\n",
       "      <td>8.25</td>\n",
       "    </tr>\n",
       "  </tbody>\n",
       "</table>\n",
       "</div>"
      ],
      "text/plain": [
       "   time  sense_one  sense_two  sense_three  sense_four  sense_five  sense_six  \\\n",
       "0  0.00      46.17      22.91        25.95        8.00       85.31      50.66   \n",
       "1  0.01      46.17      22.91        25.99        8.00       85.31      50.55   \n",
       "2  0.02      46.17      22.91        25.99        8.01       85.31      50.55   \n",
       "3  0.03      46.17      22.91        25.95        8.00       85.31      50.66   \n",
       "4  0.04      46.17      22.95        25.99        8.00       85.31      50.66   \n",
       "\n",
       "   sense_seven  sense_eight  \n",
       "0        68.61         8.24  \n",
       "1        68.81         8.24  \n",
       "2        68.81         8.26  \n",
       "3        68.81         8.24  \n",
       "4        68.81         8.25  "
      ]
     },
     "execution_count": 5,
     "metadata": {},
     "output_type": "execute_result"
    }
   ],
   "source": [
    "repitition_four = pd.read_csv(r'B1_GCO_F060_R4.txt',sep = '\\t',header = None)\n",
    "repitition_four.columns = ['time','sense_one', 'sense_two', 'sense_three','sense_four','sense_five',\n",
    "                          'sense_six','sense_seven','sense_eight']\n",
    "repitition_four.head()"
   ]
  },
  {
   "cell_type": "code",
   "execution_count": 6,
   "metadata": {},
   "outputs": [
    {
     "data": {
      "image/png": "[encoded data removed]",
      "text/plain": [
       "<matplotlib.figure.Figure at 0x20e487d80f0>"
      ]
     },
     "metadata": {},
     "output_type": "display_data"
    },
    {
     "data": {
      "image/png": "[encoded data removed]",
      "text/plain": [
       "<matplotlib.figure.Figure at 0x20e49ab32e8>"
      ]
     },
     "metadata": {},
     "output_type": "display_data"
    },
    {
     "data": {
      "image/png": "[encoded data removed]",
      "text/plain": [
       "<matplotlib.figure.Figure at 0x20e49d13cf8>"
      ]
     },
     "metadata": {},
     "output_type": "display_data"
    },
    {
     "data": {
      "image/png": "[encoded data removed]",
      "text/plain": [
       "<matplotlib.figure.Figure at 0x20e49b771d0>"
      ]
     },
     "metadata": {},
     "output_type": "display_data"
    },
    {
     "data": {
      "image/png": "[encoded data removed]",
      "text/plain": [
       "<matplotlib.figure.Figure at 0x20e49b89f28>"
      ]
     },
     "metadata": {},
     "output_type": "display_data"
    },
    {
     "data": {
      "image/png": "[encoded data removed]",
      "text/plain": [
       "<matplotlib.figure.Figure at 0x20e49c3ad30>"
      ]
     },
     "metadata": {},
     "output_type": "display_data"
    },
    {
     "data": {
      "image/png": "[encoded data removed]",
      "text/plain": [
       "<matplotlib.figure.Figure at 0x20e49d34208>"
      ]
     },
     "metadata": {},
     "output_type": "display_data"
    },
    {
     "data": {
      "image/png": "[encoded data removed]",
      "text/plain": [
       "<matplotlib.figure.Figure at 0x20e49d89e48>"
      ]
     },
     "metadata": {},
     "output_type": "display_data"
    },
    {
     "data": {
      "image/png": "[encoded data removed]",
      "text/plain": [
       "<matplotlib.figure.Figure at 0x20e49e87d30>"
      ]
     },
     "metadata": {},
     "output_type": "display_data"
    }
   ],
   "source": [
    "import matplotlib.pyplot as plt\n",
    "\n",
    "for key in repitition_one.keys():\n",
    "    plt.boxplot(repitition_one[key])\n",
    "    plt.grid('on')\n",
    "    plt.title('Box plot of '+str(key))\n",
    "    plt.show()\n",
    "    plt.savefig('Box_plot_of_'+ str(key)+ 'board_one_CO_at_60ppm.jpeg')"
   ]
  },
  {
   "cell_type": "code",
   "execution_count": 7,
   "metadata": {
    "collapsed": true
   },
   "outputs": [],
   "source": [
    "repitition_one['sense_one'][repitition_one['sense_one'] < 39] = 39\n",
    "repitition_one['sense_one'][repitition_one['sense_one'] > 40.1] = 40.1"
   ]
  },
  {
   "cell_type": "code",
   "execution_count": 8,
   "metadata": {
    "collapsed": true
   },
   "outputs": [],
   "source": [
    "repitition_one['sense_two'][repitition_one['sense_two'] < 18.6] = 18.6\n",
    "repitition_one['sense_two'][repitition_one['sense_two'] > 18.85] = 18.85"
   ]
  },
  {
   "cell_type": "code",
   "execution_count": 16,
   "metadata": {
    "collapsed": true
   },
   "outputs": [],
   "source": [
    "repitition_one['sense_three'][repitition_one['sense_three'] < 21.7] = 21.7\n",
    "repitition_one['sense_three'][repitition_one['sense_three'] > 21.5] = 21.5"
   ]
  },
  {
   "cell_type": "code",
   "execution_count": 10,
   "metadata": {
    "collapsed": true
   },
   "outputs": [],
   "source": [
    "repitition_one['sense_four'][repitition_one['sense_four'] < 4.9 ]= 4.9"
   ]
  },
  {
   "cell_type": "code",
   "execution_count": 11,
   "metadata": {
    "collapsed": true
   },
   "outputs": [],
   "source": [
    "repitition_one['sense_five'][repitition_one['sense_five'] < 72.9] = 72.9\n",
    "repitition_one['sense_five'][repitition_one['sense_five'] > 75] = 75"
   ]
  },
  {
   "cell_type": "code",
   "execution_count": 12,
   "metadata": {
    "collapsed": true
   },
   "outputs": [],
   "source": [
    "repitition_one['sense_six'][repitition_one['sense_six'] < 45.5] = 45.5"
   ]
  },
  {
   "cell_type": "code",
   "execution_count": 13,
   "metadata": {
    "collapsed": true
   },
   "outputs": [],
   "source": [
    "repitition_one['sense_seven'][repitition_one['sense_seven'] < 55.5]= 55.5\n",
    "repitition_one['sense_seven'][repitition_one['sense_seven'] > 57] = 57"
   ]
  },
  {
   "cell_type": "code",
   "execution_count": 14,
   "metadata": {
    "collapsed": true
   },
   "outputs": [],
   "source": [
    "repitition_one['sense_eight'][repitition_one['sense_eight'] <5.1] = 5.1"
   ]
  },
  {
   "cell_type": "code",
   "execution_count": 17,
   "metadata": {},
   "outputs": [
    {
     "data": {
      "image/png": "[encoded data removed]",
      "text/plain": [
       "<matplotlib.figure.Figure at 0x20e4a03ed68>"
      ]
     },
     "metadata": {},
     "output_type": "display_data"
    },
    {
     "data": {
      "image/png": "[encoded data removed]",
      "text/plain": [
       "<matplotlib.figure.Figure at 0x20e4a14afd0>"
      ]
     },
     "metadata": {},
     "output_type": "display_data"
    },
    {
     "data": {
      "image/png": "[encoded data removed]",
      "text/plain": [
       "<matplotlib.figure.Figure at 0x20e49fc4a58>"
      ]
     },
     "metadata": {},
     "output_type": "display_data"
    },
    {
     "data": {
      "image/png": "[encoded data removed]",
      "text/plain": [
       "<matplotlib.figure.Figure at 0x20e49e02e48>"
      ]
     },
     "metadata": {},
     "output_type": "display_data"
    },
    {
     "data": {
      "image/png": "[encoded data removed]",
      "text/plain": [
       "<matplotlib.figure.Figure at 0x20e49f6ff60>"
      ]
     },
     "metadata": {},
     "output_type": "display_data"
    },
    {
     "data": {
      "image/png": "[encoded data removed]",
      "text/plain": [
       "<matplotlib.figure.Figure at 0x20e49dd5390>"
      ]
     },
     "metadata": {},
     "output_type": "display_data"
    },
    {
     "data": {
      "image/png": "[encoded data removed]",
      "text/plain": [
       "<matplotlib.figure.Figure at 0x20e49bedb70>"
      ]
     },
     "metadata": {},
     "output_type": "display_data"
    },
    {
     "data": {
      "image/png": "[encoded data removed]",
      "text/plain": [
       "<matplotlib.figure.Figure at 0x20e49e41550>"
      ]
     },
     "metadata": {},
     "output_type": "display_data"
    },
    {
     "data": {
      "image/png": "[encoded data removed]",
      "text/plain": [
       "<matplotlib.figure.Figure at 0x20e487d80f0>"
      ]
     },
     "metadata": {},
     "output_type": "display_data"
    }
   ],
   "source": [
    "import matplotlib.pyplot as plt\n",
    "\n",
    "for key in repitition_one.keys():\n",
    "    plt.boxplot(repitition_one[key])\n",
    "    plt.grid('on')\n",
    "    plt.title('Box plot of '+str(key))\n",
    "    plt.show()\n",
    "    plt.savefig('Box_plot_of_'+ str(key)+ '_no_outliers_board_one_CO_at_60ppm.jpeg')"
   ]
  },
  {
   "cell_type": "code",
   "execution_count": 18,
   "metadata": {
    "collapsed": true
   },
   "outputs": [],
   "source": [
    "final_repitition = (repitition_one + repitition_two+repitition_three + repitition_four) / 4"
   ]
  },
  {
   "cell_type": "code",
   "execution_count": 19,
   "metadata": {},
   "outputs": [
    {
     "data": {
      "text/html": [
       "<div>\n",
       "<style>\n",
       "    .dataframe thead tr:only-child th {\n",
       "        text-align: right;\n",
       "    }\n",
       "\n",
       "    .dataframe thead th {\n",
       "        text-align: left;\n",
       "    }\n",
       "\n",
       "    .dataframe tbody tr th {\n",
       "        vertical-align: top;\n",
       "    }\n",
       "</style>\n",
       "<table border=\"1\" class=\"dataframe\">\n",
       "  <thead>\n",
       "    <tr style=\"text-align: right;\">\n",
       "      <th></th>\n",
       "      <th>time</th>\n",
       "      <th>sense_one</th>\n",
       "      <th>sense_two</th>\n",
       "      <th>sense_three</th>\n",
       "      <th>sense_four</th>\n",
       "      <th>sense_five</th>\n",
       "      <th>sense_six</th>\n",
       "      <th>sense_seven</th>\n",
       "      <th>sense_eight</th>\n",
       "    </tr>\n",
       "  </thead>\n",
       "  <tbody>\n",
       "    <tr>\n",
       "      <th>0</th>\n",
       "      <td>0.00</td>\n",
       "      <td>42.035</td>\n",
       "      <td>20.3450</td>\n",
       "      <td>23.2075</td>\n",
       "      <td>6.9150</td>\n",
       "      <td>77.9675</td>\n",
       "      <td>47.4175</td>\n",
       "      <td>61.3625</td>\n",
       "      <td>7.7400</td>\n",
       "    </tr>\n",
       "    <tr>\n",
       "      <th>1</th>\n",
       "      <td>0.01</td>\n",
       "      <td>42.035</td>\n",
       "      <td>20.3425</td>\n",
       "      <td>23.2250</td>\n",
       "      <td>6.9200</td>\n",
       "      <td>77.9100</td>\n",
       "      <td>47.3600</td>\n",
       "      <td>61.3450</td>\n",
       "      <td>7.7375</td>\n",
       "    </tr>\n",
       "    <tr>\n",
       "      <th>2</th>\n",
       "      <td>0.02</td>\n",
       "      <td>42.015</td>\n",
       "      <td>20.3500</td>\n",
       "      <td>23.2175</td>\n",
       "      <td>6.9150</td>\n",
       "      <td>77.9100</td>\n",
       "      <td>47.3350</td>\n",
       "      <td>61.4125</td>\n",
       "      <td>7.7475</td>\n",
       "    </tr>\n",
       "    <tr>\n",
       "      <th>3</th>\n",
       "      <td>0.03</td>\n",
       "      <td>42.035</td>\n",
       "      <td>20.3400</td>\n",
       "      <td>23.2075</td>\n",
       "      <td>6.9175</td>\n",
       "      <td>77.9675</td>\n",
       "      <td>47.3650</td>\n",
       "      <td>61.4125</td>\n",
       "      <td>7.7350</td>\n",
       "    </tr>\n",
       "    <tr>\n",
       "      <th>4</th>\n",
       "      <td>0.04</td>\n",
       "      <td>42.055</td>\n",
       "      <td>20.3600</td>\n",
       "      <td>23.2250</td>\n",
       "      <td>6.9200</td>\n",
       "      <td>77.9675</td>\n",
       "      <td>47.3350</td>\n",
       "      <td>61.4125</td>\n",
       "      <td>7.7425</td>\n",
       "    </tr>\n",
       "  </tbody>\n",
       "</table>\n",
       "</div>"
      ],
      "text/plain": [
       "   time  sense_one  sense_two  sense_three  sense_four  sense_five  sense_six  \\\n",
       "0  0.00     42.035    20.3450      23.2075      6.9150     77.9675    47.4175   \n",
       "1  0.01     42.035    20.3425      23.2250      6.9200     77.9100    47.3600   \n",
       "2  0.02     42.015    20.3500      23.2175      6.9150     77.9100    47.3350   \n",
       "3  0.03     42.035    20.3400      23.2075      6.9175     77.9675    47.3650   \n",
       "4  0.04     42.055    20.3600      23.2250      6.9200     77.9675    47.3350   \n",
       "\n",
       "   sense_seven  sense_eight  \n",
       "0      61.3625       7.7400  \n",
       "1      61.3450       7.7375  \n",
       "2      61.4125       7.7475  \n",
       "3      61.4125       7.7350  \n",
       "4      61.4125       7.7425  "
      ]
     },
     "execution_count": 19,
     "metadata": {},
     "output_type": "execute_result"
    }
   ],
   "source": [
    "final_repitition.head()"
   ]
  },
  {
   "cell_type": "code",
   "execution_count": 20,
   "metadata": {
    "collapsed": true
   },
   "outputs": [],
   "source": [
    "final_repitition.to_csv('Repitition_CO_at_60_ppm.csv')"
   ]
  },
  {
   "cell_type": "code",
   "execution_count": null,
   "metadata": {
    "collapsed": true
   },
   "outputs": [],
   "source": []
  }
 ],
 "metadata": {
  "kernelspec": {
   "display_name": "Python 3",
   "language": "python",
   "name": "python3"
  },
  "language_info": {
   "codemirror_mode": {
    "name": "ipython",
    "version": 3
   },
   "file_extension": ".py",
   "mimetype": "text/x-python",
   "name": "python",
   "nbconvert_exporter": "python",
   "pygments_lexer": "ipython3",
   "version": "3.6.1"
  }
 },
 "nbformat": 4,
 "nbformat_minor": 2
}
