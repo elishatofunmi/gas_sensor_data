{
 "cells": [
  {
   "cell_type": "code",
   "execution_count": 2,
   "metadata": {},
   "outputs": [
    {
     "data": {
      "text/plain": [
       "['.ipynb_checkpoints',\n",
       " 'B1_GCO_F010_R1.txt',\n",
       " 'B1_GCO_F010_R2.txt',\n",
       " 'B1_GCO_F010_R3.txt',\n",
       " 'B1_GCO_F010_R4.txt',\n",
       " 'merge_board_one.ipynb']"
      ]
     },
     "execution_count": 2,
     "metadata": {},
     "output_type": "execute_result"
    }
   ],
   "source": [
    "import os\n",
    "import sys\n",
    "os.listdir()"
   ]
  },
  {
   "cell_type": "markdown",
   "metadata": {},
   "source": [
    "# load in the repitition 1,2,3,4 for CO at 10ppm"
   ]
  },
  {
   "cell_type": "code",
   "execution_count": 10,
   "metadata": {},
   "outputs": [
    {
     "data": {
      "text/html": [
       "<div>\n",
       "<style>\n",
       "    .dataframe thead tr:only-child th {\n",
       "        text-align: right;\n",
       "    }\n",
       "\n",
       "    .dataframe thead th {\n",
       "        text-align: left;\n",
       "    }\n",
       "\n",
       "    .dataframe tbody tr th {\n",
       "        vertical-align: top;\n",
       "    }\n",
       "</style>\n",
       "<table border=\"1\" class=\"dataframe\">\n",
       "  <thead>\n",
       "    <tr style=\"text-align: right;\">\n",
       "      <th></th>\n",
       "      <th>time</th>\n",
       "      <th>sense_one</th>\n",
       "      <th>sense_two</th>\n",
       "      <th>sense_three</th>\n",
       "      <th>sense_four</th>\n",
       "      <th>sense_five</th>\n",
       "      <th>sense_six</th>\n",
       "      <th>sense_seven</th>\n",
       "      <th>sense_eight</th>\n",
       "    </tr>\n",
       "  </thead>\n",
       "  <tbody>\n",
       "    <tr>\n",
       "      <th>0</th>\n",
       "      <td>0.00</td>\n",
       "      <td>38.91</td>\n",
       "      <td>18.64</td>\n",
       "      <td>21.6</td>\n",
       "      <td>5.56</td>\n",
       "      <td>72.63</td>\n",
       "      <td>45.67</td>\n",
       "      <td>55.54</td>\n",
       "      <td>7.00</td>\n",
       "    </tr>\n",
       "    <tr>\n",
       "      <th>1</th>\n",
       "      <td>0.01</td>\n",
       "      <td>38.91</td>\n",
       "      <td>18.66</td>\n",
       "      <td>21.6</td>\n",
       "      <td>5.56</td>\n",
       "      <td>72.85</td>\n",
       "      <td>45.67</td>\n",
       "      <td>55.40</td>\n",
       "      <td>6.99</td>\n",
       "    </tr>\n",
       "    <tr>\n",
       "      <th>2</th>\n",
       "      <td>0.02</td>\n",
       "      <td>38.91</td>\n",
       "      <td>18.66</td>\n",
       "      <td>21.6</td>\n",
       "      <td>5.56</td>\n",
       "      <td>72.85</td>\n",
       "      <td>45.67</td>\n",
       "      <td>55.54</td>\n",
       "      <td>7.00</td>\n",
       "    </tr>\n",
       "    <tr>\n",
       "      <th>3</th>\n",
       "      <td>0.03</td>\n",
       "      <td>38.99</td>\n",
       "      <td>18.66</td>\n",
       "      <td>21.6</td>\n",
       "      <td>5.56</td>\n",
       "      <td>72.85</td>\n",
       "      <td>45.77</td>\n",
       "      <td>55.40</td>\n",
       "      <td>6.99</td>\n",
       "    </tr>\n",
       "    <tr>\n",
       "      <th>4</th>\n",
       "      <td>0.04</td>\n",
       "      <td>38.99</td>\n",
       "      <td>18.66</td>\n",
       "      <td>21.6</td>\n",
       "      <td>5.57</td>\n",
       "      <td>72.85</td>\n",
       "      <td>45.87</td>\n",
       "      <td>55.54</td>\n",
       "      <td>7.00</td>\n",
       "    </tr>\n",
       "  </tbody>\n",
       "</table>\n",
       "</div>"
      ],
      "text/plain": [
       "   time  sense_one  sense_two  sense_three  sense_four  sense_five  sense_six  \\\n",
       "0  0.00      38.91      18.64         21.6        5.56       72.63      45.67   \n",
       "1  0.01      38.91      18.66         21.6        5.56       72.85      45.67   \n",
       "2  0.02      38.91      18.66         21.6        5.56       72.85      45.67   \n",
       "3  0.03      38.99      18.66         21.6        5.56       72.85      45.77   \n",
       "4  0.04      38.99      18.66         21.6        5.57       72.85      45.87   \n",
       "\n",
       "   sense_seven  sense_eight  \n",
       "0        55.54         7.00  \n",
       "1        55.40         6.99  \n",
       "2        55.54         7.00  \n",
       "3        55.40         6.99  \n",
       "4        55.54         7.00  "
      ]
     },
     "execution_count": 10,
     "metadata": {},
     "output_type": "execute_result"
    }
   ],
   "source": [
    "import pandas as pd\n",
    "repitition_one = pd.read_csv(r'B1_GCO_F010_R1.txt',sep = '\\t',header = None)\n",
    "repitition_one.columns = ['time','sense_one', 'sense_two', 'sense_three','sense_four','sense_five',\n",
    "                          'sense_six','sense_seven','sense_eight']\n",
    "repitition_one.head()"
   ]
  },
  {
   "cell_type": "code",
   "execution_count": 12,
   "metadata": {},
   "outputs": [
    {
     "data": {
      "text/html": [
       "<div>\n",
       "<style>\n",
       "    .dataframe thead tr:only-child th {\n",
       "        text-align: right;\n",
       "    }\n",
       "\n",
       "    .dataframe thead th {\n",
       "        text-align: left;\n",
       "    }\n",
       "\n",
       "    .dataframe tbody tr th {\n",
       "        vertical-align: top;\n",
       "    }\n",
       "</style>\n",
       "<table border=\"1\" class=\"dataframe\">\n",
       "  <thead>\n",
       "    <tr style=\"text-align: right;\">\n",
       "      <th></th>\n",
       "      <th>time</th>\n",
       "      <th>sense_one</th>\n",
       "      <th>sense_two</th>\n",
       "      <th>sense_three</th>\n",
       "      <th>sense_four</th>\n",
       "      <th>sense_five</th>\n",
       "      <th>sense_six</th>\n",
       "      <th>sense_seven</th>\n",
       "      <th>sense_eight</th>\n",
       "    </tr>\n",
       "  </thead>\n",
       "  <tbody>\n",
       "    <tr>\n",
       "      <th>0</th>\n",
       "      <td>0.00</td>\n",
       "      <td>37.49</td>\n",
       "      <td>17.57</td>\n",
       "      <td>20.42</td>\n",
       "      <td>5.99</td>\n",
       "      <td>70.49</td>\n",
       "      <td>42.92</td>\n",
       "      <td>53.92</td>\n",
       "      <td>7.17</td>\n",
       "    </tr>\n",
       "    <tr>\n",
       "      <th>1</th>\n",
       "      <td>0.01</td>\n",
       "      <td>37.49</td>\n",
       "      <td>17.57</td>\n",
       "      <td>20.39</td>\n",
       "      <td>5.98</td>\n",
       "      <td>70.49</td>\n",
       "      <td>42.92</td>\n",
       "      <td>54.05</td>\n",
       "      <td>7.17</td>\n",
       "    </tr>\n",
       "    <tr>\n",
       "      <th>2</th>\n",
       "      <td>0.02</td>\n",
       "      <td>37.49</td>\n",
       "      <td>17.57</td>\n",
       "      <td>20.39</td>\n",
       "      <td>5.97</td>\n",
       "      <td>70.28</td>\n",
       "      <td>42.92</td>\n",
       "      <td>53.92</td>\n",
       "      <td>7.17</td>\n",
       "    </tr>\n",
       "    <tr>\n",
       "      <th>3</th>\n",
       "      <td>0.03</td>\n",
       "      <td>37.56</td>\n",
       "      <td>17.57</td>\n",
       "      <td>20.42</td>\n",
       "      <td>5.98</td>\n",
       "      <td>70.49</td>\n",
       "      <td>42.84</td>\n",
       "      <td>54.05</td>\n",
       "      <td>7.17</td>\n",
       "    </tr>\n",
       "    <tr>\n",
       "      <th>4</th>\n",
       "      <td>0.04</td>\n",
       "      <td>37.56</td>\n",
       "      <td>17.57</td>\n",
       "      <td>20.42</td>\n",
       "      <td>5.99</td>\n",
       "      <td>70.28</td>\n",
       "      <td>42.92</td>\n",
       "      <td>54.05</td>\n",
       "      <td>7.17</td>\n",
       "    </tr>\n",
       "  </tbody>\n",
       "</table>\n",
       "</div>"
      ],
      "text/plain": [
       "   time  sense_one  sense_two  sense_three  sense_four  sense_five  sense_six  \\\n",
       "0  0.00      37.49      17.57        20.42        5.99       70.49      42.92   \n",
       "1  0.01      37.49      17.57        20.39        5.98       70.49      42.92   \n",
       "2  0.02      37.49      17.57        20.39        5.97       70.28      42.92   \n",
       "3  0.03      37.56      17.57        20.42        5.98       70.49      42.84   \n",
       "4  0.04      37.56      17.57        20.42        5.99       70.28      42.92   \n",
       "\n",
       "   sense_seven  sense_eight  \n",
       "0        53.92         7.17  \n",
       "1        54.05         7.17  \n",
       "2        53.92         7.17  \n",
       "3        54.05         7.17  \n",
       "4        54.05         7.17  "
      ]
     },
     "execution_count": 12,
     "metadata": {},
     "output_type": "execute_result"
    }
   ],
   "source": [
    "repitition_two = pd.read_csv(r'B1_GCO_F010_R2.txt',sep = '\\t',header = None)\n",
    "repitition_two.columns = ['time','sense_one', 'sense_two', 'sense_three','sense_four','sense_five',\n",
    "                          'sense_six','sense_seven','sense_eight']\n",
    "repitition_two.head()"
   ]
  },
  {
   "cell_type": "code",
   "execution_count": 13,
   "metadata": {},
   "outputs": [
    {
     "data": {
      "text/html": [
       "<div>\n",
       "<style>\n",
       "    .dataframe thead tr:only-child th {\n",
       "        text-align: right;\n",
       "    }\n",
       "\n",
       "    .dataframe thead th {\n",
       "        text-align: left;\n",
       "    }\n",
       "\n",
       "    .dataframe tbody tr th {\n",
       "        vertical-align: top;\n",
       "    }\n",
       "</style>\n",
       "<table border=\"1\" class=\"dataframe\">\n",
       "  <thead>\n",
       "    <tr style=\"text-align: right;\">\n",
       "      <th></th>\n",
       "      <th>time</th>\n",
       "      <th>sense_one</th>\n",
       "      <th>sense_two</th>\n",
       "      <th>sense_three</th>\n",
       "      <th>sense_four</th>\n",
       "      <th>sense_five</th>\n",
       "      <th>sense_six</th>\n",
       "      <th>sense_seven</th>\n",
       "      <th>sense_eight</th>\n",
       "    </tr>\n",
       "  </thead>\n",
       "  <tbody>\n",
       "    <tr>\n",
       "      <th>0</th>\n",
       "      <td>0.00</td>\n",
       "      <td>44.49</td>\n",
       "      <td>21.96</td>\n",
       "      <td>24.86</td>\n",
       "      <td>8.15</td>\n",
       "      <td>81.11</td>\n",
       "      <td>49.50</td>\n",
       "      <td>65.74</td>\n",
       "      <td>8.68</td>\n",
       "    </tr>\n",
       "    <tr>\n",
       "      <th>1</th>\n",
       "      <td>0.01</td>\n",
       "      <td>44.49</td>\n",
       "      <td>21.93</td>\n",
       "      <td>24.86</td>\n",
       "      <td>8.16</td>\n",
       "      <td>81.11</td>\n",
       "      <td>49.50</td>\n",
       "      <td>65.74</td>\n",
       "      <td>8.67</td>\n",
       "    </tr>\n",
       "    <tr>\n",
       "      <th>2</th>\n",
       "      <td>0.02</td>\n",
       "      <td>44.49</td>\n",
       "      <td>21.93</td>\n",
       "      <td>24.86</td>\n",
       "      <td>8.16</td>\n",
       "      <td>81.11</td>\n",
       "      <td>49.50</td>\n",
       "      <td>65.74</td>\n",
       "      <td>8.70</td>\n",
       "    </tr>\n",
       "    <tr>\n",
       "      <th>3</th>\n",
       "      <td>0.03</td>\n",
       "      <td>44.49</td>\n",
       "      <td>21.96</td>\n",
       "      <td>24.86</td>\n",
       "      <td>8.16</td>\n",
       "      <td>81.11</td>\n",
       "      <td>49.50</td>\n",
       "      <td>65.74</td>\n",
       "      <td>8.67</td>\n",
       "    </tr>\n",
       "    <tr>\n",
       "      <th>4</th>\n",
       "      <td>0.04</td>\n",
       "      <td>44.49</td>\n",
       "      <td>21.96</td>\n",
       "      <td>24.86</td>\n",
       "      <td>8.15</td>\n",
       "      <td>81.38</td>\n",
       "      <td>49.62</td>\n",
       "      <td>65.74</td>\n",
       "      <td>8.68</td>\n",
       "    </tr>\n",
       "  </tbody>\n",
       "</table>\n",
       "</div>"
      ],
      "text/plain": [
       "   time  sense_one  sense_two  sense_three  sense_four  sense_five  sense_six  \\\n",
       "0  0.00      44.49      21.96        24.86        8.15       81.11      49.50   \n",
       "1  0.01      44.49      21.93        24.86        8.16       81.11      49.50   \n",
       "2  0.02      44.49      21.93        24.86        8.16       81.11      49.50   \n",
       "3  0.03      44.49      21.96        24.86        8.16       81.11      49.50   \n",
       "4  0.04      44.49      21.96        24.86        8.15       81.38      49.62   \n",
       "\n",
       "   sense_seven  sense_eight  \n",
       "0        65.74         8.68  \n",
       "1        65.74         8.67  \n",
       "2        65.74         8.70  \n",
       "3        65.74         8.67  \n",
       "4        65.74         8.68  "
      ]
     },
     "execution_count": 13,
     "metadata": {},
     "output_type": "execute_result"
    }
   ],
   "source": [
    "repitition_three = pd.read_csv(r'B1_GCO_F010_R3.txt',sep = '\\t',header = None)\n",
    "repitition_three.columns = ['time','sense_one', 'sense_two', 'sense_three','sense_four','sense_five',\n",
    "                          'sense_six','sense_seven','sense_eight']\n",
    "repitition_three.head()"
   ]
  },
  {
   "cell_type": "code",
   "execution_count": 14,
   "metadata": {},
   "outputs": [
    {
     "data": {
      "text/html": [
       "<div>\n",
       "<style>\n",
       "    .dataframe thead tr:only-child th {\n",
       "        text-align: right;\n",
       "    }\n",
       "\n",
       "    .dataframe thead th {\n",
       "        text-align: left;\n",
       "    }\n",
       "\n",
       "    .dataframe tbody tr th {\n",
       "        vertical-align: top;\n",
       "    }\n",
       "</style>\n",
       "<table border=\"1\" class=\"dataframe\">\n",
       "  <thead>\n",
       "    <tr style=\"text-align: right;\">\n",
       "      <th></th>\n",
       "      <th>time</th>\n",
       "      <th>sense_one</th>\n",
       "      <th>sense_two</th>\n",
       "      <th>sense_three</th>\n",
       "      <th>sense_four</th>\n",
       "      <th>sense_five</th>\n",
       "      <th>sense_six</th>\n",
       "      <th>sense_seven</th>\n",
       "      <th>sense_eight</th>\n",
       "    </tr>\n",
       "  </thead>\n",
       "  <tbody>\n",
       "    <tr>\n",
       "      <th>0</th>\n",
       "      <td>0.00</td>\n",
       "      <td>47.31</td>\n",
       "      <td>23.02</td>\n",
       "      <td>26.54</td>\n",
       "      <td>7.89</td>\n",
       "      <td>87.4</td>\n",
       "      <td>50.66</td>\n",
       "      <td>70.23</td>\n",
       "      <td>8.17</td>\n",
       "    </tr>\n",
       "    <tr>\n",
       "      <th>1</th>\n",
       "      <td>0.01</td>\n",
       "      <td>47.41</td>\n",
       "      <td>23.05</td>\n",
       "      <td>26.58</td>\n",
       "      <td>7.89</td>\n",
       "      <td>87.7</td>\n",
       "      <td>50.55</td>\n",
       "      <td>70.23</td>\n",
       "      <td>8.16</td>\n",
       "    </tr>\n",
       "    <tr>\n",
       "      <th>2</th>\n",
       "      <td>0.02</td>\n",
       "      <td>47.31</td>\n",
       "      <td>23.05</td>\n",
       "      <td>26.58</td>\n",
       "      <td>7.88</td>\n",
       "      <td>87.4</td>\n",
       "      <td>50.55</td>\n",
       "      <td>70.23</td>\n",
       "      <td>8.15</td>\n",
       "    </tr>\n",
       "    <tr>\n",
       "      <th>3</th>\n",
       "      <td>0.03</td>\n",
       "      <td>47.31</td>\n",
       "      <td>23.05</td>\n",
       "      <td>26.58</td>\n",
       "      <td>7.89</td>\n",
       "      <td>87.4</td>\n",
       "      <td>50.66</td>\n",
       "      <td>70.23</td>\n",
       "      <td>8.17</td>\n",
       "    </tr>\n",
       "    <tr>\n",
       "      <th>4</th>\n",
       "      <td>0.04</td>\n",
       "      <td>47.31</td>\n",
       "      <td>23.05</td>\n",
       "      <td>26.58</td>\n",
       "      <td>7.88</td>\n",
       "      <td>87.4</td>\n",
       "      <td>50.66</td>\n",
       "      <td>70.23</td>\n",
       "      <td>8.16</td>\n",
       "    </tr>\n",
       "  </tbody>\n",
       "</table>\n",
       "</div>"
      ],
      "text/plain": [
       "   time  sense_one  sense_two  sense_three  sense_four  sense_five  sense_six  \\\n",
       "0  0.00      47.31      23.02        26.54        7.89        87.4      50.66   \n",
       "1  0.01      47.41      23.05        26.58        7.89        87.7      50.55   \n",
       "2  0.02      47.31      23.05        26.58        7.88        87.4      50.55   \n",
       "3  0.03      47.31      23.05        26.58        7.89        87.4      50.66   \n",
       "4  0.04      47.31      23.05        26.58        7.88        87.4      50.66   \n",
       "\n",
       "   sense_seven  sense_eight  \n",
       "0        70.23         8.17  \n",
       "1        70.23         8.16  \n",
       "2        70.23         8.15  \n",
       "3        70.23         8.17  \n",
       "4        70.23         8.16  "
      ]
     },
     "execution_count": 14,
     "metadata": {},
     "output_type": "execute_result"
    }
   ],
   "source": [
    "repitition_four = pd.read_csv(r'B1_GCO_F010_R4.txt',sep = '\\t',header = None)\n",
    "repitition_four.columns = ['time','sense_one', 'sense_two', 'sense_three','sense_four','sense_five',\n",
    "                          'sense_six','sense_seven','sense_eight']\n",
    "repitition_four.head()"
   ]
  },
  {
   "cell_type": "markdown",
   "metadata": {},
   "source": [
    "# visualizing repitition 1"
   ]
  },
  {
   "cell_type": "code",
   "execution_count": 19,
   "metadata": {
    "scrolled": true
   },
   "outputs": [
    {
     "data": {
      "image/png": "[encoded data removed]",
      "text/plain": [
       "<matplotlib.figure.Figure at 0x2ab20757c50>"
      ]
     },
     "metadata": {},
     "output_type": "display_data"
    },
    {
     "data": {
      "image/png": "[encoded data removed]",
      "text/plain": [
       "<matplotlib.figure.Figure at 0x2ab225bcba8>"
      ]
     },
     "metadata": {},
     "output_type": "display_data"
    },
    {
     "data": {
      "image/png": "[encoded data removed]",
      "text/plain": [
       "<matplotlib.figure.Figure at 0x2ab2284b668>"
      ]
     },
     "metadata": {},
     "output_type": "display_data"
    },
    {
     "data": {
      "image/png": "[encoded data removed]",
      "text/plain": [
       "<matplotlib.figure.Figure at 0x2ab21556a58>"
      ]
     },
     "metadata": {},
     "output_type": "display_data"
    },
    {
     "data": {
      "image/png": "[encoded data removed]",
      "text/plain": [
       "<matplotlib.figure.Figure at 0x2ab2064d9b0>"
      ]
     },
     "metadata": {},
     "output_type": "display_data"
    },
    {
     "data": {
      "image/png": "[encoded data removed]",
      "text/plain": [
       "<matplotlib.figure.Figure at 0x2ab2168b438>"
      ]
     },
     "metadata": {},
     "output_type": "display_data"
    },
    {
     "data": {
      "image/png": "[encoded data removed]",
      "text/plain": [
       "<matplotlib.figure.Figure at 0x2ab2089dd68>"
      ]
     },
     "metadata": {},
     "output_type": "display_data"
    },
    {
     "data": {
      "image/png": "[encoded data removed]",
      "text/plain": [
       "<matplotlib.figure.Figure at 0x2ab217569e8>"
      ]
     },
     "metadata": {},
     "output_type": "display_data"
    },
    {
     "data": {
      "image/png": "[encoded data removed]",
      "text/plain": [
       "<matplotlib.figure.Figure at 0x2ab207ddcc0>"
      ]
     },
     "metadata": {},
     "output_type": "display_data"
    }
   ],
   "source": [
    "import matplotlib.pyplot as plt\n",
    "\n",
    "for key in repitition_one.keys():\n",
    "    plt.boxplot(repitition_one[key])\n",
    "    plt.grid('on')\n",
    "    plt.title('Box plot of '+str(key))\n",
    "    plt.show()\n",
    "    plt.savefig('Box_plot_of_'+ str(key)+ 'board_one_CO_at_10ppm.jpeg')"
   ]
  },
  {
   "cell_type": "code",
   "execution_count": 21,
   "metadata": {
    "collapsed": true
   },
   "outputs": [],
   "source": [
    "# dealing with outliers in each sensor\n",
    "\n",
    "repitition_one['sense_one'][repitition_one['sense_one'] < 38.40] = 38.40\n",
    "repitition_one['sense_one'][repitition_one['sense_one'] > 39.25] = 39.25"
   ]
  },
  {
   "cell_type": "code",
   "execution_count": 22,
   "metadata": {
    "collapsed": true
   },
   "outputs": [],
   "source": [
    "repitition_one['sense_three'][repitition_one['sense_three'] < 21.3] = 21.3\n",
    "repitition_one['sense_three'][repitition_one['sense_three'] > 21.6] = 21.6"
   ]
  },
  {
   "cell_type": "code",
   "execution_count": 29,
   "metadata": {
    "collapsed": true
   },
   "outputs": [],
   "source": [
    "repitition_one['sense_four'][repitition_one['sense_four'] < 5.46] = 5.46"
   ]
  },
  {
   "cell_type": "code",
   "execution_count": 24,
   "metadata": {
    "collapsed": true
   },
   "outputs": [],
   "source": [
    "repitition_one['sense_five'][repitition_one['sense_five'] < 72.0] = 72.0\n",
    "repitition_one['sense_five'][repitition_one['sense_five'] > 72.56] = 72.5"
   ]
  },
  {
   "cell_type": "code",
   "execution_count": 30,
   "metadata": {
    "collapsed": true
   },
   "outputs": [],
   "source": [
    "repitition_one['sense_six'][repitition_one['sense_six'] < 45.10] = 45.10"
   ]
  },
  {
   "cell_type": "code",
   "execution_count": 31,
   "metadata": {
    "collapsed": true
   },
   "outputs": [],
   "source": [
    "repitition_one['sense_seven'][repitition_one['sense_seven'] < 54.6] = 54.6\n",
    "repitition_one['sense_seven'][repitition_one['sense_seven'] > 55.5] = 55.5"
   ]
  },
  {
   "cell_type": "code",
   "execution_count": 32,
   "metadata": {
    "collapsed": true
   },
   "outputs": [],
   "source": [
    "repitition_one['sense_eight'][repitition_one['sense_eight'] < 6.9] = 6.9"
   ]
  },
  {
   "cell_type": "code",
   "execution_count": 33,
   "metadata": {},
   "outputs": [
    {
     "data": {
      "image/png": "[encoded data removed]",
      "text/plain": [
       "<matplotlib.figure.Figure at 0x2ab2120db00>"
      ]
     },
     "metadata": {},
     "output_type": "display_data"
    },
    {
     "data": {
      "image/png": "[encoded data removed]",
      "text/plain": [
       "<matplotlib.figure.Figure at 0x2ab2085ce48>"
      ]
     },
     "metadata": {},
     "output_type": "display_data"
    },
    {
     "data": {
      "image/png": "[encoded data removed]",
      "text/plain": [
       "<matplotlib.figure.Figure at 0x2ab22994978>"
      ]
     },
     "metadata": {},
     "output_type": "display_data"
    },
    {
     "data": {
      "image/png": "[encoded data removed]",
      "text/plain": [
       "<matplotlib.figure.Figure at 0x2ab21030ef0>"
      ]
     },
     "metadata": {},
     "output_type": "display_data"
    },
    {
     "data": {
      "image/png": "[encoded data removed]",
      "text/plain": [
       "<matplotlib.figure.Figure at 0x2ab20737cc0>"
      ]
     },
     "metadata": {},
     "output_type": "display_data"
    },
    {
     "data": {
      "image/png": "[encoded data removed]",
      "text/plain": [
       "<matplotlib.figure.Figure at 0x2ab2284af98>"
      ]
     },
     "metadata": {},
     "output_type": "display_data"
    },
    {
     "data": {
      "image/png": "[encoded data removed]",
      "text/plain": [
       "<matplotlib.figure.Figure at 0x2ab210310b8>"
      ]
     },
     "metadata": {},
     "output_type": "display_data"
    },
    {
     "data": {
      "image/png": "[encoded data removed]",
      "text/plain": [
       "<matplotlib.figure.Figure at 0x2ab2105afd0>"
      ]
     },
     "metadata": {},
     "output_type": "display_data"
    },
    {
     "data": {
      "image/png": "[encoded data removed]",
      "text/plain": [
       "<matplotlib.figure.Figure at 0x2ab20694e80>"
      ]
     },
     "metadata": {},
     "output_type": "display_data"
    }
   ],
   "source": [
    "import matplotlib.pyplot as plt\n",
    "\n",
    "for key in repitition_one.keys():\n",
    "    plt.boxplot(repitition_one[key])\n",
    "    plt.grid('on')\n",
    "    plt.title('Box plot of '+str(key))\n",
    "    plt.show()\n",
    "    plt.savefig('Box_plot_of_'+ str(key)+ '_no_outliers_board_one_CO_at_10ppm.jpeg')"
   ]
  },
  {
   "cell_type": "code",
   "execution_count": 34,
   "metadata": {
    "collapsed": true
   },
   "outputs": [],
   "source": [
    "final_repitition = (repitition_one + repitition_two+repitition_three + repitition_four) / 4"
   ]
  },
  {
   "cell_type": "code",
   "execution_count": 35,
   "metadata": {},
   "outputs": [
    {
     "data": {
      "text/html": [
       "<div>\n",
       "<style>\n",
       "    .dataframe thead tr:only-child th {\n",
       "        text-align: right;\n",
       "    }\n",
       "\n",
       "    .dataframe thead th {\n",
       "        text-align: left;\n",
       "    }\n",
       "\n",
       "    .dataframe tbody tr th {\n",
       "        vertical-align: top;\n",
       "    }\n",
       "</style>\n",
       "<table border=\"1\" class=\"dataframe\">\n",
       "  <thead>\n",
       "    <tr style=\"text-align: right;\">\n",
       "      <th></th>\n",
       "      <th>time</th>\n",
       "      <th>sense_one</th>\n",
       "      <th>sense_two</th>\n",
       "      <th>sense_three</th>\n",
       "      <th>sense_four</th>\n",
       "      <th>sense_five</th>\n",
       "      <th>sense_six</th>\n",
       "      <th>sense_seven</th>\n",
       "      <th>sense_eight</th>\n",
       "    </tr>\n",
       "  </thead>\n",
       "  <tbody>\n",
       "    <tr>\n",
       "      <th>0</th>\n",
       "      <td>0.00</td>\n",
       "      <td>42.0500</td>\n",
       "      <td>20.2975</td>\n",
       "      <td>23.3550</td>\n",
       "      <td>6.8975</td>\n",
       "      <td>77.8750</td>\n",
       "      <td>47.1875</td>\n",
       "      <td>61.3475</td>\n",
       "      <td>7.7550</td>\n",
       "    </tr>\n",
       "    <tr>\n",
       "      <th>1</th>\n",
       "      <td>0.01</td>\n",
       "      <td>42.0750</td>\n",
       "      <td>20.3025</td>\n",
       "      <td>23.3575</td>\n",
       "      <td>6.8975</td>\n",
       "      <td>77.9500</td>\n",
       "      <td>47.1600</td>\n",
       "      <td>61.3550</td>\n",
       "      <td>7.7475</td>\n",
       "    </tr>\n",
       "    <tr>\n",
       "      <th>2</th>\n",
       "      <td>0.02</td>\n",
       "      <td>42.0500</td>\n",
       "      <td>20.3025</td>\n",
       "      <td>23.3575</td>\n",
       "      <td>6.8925</td>\n",
       "      <td>77.8225</td>\n",
       "      <td>47.1600</td>\n",
       "      <td>61.3475</td>\n",
       "      <td>7.7550</td>\n",
       "    </tr>\n",
       "    <tr>\n",
       "      <th>3</th>\n",
       "      <td>0.03</td>\n",
       "      <td>42.0875</td>\n",
       "      <td>20.3100</td>\n",
       "      <td>23.3650</td>\n",
       "      <td>6.8975</td>\n",
       "      <td>77.8750</td>\n",
       "      <td>47.1925</td>\n",
       "      <td>61.3550</td>\n",
       "      <td>7.7500</td>\n",
       "    </tr>\n",
       "    <tr>\n",
       "      <th>4</th>\n",
       "      <td>0.04</td>\n",
       "      <td>42.0875</td>\n",
       "      <td>20.3100</td>\n",
       "      <td>23.3650</td>\n",
       "      <td>6.8975</td>\n",
       "      <td>77.8900</td>\n",
       "      <td>47.2675</td>\n",
       "      <td>61.3800</td>\n",
       "      <td>7.7525</td>\n",
       "    </tr>\n",
       "  </tbody>\n",
       "</table>\n",
       "</div>"
      ],
      "text/plain": [
       "   time  sense_one  sense_two  sense_three  sense_four  sense_five  sense_six  \\\n",
       "0  0.00    42.0500    20.2975      23.3550      6.8975     77.8750    47.1875   \n",
       "1  0.01    42.0750    20.3025      23.3575      6.8975     77.9500    47.1600   \n",
       "2  0.02    42.0500    20.3025      23.3575      6.8925     77.8225    47.1600   \n",
       "3  0.03    42.0875    20.3100      23.3650      6.8975     77.8750    47.1925   \n",
       "4  0.04    42.0875    20.3100      23.3650      6.8975     77.8900    47.2675   \n",
       "\n",
       "   sense_seven  sense_eight  \n",
       "0      61.3475       7.7550  \n",
       "1      61.3550       7.7475  \n",
       "2      61.3475       7.7550  \n",
       "3      61.3550       7.7500  \n",
       "4      61.3800       7.7525  "
      ]
     },
     "execution_count": 35,
     "metadata": {},
     "output_type": "execute_result"
    }
   ],
   "source": [
    "final_repitition.head()"
   ]
  },
  {
   "cell_type": "code",
   "execution_count": 36,
   "metadata": {
    "collapsed": true
   },
   "outputs": [],
   "source": [
    "final_repitition.to_csv('Repitition_CO_at_10_ppm.csv')"
   ]
  },
  {
   "cell_type": "code",
   "execution_count": null,
   "metadata": {
    "collapsed": true
   },
   "outputs": [],
   "source": []
  }
 ],
 "metadata": {
  "kernelspec": {
   "display_name": "Python 3",
   "language": "python",
   "name": "python3"
  },
  "language_info": {
   "codemirror_mode": {
    "name": "ipython",
    "version": 3
   },
   "file_extension": ".py",
   "mimetype": "text/x-python",
   "name": "python",
   "nbconvert_exporter": "python",
   "pygments_lexer": "ipython3",
   "version": "3.6.1"
  }
 },
 "nbformat": 4,
 "nbformat_minor": 2
}
