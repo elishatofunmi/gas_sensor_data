{
 "cells": [
  {
   "cell_type": "code",
   "execution_count": 21,
   "metadata": {},
   "outputs": [
    {
     "data": {
      "text/plain": [
       "['.ipynb_checkpoints',\n",
       " 'B1_GCO_F040_R1.txt',\n",
       " 'B1_GCO_F040_R2.txt',\n",
       " 'B1_GCO_F040_R3.txt',\n",
       " 'B1_GCO_F040_R4.txt',\n",
       " 'Box_plot_of_sense_eightboard_one_CO_at_40ppm.jpeg',\n",
       " 'Box_plot_of_sense_eight_no_outliers_board_one_CO_at_40ppm.jpeg',\n",
       " 'Box_plot_of_sense_fiveboard_one_CO_at_40ppm.jpeg',\n",
       " 'Box_plot_of_sense_five_no_outliers_board_one_CO_at_40ppm.jpeg',\n",
       " 'Box_plot_of_sense_fourboard_one_CO_at_40ppm.jpeg',\n",
       " 'Box_plot_of_sense_four_no_outliers_board_one_CO_at_40ppm.jpeg',\n",
       " 'Box_plot_of_sense_oneboard_one_CO_at_40ppm.jpeg',\n",
       " 'Box_plot_of_sense_one_no_outliers_board_one_CO_at_40ppm.jpeg',\n",
       " 'Box_plot_of_sense_sevenboard_one_CO_at_40ppm.jpeg',\n",
       " 'Box_plot_of_sense_seven_no_outliers_board_one_CO_at_40ppm.jpeg',\n",
       " 'Box_plot_of_sense_sixboard_one_CO_at_40ppm.jpeg',\n",
       " 'Box_plot_of_sense_six_no_outliers_board_one_CO_at_40ppm.jpeg',\n",
       " 'Box_plot_of_sense_threeboard_one_CO_at_40ppm.jpeg',\n",
       " 'Box_plot_of_sense_three_no_outliers_board_one_CO_at_40ppm.jpeg',\n",
       " 'Box_plot_of_sense_twoboard_one_CO_at_40ppm.jpeg',\n",
       " 'Box_plot_of_sense_two_no_outliers_board_one_CO_at_40ppm.jpeg',\n",
       " 'Box_plot_of_timeboard_one_CO_at_40ppm.jpeg',\n",
       " 'Box_plot_of_time_no_outliers_board_one_CO_at_40ppm.jpeg',\n",
       " 'merge_co_40.ipynb']"
      ]
     },
     "execution_count": 21,
     "metadata": {},
     "output_type": "execute_result"
    }
   ],
   "source": [
    "import os\n",
    "import sys\n",
    "os.listdir()"
   ]
  },
  {
   "cell_type": "code",
   "execution_count": 22,
   "metadata": {},
   "outputs": [
    {
     "data": {
      "text/html": [
       "<div>\n",
       "<style>\n",
       "    .dataframe thead tr:only-child th {\n",
       "        text-align: right;\n",
       "    }\n",
       "\n",
       "    .dataframe thead th {\n",
       "        text-align: left;\n",
       "    }\n",
       "\n",
       "    .dataframe tbody tr th {\n",
       "        vertical-align: top;\n",
       "    }\n",
       "</style>\n",
       "<table border=\"1\" class=\"dataframe\">\n",
       "  <thead>\n",
       "    <tr style=\"text-align: right;\">\n",
       "      <th></th>\n",
       "      <th>time</th>\n",
       "      <th>sense_one</th>\n",
       "      <th>sense_two</th>\n",
       "      <th>sense_three</th>\n",
       "      <th>sense_four</th>\n",
       "      <th>sense_five</th>\n",
       "      <th>sense_six</th>\n",
       "      <th>sense_seven</th>\n",
       "      <th>sense_eight</th>\n",
       "    </tr>\n",
       "  </thead>\n",
       "  <tbody>\n",
       "    <tr>\n",
       "      <th>0</th>\n",
       "      <td>0.00</td>\n",
       "      <td>39.22</td>\n",
       "      <td>18.64</td>\n",
       "      <td>21.73</td>\n",
       "      <td>5.58</td>\n",
       "      <td>73.08</td>\n",
       "      <td>45.87</td>\n",
       "      <td>55.81</td>\n",
       "      <td>7.01</td>\n",
       "    </tr>\n",
       "    <tr>\n",
       "      <th>1</th>\n",
       "      <td>0.01</td>\n",
       "      <td>39.22</td>\n",
       "      <td>18.61</td>\n",
       "      <td>21.73</td>\n",
       "      <td>5.58</td>\n",
       "      <td>73.30</td>\n",
       "      <td>45.87</td>\n",
       "      <td>55.81</td>\n",
       "      <td>7.01</td>\n",
       "    </tr>\n",
       "    <tr>\n",
       "      <th>2</th>\n",
       "      <td>0.02</td>\n",
       "      <td>39.22</td>\n",
       "      <td>18.61</td>\n",
       "      <td>21.69</td>\n",
       "      <td>5.58</td>\n",
       "      <td>73.08</td>\n",
       "      <td>45.67</td>\n",
       "      <td>55.81</td>\n",
       "      <td>7.01</td>\n",
       "    </tr>\n",
       "    <tr>\n",
       "      <th>3</th>\n",
       "      <td>0.03</td>\n",
       "      <td>39.22</td>\n",
       "      <td>18.61</td>\n",
       "      <td>21.73</td>\n",
       "      <td>5.58</td>\n",
       "      <td>73.08</td>\n",
       "      <td>45.67</td>\n",
       "      <td>55.81</td>\n",
       "      <td>7.01</td>\n",
       "    </tr>\n",
       "    <tr>\n",
       "      <th>4</th>\n",
       "      <td>0.04</td>\n",
       "      <td>39.22</td>\n",
       "      <td>18.61</td>\n",
       "      <td>21.69</td>\n",
       "      <td>5.58</td>\n",
       "      <td>73.30</td>\n",
       "      <td>45.77</td>\n",
       "      <td>55.81</td>\n",
       "      <td>7.01</td>\n",
       "    </tr>\n",
       "  </tbody>\n",
       "</table>\n",
       "</div>"
      ],
      "text/plain": [
       "   time  sense_one  sense_two  sense_three  sense_four  sense_five  sense_six  \\\n",
       "0  0.00      39.22      18.64        21.73        5.58       73.08      45.87   \n",
       "1  0.01      39.22      18.61        21.73        5.58       73.30      45.87   \n",
       "2  0.02      39.22      18.61        21.69        5.58       73.08      45.67   \n",
       "3  0.03      39.22      18.61        21.73        5.58       73.08      45.67   \n",
       "4  0.04      39.22      18.61        21.69        5.58       73.30      45.77   \n",
       "\n",
       "   sense_seven  sense_eight  \n",
       "0        55.81         7.01  \n",
       "1        55.81         7.01  \n",
       "2        55.81         7.01  \n",
       "3        55.81         7.01  \n",
       "4        55.81         7.01  "
      ]
     },
     "execution_count": 22,
     "metadata": {},
     "output_type": "execute_result"
    }
   ],
   "source": [
    "import pandas as pd\n",
    "repitition_one = pd.read_csv(r'B1_GCO_F040_R1.txt',sep = '\\t',header = None)\n",
    "repitition_one.columns = ['time','sense_one', 'sense_two', 'sense_three','sense_four','sense_five',\n",
    "                          'sense_six','sense_seven','sense_eight']\n",
    "repitition_one.head()"
   ]
  },
  {
   "cell_type": "code",
   "execution_count": 23,
   "metadata": {},
   "outputs": [
    {
     "data": {
      "text/html": [
       "<div>\n",
       "<style>\n",
       "    .dataframe thead tr:only-child th {\n",
       "        text-align: right;\n",
       "    }\n",
       "\n",
       "    .dataframe thead th {\n",
       "        text-align: left;\n",
       "    }\n",
       "\n",
       "    .dataframe tbody tr th {\n",
       "        vertical-align: top;\n",
       "    }\n",
       "</style>\n",
       "<table border=\"1\" class=\"dataframe\">\n",
       "  <thead>\n",
       "    <tr style=\"text-align: right;\">\n",
       "      <th></th>\n",
       "      <th>time</th>\n",
       "      <th>sense_one</th>\n",
       "      <th>sense_two</th>\n",
       "      <th>sense_three</th>\n",
       "      <th>sense_four</th>\n",
       "      <th>sense_five</th>\n",
       "      <th>sense_six</th>\n",
       "      <th>sense_seven</th>\n",
       "      <th>sense_eight</th>\n",
       "    </tr>\n",
       "  </thead>\n",
       "  <tbody>\n",
       "    <tr>\n",
       "      <th>0</th>\n",
       "      <td>0.00</td>\n",
       "      <td>36.43</td>\n",
       "      <td>17.09</td>\n",
       "      <td>19.84</td>\n",
       "      <td>5.81</td>\n",
       "      <td>68.66</td>\n",
       "      <td>41.78</td>\n",
       "      <td>52.64</td>\n",
       "      <td>7.03</td>\n",
       "    </tr>\n",
       "    <tr>\n",
       "      <th>1</th>\n",
       "      <td>0.01</td>\n",
       "      <td>36.43</td>\n",
       "      <td>17.09</td>\n",
       "      <td>19.84</td>\n",
       "      <td>5.81</td>\n",
       "      <td>68.66</td>\n",
       "      <td>41.87</td>\n",
       "      <td>52.51</td>\n",
       "      <td>7.03</td>\n",
       "    </tr>\n",
       "    <tr>\n",
       "      <th>2</th>\n",
       "      <td>0.02</td>\n",
       "      <td>36.50</td>\n",
       "      <td>17.09</td>\n",
       "      <td>19.84</td>\n",
       "      <td>5.81</td>\n",
       "      <td>68.86</td>\n",
       "      <td>41.87</td>\n",
       "      <td>52.76</td>\n",
       "      <td>7.03</td>\n",
       "    </tr>\n",
       "    <tr>\n",
       "      <th>3</th>\n",
       "      <td>0.03</td>\n",
       "      <td>36.50</td>\n",
       "      <td>17.14</td>\n",
       "      <td>19.86</td>\n",
       "      <td>5.81</td>\n",
       "      <td>68.66</td>\n",
       "      <td>41.78</td>\n",
       "      <td>52.51</td>\n",
       "      <td>7.03</td>\n",
       "    </tr>\n",
       "    <tr>\n",
       "      <th>4</th>\n",
       "      <td>0.04</td>\n",
       "      <td>36.43</td>\n",
       "      <td>17.11</td>\n",
       "      <td>19.84</td>\n",
       "      <td>5.81</td>\n",
       "      <td>68.86</td>\n",
       "      <td>41.78</td>\n",
       "      <td>52.64</td>\n",
       "      <td>7.03</td>\n",
       "    </tr>\n",
       "  </tbody>\n",
       "</table>\n",
       "</div>"
      ],
      "text/plain": [
       "   time  sense_one  sense_two  sense_three  sense_four  sense_five  sense_six  \\\n",
       "0  0.00      36.43      17.09        19.84        5.81       68.66      41.78   \n",
       "1  0.01      36.43      17.09        19.84        5.81       68.66      41.87   \n",
       "2  0.02      36.50      17.09        19.84        5.81       68.86      41.87   \n",
       "3  0.03      36.50      17.14        19.86        5.81       68.66      41.78   \n",
       "4  0.04      36.43      17.11        19.84        5.81       68.86      41.78   \n",
       "\n",
       "   sense_seven  sense_eight  \n",
       "0        52.64         7.03  \n",
       "1        52.51         7.03  \n",
       "2        52.76         7.03  \n",
       "3        52.51         7.03  \n",
       "4        52.64         7.03  "
      ]
     },
     "execution_count": 23,
     "metadata": {},
     "output_type": "execute_result"
    }
   ],
   "source": [
    "repitition_two = pd.read_csv(r'B1_GCO_F040_R2.txt',sep = '\\t',header = None)\n",
    "repitition_two.columns = ['time','sense_one', 'sense_two', 'sense_three','sense_four','sense_five',\n",
    "                          'sense_six','sense_seven','sense_eight']\n",
    "repitition_two.head()"
   ]
  },
  {
   "cell_type": "code",
   "execution_count": 24,
   "metadata": {},
   "outputs": [
    {
     "data": {
      "text/html": [
       "<div>\n",
       "<style>\n",
       "    .dataframe thead tr:only-child th {\n",
       "        text-align: right;\n",
       "    }\n",
       "\n",
       "    .dataframe thead th {\n",
       "        text-align: left;\n",
       "    }\n",
       "\n",
       "    .dataframe tbody tr th {\n",
       "        vertical-align: top;\n",
       "    }\n",
       "</style>\n",
       "<table border=\"1\" class=\"dataframe\">\n",
       "  <thead>\n",
       "    <tr style=\"text-align: right;\">\n",
       "      <th></th>\n",
       "      <th>time</th>\n",
       "      <th>sense_one</th>\n",
       "      <th>sense_two</th>\n",
       "      <th>sense_three</th>\n",
       "      <th>sense_four</th>\n",
       "      <th>sense_five</th>\n",
       "      <th>sense_six</th>\n",
       "      <th>sense_seven</th>\n",
       "      <th>sense_eight</th>\n",
       "    </tr>\n",
       "  </thead>\n",
       "  <tbody>\n",
       "    <tr>\n",
       "      <th>0</th>\n",
       "      <td>0.00</td>\n",
       "      <td>44.11</td>\n",
       "      <td>21.83</td>\n",
       "      <td>24.66</td>\n",
       "      <td>8.04</td>\n",
       "      <td>80.85</td>\n",
       "      <td>49.28</td>\n",
       "      <td>65.38</td>\n",
       "      <td>8.53</td>\n",
       "    </tr>\n",
       "    <tr>\n",
       "      <th>1</th>\n",
       "      <td>0.01</td>\n",
       "      <td>44.11</td>\n",
       "      <td>21.83</td>\n",
       "      <td>24.66</td>\n",
       "      <td>8.04</td>\n",
       "      <td>80.58</td>\n",
       "      <td>49.28</td>\n",
       "      <td>65.38</td>\n",
       "      <td>8.53</td>\n",
       "    </tr>\n",
       "    <tr>\n",
       "      <th>2</th>\n",
       "      <td>0.02</td>\n",
       "      <td>44.11</td>\n",
       "      <td>21.80</td>\n",
       "      <td>24.66</td>\n",
       "      <td>8.04</td>\n",
       "      <td>80.58</td>\n",
       "      <td>49.16</td>\n",
       "      <td>65.19</td>\n",
       "      <td>8.53</td>\n",
       "    </tr>\n",
       "    <tr>\n",
       "      <th>3</th>\n",
       "      <td>0.03</td>\n",
       "      <td>44.11</td>\n",
       "      <td>21.80</td>\n",
       "      <td>24.66</td>\n",
       "      <td>8.04</td>\n",
       "      <td>80.58</td>\n",
       "      <td>49.16</td>\n",
       "      <td>65.38</td>\n",
       "      <td>8.54</td>\n",
       "    </tr>\n",
       "    <tr>\n",
       "      <th>4</th>\n",
       "      <td>0.04</td>\n",
       "      <td>44.11</td>\n",
       "      <td>21.83</td>\n",
       "      <td>24.66</td>\n",
       "      <td>8.04</td>\n",
       "      <td>80.58</td>\n",
       "      <td>49.16</td>\n",
       "      <td>65.19</td>\n",
       "      <td>8.53</td>\n",
       "    </tr>\n",
       "  </tbody>\n",
       "</table>\n",
       "</div>"
      ],
      "text/plain": [
       "   time  sense_one  sense_two  sense_three  sense_four  sense_five  sense_six  \\\n",
       "0  0.00      44.11      21.83        24.66        8.04       80.85      49.28   \n",
       "1  0.01      44.11      21.83        24.66        8.04       80.58      49.28   \n",
       "2  0.02      44.11      21.80        24.66        8.04       80.58      49.16   \n",
       "3  0.03      44.11      21.80        24.66        8.04       80.58      49.16   \n",
       "4  0.04      44.11      21.83        24.66        8.04       80.58      49.16   \n",
       "\n",
       "   sense_seven  sense_eight  \n",
       "0        65.38         8.53  \n",
       "1        65.38         8.53  \n",
       "2        65.19         8.53  \n",
       "3        65.38         8.54  \n",
       "4        65.19         8.53  "
      ]
     },
     "execution_count": 24,
     "metadata": {},
     "output_type": "execute_result"
    }
   ],
   "source": [
    "repitition_three = pd.read_csv(r'B1_GCO_F040_R3.txt',sep = '\\t',header = None)\n",
    "repitition_three.columns = ['time','sense_one', 'sense_two', 'sense_three','sense_four','sense_five',\n",
    "                          'sense_six','sense_seven','sense_eight']\n",
    "repitition_three.head()"
   ]
  },
  {
   "cell_type": "code",
   "execution_count": 25,
   "metadata": {},
   "outputs": [
    {
     "data": {
      "text/html": [
       "<div>\n",
       "<style>\n",
       "    .dataframe thead tr:only-child th {\n",
       "        text-align: right;\n",
       "    }\n",
       "\n",
       "    .dataframe thead th {\n",
       "        text-align: left;\n",
       "    }\n",
       "\n",
       "    .dataframe tbody tr th {\n",
       "        vertical-align: top;\n",
       "    }\n",
       "</style>\n",
       "<table border=\"1\" class=\"dataframe\">\n",
       "  <thead>\n",
       "    <tr style=\"text-align: right;\">\n",
       "      <th></th>\n",
       "      <th>time</th>\n",
       "      <th>sense_one</th>\n",
       "      <th>sense_two</th>\n",
       "      <th>sense_three</th>\n",
       "      <th>sense_four</th>\n",
       "      <th>sense_five</th>\n",
       "      <th>sense_six</th>\n",
       "      <th>sense_seven</th>\n",
       "      <th>sense_eight</th>\n",
       "    </tr>\n",
       "  </thead>\n",
       "  <tbody>\n",
       "    <tr>\n",
       "      <th>0</th>\n",
       "      <td>0.00</td>\n",
       "      <td>46.47</td>\n",
       "      <td>23.05</td>\n",
       "      <td>26.07</td>\n",
       "      <td>7.98</td>\n",
       "      <td>85.89</td>\n",
       "      <td>50.90</td>\n",
       "      <td>69.01</td>\n",
       "      <td>8.14</td>\n",
       "    </tr>\n",
       "    <tr>\n",
       "      <th>1</th>\n",
       "      <td>0.01</td>\n",
       "      <td>46.58</td>\n",
       "      <td>23.05</td>\n",
       "      <td>26.16</td>\n",
       "      <td>7.98</td>\n",
       "      <td>85.89</td>\n",
       "      <td>50.90</td>\n",
       "      <td>69.21</td>\n",
       "      <td>8.13</td>\n",
       "    </tr>\n",
       "    <tr>\n",
       "      <th>2</th>\n",
       "      <td>0.02</td>\n",
       "      <td>46.47</td>\n",
       "      <td>23.05</td>\n",
       "      <td>26.16</td>\n",
       "      <td>7.98</td>\n",
       "      <td>85.89</td>\n",
       "      <td>50.90</td>\n",
       "      <td>69.21</td>\n",
       "      <td>8.13</td>\n",
       "    </tr>\n",
       "    <tr>\n",
       "      <th>3</th>\n",
       "      <td>0.03</td>\n",
       "      <td>46.47</td>\n",
       "      <td>23.09</td>\n",
       "      <td>26.16</td>\n",
       "      <td>7.98</td>\n",
       "      <td>85.89</td>\n",
       "      <td>50.78</td>\n",
       "      <td>69.01</td>\n",
       "      <td>8.13</td>\n",
       "    </tr>\n",
       "    <tr>\n",
       "      <th>4</th>\n",
       "      <td>0.04</td>\n",
       "      <td>46.47</td>\n",
       "      <td>23.05</td>\n",
       "      <td>26.16</td>\n",
       "      <td>7.98</td>\n",
       "      <td>85.89</td>\n",
       "      <td>50.90</td>\n",
       "      <td>69.01</td>\n",
       "      <td>8.13</td>\n",
       "    </tr>\n",
       "  </tbody>\n",
       "</table>\n",
       "</div>"
      ],
      "text/plain": [
       "   time  sense_one  sense_two  sense_three  sense_four  sense_five  sense_six  \\\n",
       "0  0.00      46.47      23.05        26.07        7.98       85.89      50.90   \n",
       "1  0.01      46.58      23.05        26.16        7.98       85.89      50.90   \n",
       "2  0.02      46.47      23.05        26.16        7.98       85.89      50.90   \n",
       "3  0.03      46.47      23.09        26.16        7.98       85.89      50.78   \n",
       "4  0.04      46.47      23.05        26.16        7.98       85.89      50.90   \n",
       "\n",
       "   sense_seven  sense_eight  \n",
       "0        69.01         8.14  \n",
       "1        69.21         8.13  \n",
       "2        69.21         8.13  \n",
       "3        69.01         8.13  \n",
       "4        69.01         8.13  "
      ]
     },
     "execution_count": 25,
     "metadata": {},
     "output_type": "execute_result"
    }
   ],
   "source": [
    "repitition_four = pd.read_csv(r'B1_GCO_F040_R4.txt',sep = '\\t',header = None)\n",
    "repitition_four.columns = ['time','sense_one', 'sense_two', 'sense_three','sense_four','sense_five',\n",
    "                          'sense_six','sense_seven','sense_eight']\n",
    "repitition_four.head()"
   ]
  },
  {
   "cell_type": "code",
   "execution_count": 26,
   "metadata": {},
   "outputs": [
    {
     "data": {
      "image/png": "[encoded data removed]",
      "text/plain": [
       "<matplotlib.figure.Figure at 0x270f91d5be0>"
      ]
     },
     "metadata": {},
     "output_type": "display_data"
    },
    {
     "data": {
      "image/png": "[encoded data removed]",
      "text/plain": [
       "<matplotlib.figure.Figure at 0x270f9307780>"
      ]
     },
     "metadata": {},
     "output_type": "display_data"
    },
    {
     "data": {
      "image/png": "[encoded data removed]",
      "text/plain": [
       "<matplotlib.figure.Figure at 0x270f8ae1c18>"
      ]
     },
     "metadata": {},
     "output_type": "display_data"
    },
    {
     "data": {
      "image/png": "[encoded data removed]",
      "text/plain": [
       "<matplotlib.figure.Figure at 0x270f8abe208>"
      ]
     },
     "metadata": {},
     "output_type": "display_data"
    },
    {
     "data": {
      "image/png": "[encoded data removed]",
      "text/plain": [
       "<matplotlib.figure.Figure at 0x270f9420a20>"
      ]
     },
     "metadata": {},
     "output_type": "display_data"
    },
    {
     "data": {
      "image/png": "[encoded data removed]",
      "text/plain": [
       "<matplotlib.figure.Figure at 0x270f9338eb8>"
      ]
     },
     "metadata": {},
     "output_type": "display_data"
    },
    {
     "data": {
      "image/png": "[encoded data removed]",
      "text/plain": [
       "<matplotlib.figure.Figure at 0x270f9443240>"
      ]
     },
     "metadata": {},
     "output_type": "display_data"
    },
    {
     "data": {
      "image/png": "[encoded data removed]",
      "text/plain": [
       "<matplotlib.figure.Figure at 0x270f9307908>"
      ]
     },
     "metadata": {},
     "output_type": "display_data"
    },
    {
     "data": {
      "image/png": "[encoded data removed]",
      "text/plain": [
       "<matplotlib.figure.Figure at 0x270f426fa90>"
      ]
     },
     "metadata": {},
     "output_type": "display_data"
    }
   ],
   "source": [
    "import matplotlib.pyplot as plt\n",
    "\n",
    "for key in repitition_one.keys():\n",
    "    plt.boxplot(repitition_one[key])\n",
    "    plt.grid('on')\n",
    "    plt.title('Box plot of '+str(key))\n",
    "    plt.show()\n",
    "    plt.savefig('Box_plot_of_'+ str(key)+ 'board_one_CO_at_40ppm.jpeg')"
   ]
  },
  {
   "cell_type": "code",
   "execution_count": 27,
   "metadata": {
    "collapsed": true
   },
   "outputs": [],
   "source": [
    "repitition_one['sense_one'][repitition_one['sense_one'] < 38.4] = 38.4\n"
   ]
  },
  {
   "cell_type": "code",
   "execution_count": 28,
   "metadata": {
    "collapsed": true
   },
   "outputs": [],
   "source": [
    "repitition_one['sense_two'][repitition_one['sense_two'] <= 18.36] = 18.36"
   ]
  },
  {
   "cell_type": "code",
   "execution_count": 29,
   "metadata": {
    "collapsed": true
   },
   "outputs": [],
   "source": [
    "repitition_one['sense_three'][repitition_one['sense_three'] < 21.25] = 21.25"
   ]
  },
  {
   "cell_type": "code",
   "execution_count": 30,
   "metadata": {},
   "outputs": [],
   "source": [
    "repitition_one['sense_four'][repitition_one['sense_four'] <= 5.0 ]= 5.0"
   ]
  },
  {
   "cell_type": "code",
   "execution_count": 31,
   "metadata": {
    "collapsed": true
   },
   "outputs": [],
   "source": [
    "repitition_one['sense_five'][repitition_one['sense_five'] <= 71.5] = 71.5"
   ]
  },
  {
   "cell_type": "code",
   "execution_count": 40,
   "metadata": {
    "collapsed": true
   },
   "outputs": [],
   "source": [
    "repitition_one['sense_six'][repitition_one['sense_six'] < 45.20] = 45.20\n",
    "repitition_one['sense_six'][repitition_one['sense_six'] > 45.96] = 45.96"
   ]
  },
  {
   "cell_type": "code",
   "execution_count": 33,
   "metadata": {
    "collapsed": true
   },
   "outputs": [],
   "source": [
    "repitition_one['sense_seven'][repitition_one['sense_seven'] < 54.6] = 54.6"
   ]
  },
  {
   "cell_type": "code",
   "execution_count": 34,
   "metadata": {
    "collapsed": true
   },
   "outputs": [],
   "source": [
    "repitition_one['sense_eight'][repitition_one['sense_eight'] <5.3] = 5.3"
   ]
  },
  {
   "cell_type": "code",
   "execution_count": 41,
   "metadata": {},
   "outputs": [
    {
     "data": {
      "image/png": "[encoded data removed]",
      "text/plain": [
       "<matplotlib.figure.Figure at 0x270f9247ac8>"
      ]
     },
     "metadata": {},
     "output_type": "display_data"
    },
    {
     "data": {
      "image/png": "[encoded data removed]",
      "text/plain": [
       "<matplotlib.figure.Figure at 0x270faf72eb8>"
      ]
     },
     "metadata": {},
     "output_type": "display_data"
    },
    {
     "data": {
      "image/png": "[encoded data removed]",
      "text/plain": [
       "<matplotlib.figure.Figure at 0x270f94caeb8>"
      ]
     },
     "metadata": {},
     "output_type": "display_data"
    },
    {
     "data": {
      "image/png": "[encoded data removed]",
      "text/plain": [
       "<matplotlib.figure.Figure at 0x270f93ec4a8>"
      ]
     },
     "metadata": {},
     "output_type": "display_data"
    },
    {
     "data": {
      "image/png": "[encoded data removed]",
      "text/plain": [
       "<matplotlib.figure.Figure at 0x270f7791978>"
      ]
     },
     "metadata": {},
     "output_type": "display_data"
    },
    {
     "data": {
      "image/png": "[encoded data removed]",
      "text/plain": [
       "<matplotlib.figure.Figure at 0x270f8ae9e10>"
      ]
     },
     "metadata": {},
     "output_type": "display_data"
    },
    {
     "data": {
      "image/png": "[encoded data removed]",
      "text/plain": [
       "<matplotlib.figure.Figure at 0x270fadbf0f0>"
      ]
     },
     "metadata": {},
     "output_type": "display_data"
    },
    {
     "data": {
      "image/png": "[encoded data removed]",
      "text/plain": [
       "<matplotlib.figure.Figure at 0x270f92ea438>"
      ]
     },
     "metadata": {},
     "output_type": "display_data"
    },
    {
     "data": {
      "image/png": "[encoded data removed]",
      "text/plain": [
       "<matplotlib.figure.Figure at 0x270fae46ac8>"
      ]
     },
     "metadata": {},
     "output_type": "display_data"
    }
   ],
   "source": [
    "import matplotlib.pyplot as plt\n",
    "\n",
    "for key in repitition_one.keys():\n",
    "    plt.boxplot(repitition_one[key])\n",
    "    plt.grid('on')\n",
    "    plt.title('Box plot of '+str(key))\n",
    "    plt.show()\n",
    "    plt.savefig('Box_plot_of_'+ str(key)+ '_no_outliers_board_one_CO_at_40ppm.jpeg')"
   ]
  },
  {
   "cell_type": "code",
   "execution_count": 42,
   "metadata": {
    "collapsed": true
   },
   "outputs": [],
   "source": [
    "final_repitition = (repitition_one + repitition_two+repitition_three + repitition_four) / 4"
   ]
  },
  {
   "cell_type": "code",
   "execution_count": 43,
   "metadata": {},
   "outputs": [
    {
     "data": {
      "text/html": [
       "<div>\n",
       "<style>\n",
       "    .dataframe thead tr:only-child th {\n",
       "        text-align: right;\n",
       "    }\n",
       "\n",
       "    .dataframe thead th {\n",
       "        text-align: left;\n",
       "    }\n",
       "\n",
       "    .dataframe tbody tr th {\n",
       "        vertical-align: top;\n",
       "    }\n",
       "</style>\n",
       "<table border=\"1\" class=\"dataframe\">\n",
       "  <thead>\n",
       "    <tr style=\"text-align: right;\">\n",
       "      <th></th>\n",
       "      <th>time</th>\n",
       "      <th>sense_one</th>\n",
       "      <th>sense_two</th>\n",
       "      <th>sense_three</th>\n",
       "      <th>sense_four</th>\n",
       "      <th>sense_five</th>\n",
       "      <th>sense_six</th>\n",
       "      <th>sense_seven</th>\n",
       "      <th>sense_eight</th>\n",
       "    </tr>\n",
       "  </thead>\n",
       "  <tbody>\n",
       "    <tr>\n",
       "      <th>0</th>\n",
       "      <td>0.00</td>\n",
       "      <td>41.5575</td>\n",
       "      <td>20.1525</td>\n",
       "      <td>23.0750</td>\n",
       "      <td>6.8525</td>\n",
       "      <td>77.1200</td>\n",
       "      <td>46.9575</td>\n",
       "      <td>60.7100</td>\n",
       "      <td>7.6775</td>\n",
       "    </tr>\n",
       "    <tr>\n",
       "      <th>1</th>\n",
       "      <td>0.01</td>\n",
       "      <td>41.5850</td>\n",
       "      <td>20.1450</td>\n",
       "      <td>23.0975</td>\n",
       "      <td>6.8525</td>\n",
       "      <td>77.1075</td>\n",
       "      <td>46.9800</td>\n",
       "      <td>60.7275</td>\n",
       "      <td>7.6750</td>\n",
       "    </tr>\n",
       "    <tr>\n",
       "      <th>2</th>\n",
       "      <td>0.02</td>\n",
       "      <td>41.5750</td>\n",
       "      <td>20.1375</td>\n",
       "      <td>23.0875</td>\n",
       "      <td>6.8525</td>\n",
       "      <td>77.1025</td>\n",
       "      <td>46.9000</td>\n",
       "      <td>60.7425</td>\n",
       "      <td>7.6750</td>\n",
       "    </tr>\n",
       "    <tr>\n",
       "      <th>3</th>\n",
       "      <td>0.03</td>\n",
       "      <td>41.5750</td>\n",
       "      <td>20.1600</td>\n",
       "      <td>23.1025</td>\n",
       "      <td>6.8525</td>\n",
       "      <td>77.0525</td>\n",
       "      <td>46.8475</td>\n",
       "      <td>60.6775</td>\n",
       "      <td>7.6775</td>\n",
       "    </tr>\n",
       "    <tr>\n",
       "      <th>4</th>\n",
       "      <td>0.04</td>\n",
       "      <td>41.5575</td>\n",
       "      <td>20.1500</td>\n",
       "      <td>23.0875</td>\n",
       "      <td>6.8525</td>\n",
       "      <td>77.1575</td>\n",
       "      <td>46.9025</td>\n",
       "      <td>60.6625</td>\n",
       "      <td>7.6750</td>\n",
       "    </tr>\n",
       "  </tbody>\n",
       "</table>\n",
       "</div>"
      ],
      "text/plain": [
       "   time  sense_one  sense_two  sense_three  sense_four  sense_five  sense_six  \\\n",
       "0  0.00    41.5575    20.1525      23.0750      6.8525     77.1200    46.9575   \n",
       "1  0.01    41.5850    20.1450      23.0975      6.8525     77.1075    46.9800   \n",
       "2  0.02    41.5750    20.1375      23.0875      6.8525     77.1025    46.9000   \n",
       "3  0.03    41.5750    20.1600      23.1025      6.8525     77.0525    46.8475   \n",
       "4  0.04    41.5575    20.1500      23.0875      6.8525     77.1575    46.9025   \n",
       "\n",
       "   sense_seven  sense_eight  \n",
       "0      60.7100       7.6775  \n",
       "1      60.7275       7.6750  \n",
       "2      60.7425       7.6750  \n",
       "3      60.6775       7.6775  \n",
       "4      60.6625       7.6750  "
      ]
     },
     "execution_count": 43,
     "metadata": {},
     "output_type": "execute_result"
    }
   ],
   "source": [
    "final_repitition.head()"
   ]
  },
  {
   "cell_type": "code",
   "execution_count": 45,
   "metadata": {
    "collapsed": true
   },
   "outputs": [],
   "source": [
    "final_repitition.to_csv('Repitition_CO_at_40_ppm.csv')"
   ]
  },
  {
   "cell_type": "code",
   "execution_count": null,
   "metadata": {
    "collapsed": true
   },
   "outputs": [],
   "source": []
  }
 ],
 "metadata": {
  "kernelspec": {
   "display_name": "Python 3",
   "language": "python",
   "name": "python3"
  },
  "language_info": {
   "codemirror_mode": {
    "name": "ipython",
    "version": 3
   },
   "file_extension": ".py",
   "mimetype": "text/x-python",
   "name": "python",
   "nbconvert_exporter": "python",
   "pygments_lexer": "ipython3",
   "version": "3.6.1"
  }
 },
 "nbformat": 4,
 "nbformat_minor": 2
}
