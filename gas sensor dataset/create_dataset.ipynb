{
 "cells": [
  {
   "cell_type": "code",
   "execution_count": 62,
   "metadata": {},
   "outputs": [
    {
     "data": {
      "text/plain": [
       "['.ipynb_checkpoints',\n",
       " 'create_dataset.ipynb',\n",
       " 'data visualization.ipynb',\n",
       " 'merged_preprocess_data.csv',\n",
       " 'model_building.ipynb',\n",
       " 'Repitition_CO_at_70_ppm.csv',\n",
       " 'Repitition_CO_at_80_ppm.csv',\n",
       " 'Repitition_CO_at_90_ppm.csv',\n",
       " 'Repitition_EA_at_20_ppm.csv',\n",
       " 'Repitition_EA_at_30_ppm.csv',\n",
       " 'Repitition_EA_at_40_ppm.csv',\n",
       " 'Repitition_Ey_at_40_ppm.csv',\n",
       " 'Repitition_Ey_at_50_ppm.csv',\n",
       " 'Repitition_Ey_at_60_ppm.csv',\n",
       " 'Repitition_ME_at_60_ppm.csv',\n",
       " 'Repitition_ME_at_70_ppm.csv',\n",
       " 'Repitition_ME_at_80_ppm.csv']"
      ]
     },
     "execution_count": 62,
     "metadata": {},
     "output_type": "execute_result"
    }
   ],
   "source": [
    "import os\n",
    "os.listdir()"
   ]
  },
  {
   "cell_type": "code",
   "execution_count": 63,
   "metadata": {},
   "outputs": [],
   "source": [
    "import pandas as pd\n",
    "co_at_70_ppm = pd.read_csv('Repitition_CO_at_70_ppm.csv')\n",
    "co_at_80_ppm = pd.read_csv('Repitition_CO_at_80_ppm.csv')\n",
    "co_at_90_ppm = pd.read_csv('Repitition_CO_at_90_ppm.csv')"
   ]
  },
  {
   "cell_type": "code",
   "execution_count": 64,
   "metadata": {
    "collapsed": true
   },
   "outputs": [],
   "source": [
    "ea_at_20_ppm = pd.read_csv('Repitition_EA_at_20_ppm.csv')\n",
    "ea_at_30_ppm = pd.read_csv('Repitition_EA_at_30_ppm.csv')\n",
    "ea_at_40_ppm = pd.read_csv('Repitition_EA_at_40_ppm.csv')"
   ]
  },
  {
   "cell_type": "code",
   "execution_count": 65,
   "metadata": {
    "collapsed": true
   },
   "outputs": [],
   "source": [
    "ey_at_40_ppm = pd.read_csv('Repitition_EY_at_40_ppm.csv')\n",
    "ey_at_50_ppm = pd.read_csv('Repitition_EY_at_50_ppm.csv')\n",
    "ey_at_60_ppm = pd.read_csv('Repitition_EY_at_60_ppm.csv')"
   ]
  },
  {
   "cell_type": "code",
   "execution_count": 66,
   "metadata": {
    "collapsed": true
   },
   "outputs": [],
   "source": [
    "me_at_60_ppm = pd.read_csv('Repitition_ME_at_60_ppm.csv')\n",
    "me_at_70_ppm = pd.read_csv('Repitition_ME_at_70_ppm.csv')\n",
    "me_at_80_ppm = pd.read_csv('Repitition_ME_at_80_ppm.csv')"
   ]
  },
  {
   "cell_type": "code",
   "execution_count": 67,
   "metadata": {},
   "outputs": [],
   "source": [
    "co_at_70_ppm['target'] = 1.0\n",
    "co_at_80_ppm['target'] = 1.0\n",
    "co_at_90_ppm['target'] = 1.0"
   ]
  },
  {
   "cell_type": "code",
   "execution_count": 68,
   "metadata": {
    "collapsed": true
   },
   "outputs": [],
   "source": [
    "ea_at_20_ppm['target'] = 2.0\n",
    "ea_at_30_ppm['target'] = 2.0\n",
    "ea_at_40_ppm['target'] = 2.0"
   ]
  },
  {
   "cell_type": "code",
   "execution_count": 69,
   "metadata": {
    "collapsed": true
   },
   "outputs": [],
   "source": [
    "ey_at_40_ppm['target'] = 3.0\n",
    "ey_at_50_ppm['target'] = 3.0\n",
    "ey_at_60_ppm['target'] = 3.0"
   ]
  },
  {
   "cell_type": "code",
   "execution_count": 70,
   "metadata": {
    "collapsed": true
   },
   "outputs": [],
   "source": [
    "me_at_60_ppm['target'] = 4.0\n",
    "me_at_70_ppm['target'] = 4.0\n",
    "me_at_80_ppm['target'] = 4.0"
   ]
  },
  {
   "cell_type": "code",
   "execution_count": 71,
   "metadata": {
    "scrolled": true
   },
   "outputs": [],
   "source": [
    "co_at_70_ppm = co_at_70_ppm.drop(['Unnamed: 0', 'time'], axis = 1)"
   ]
  },
  {
   "cell_type": "code",
   "execution_count": 72,
   "metadata": {},
   "outputs": [
    {
     "data": {
      "text/html": [
       "<div>\n",
       "<style>\n",
       "    .dataframe thead tr:only-child th {\n",
       "        text-align: right;\n",
       "    }\n",
       "\n",
       "    .dataframe thead th {\n",
       "        text-align: left;\n",
       "    }\n",
       "\n",
       "    .dataframe tbody tr th {\n",
       "        vertical-align: top;\n",
       "    }\n",
       "</style>\n",
       "<table border=\"1\" class=\"dataframe\">\n",
       "  <thead>\n",
       "    <tr style=\"text-align: right;\">\n",
       "      <th></th>\n",
       "      <th>sense_one</th>\n",
       "      <th>sense_two</th>\n",
       "      <th>sense_three</th>\n",
       "      <th>sense_four</th>\n",
       "      <th>sense_five</th>\n",
       "      <th>sense_six</th>\n",
       "      <th>sense_seven</th>\n",
       "      <th>sense_eight</th>\n",
       "      <th>target</th>\n",
       "    </tr>\n",
       "  </thead>\n",
       "  <tbody>\n",
       "    <tr>\n",
       "      <th>0</th>\n",
       "      <td>41.935</td>\n",
       "      <td>20.2800</td>\n",
       "      <td>23.2900</td>\n",
       "      <td>6.875</td>\n",
       "      <td>77.7575</td>\n",
       "      <td>47.1925</td>\n",
       "      <td>61.2100</td>\n",
       "      <td>7.7250</td>\n",
       "      <td>1.0</td>\n",
       "    </tr>\n",
       "    <tr>\n",
       "      <th>1</th>\n",
       "      <td>41.960</td>\n",
       "      <td>20.3000</td>\n",
       "      <td>23.3075</td>\n",
       "      <td>6.875</td>\n",
       "      <td>77.7075</td>\n",
       "      <td>47.2700</td>\n",
       "      <td>61.2100</td>\n",
       "      <td>7.7225</td>\n",
       "      <td>1.0</td>\n",
       "    </tr>\n",
       "    <tr>\n",
       "      <th>2</th>\n",
       "      <td>41.935</td>\n",
       "      <td>20.2875</td>\n",
       "      <td>23.2800</td>\n",
       "      <td>6.875</td>\n",
       "      <td>77.7025</td>\n",
       "      <td>47.1625</td>\n",
       "      <td>61.2100</td>\n",
       "      <td>7.7300</td>\n",
       "      <td>1.0</td>\n",
       "    </tr>\n",
       "    <tr>\n",
       "      <th>3</th>\n",
       "      <td>41.915</td>\n",
       "      <td>20.2800</td>\n",
       "      <td>23.2900</td>\n",
       "      <td>6.875</td>\n",
       "      <td>77.7025</td>\n",
       "      <td>47.2625</td>\n",
       "      <td>61.1775</td>\n",
       "      <td>7.7250</td>\n",
       "      <td>1.0</td>\n",
       "    </tr>\n",
       "    <tr>\n",
       "      <th>4</th>\n",
       "      <td>41.960</td>\n",
       "      <td>20.3025</td>\n",
       "      <td>23.2900</td>\n",
       "      <td>6.875</td>\n",
       "      <td>77.7575</td>\n",
       "      <td>47.2450</td>\n",
       "      <td>61.1600</td>\n",
       "      <td>7.7250</td>\n",
       "      <td>1.0</td>\n",
       "    </tr>\n",
       "  </tbody>\n",
       "</table>\n",
       "</div>"
      ],
      "text/plain": [
       "   sense_one  sense_two  sense_three  sense_four  sense_five  sense_six  \\\n",
       "0     41.935    20.2800      23.2900       6.875     77.7575    47.1925   \n",
       "1     41.960    20.3000      23.3075       6.875     77.7075    47.2700   \n",
       "2     41.935    20.2875      23.2800       6.875     77.7025    47.1625   \n",
       "3     41.915    20.2800      23.2900       6.875     77.7025    47.2625   \n",
       "4     41.960    20.3025      23.2900       6.875     77.7575    47.2450   \n",
       "\n",
       "   sense_seven  sense_eight  target  \n",
       "0      61.2100       7.7250     1.0  \n",
       "1      61.2100       7.7225     1.0  \n",
       "2      61.2100       7.7300     1.0  \n",
       "3      61.1775       7.7250     1.0  \n",
       "4      61.1600       7.7250     1.0  "
      ]
     },
     "execution_count": 72,
     "metadata": {},
     "output_type": "execute_result"
    }
   ],
   "source": [
    "co_at_70_ppm.head()"
   ]
  },
  {
   "cell_type": "code",
   "execution_count": 73,
   "metadata": {
    "collapsed": true
   },
   "outputs": [],
   "source": [
    "co_at_80_ppm = co_at_80_ppm.drop(['Unnamed: 0', 'time'], axis = 1)\n",
    "co_at_90_ppm = co_at_90_ppm.drop(['Unnamed: 0', 'time'], axis = 1)\n",
    "\n",
    "ea_at_20_ppm = ea_at_20_ppm.drop(['Unnamed: 0', 'time'], axis = 1)\n",
    "ea_at_30_ppm = ea_at_30_ppm.drop(['Unnamed: 0', 'time'], axis = 1)\n",
    "ea_at_40_ppm = ea_at_40_ppm.drop(['Unnamed: 0', 'time'], axis = 1)\n",
    "\n",
    "ey_at_40_ppm = ey_at_40_ppm.drop(['Unnamed: 0', 'time'], axis = 1)\n",
    "ey_at_50_ppm = ey_at_50_ppm.drop(['Unnamed: 0', 'time'], axis = 1)\n",
    "ey_at_60_ppm = ey_at_60_ppm.drop(['Unnamed: 0', 'time'], axis = 1)\n",
    "\n",
    "\n",
    "me_at_60_ppm = me_at_60_ppm.drop(['Unnamed: 0', 'time'], axis = 1)\n",
    "me_at_70_ppm = me_at_70_ppm.drop(['Unnamed: 0', 'time'], axis = 1)\n",
    "me_at_80_ppm = me_at_80_ppm.drop(['Unnamed: 0', 'time'], axis = 1)\n",
    "\n",
    "\n"
   ]
  },
  {
   "cell_type": "code",
   "execution_count": 74,
   "metadata": {},
   "outputs": [
    {
     "data": {
      "text/plain": [
       "0    4.0\n",
       "1    4.0\n",
       "2    4.0\n",
       "3    4.0\n",
       "4    4.0\n",
       "5    4.0\n",
       "6    4.0\n",
       "7    4.0\n",
       "8    4.0\n",
       "9    4.0\n",
       "Name: target, dtype: float64"
      ]
     },
     "execution_count": 74,
     "metadata": {},
     "output_type": "execute_result"
    }
   ],
   "source": [
    "me_at_80_ppm['target'][:10]"
   ]
  },
  {
   "cell_type": "code",
   "execution_count": 89,
   "metadata": {},
   "outputs": [
    {
     "name": "stdout",
     "output_type": "stream",
     "text": [
      "(719951,)\n",
      "(719951,)\n",
      "(719951,)\n",
      "(719951,)\n",
      "(719951,)\n",
      "(719951,)\n",
      "(719951,)\n",
      "(719951,)\n",
      "(719951,)\n"
     ]
    }
   ],
   "source": [
    "def concatenate_data(key):\n",
    "    value_one = np.append(co_at_80_ppm[key],co_at_90_ppm[key])\n",
    "    value_one_one = np.append(ea_at_30_ppm[key], ea_at_40_ppm[key])\n",
    "    value_two = np.append(ea_at_20_ppm[key], value_one_one)\n",
    "    value_two_two = np.append(ey_at_40_ppm[key], ey_at_50_ppm[key])\n",
    "    value_three = np.append(ey_at_60_ppm[key],value_two_two)\n",
    "    value_three_three = np.append(me_at_70_ppm[key],me_at_80_ppm[key])\n",
    "    value_four = np.append(me_at_60_ppm[key],value_three_three)\n",
    "    \n",
    "    val_1 = np.append(value_two, value_three)\n",
    "    value = np.append(value_one,val_1)\n",
    "    final = np.append(value, value_four)\n",
    "    return final\n",
    "\n",
    "sense_one = np.append(co_at_70_ppm['sense_one'],concatenate_data(key = 'sense_one'))\n",
    "print(sense_one.shape)\n",
    "sense_two = np.append(co_at_70_ppm['sense_two'],concatenate_data(key = 'sense_two'))\n",
    "print(sense_two.shape)\n",
    "sense_three = np.append(co_at_70_ppm['sense_three'],concatenate_data(key = 'sense_three'))\n",
    "print(sense_three.shape)\n",
    "sense_four = np.append(co_at_70_ppm['sense_four'],concatenate_data(key = 'sense_four'))\n",
    "print(sense_four.shape)\n",
    "sense_five = np.append(co_at_70_ppm['sense_five'],concatenate_data(key = 'sense_five'))\n",
    "print(sense_five.shape)\n",
    "sense_six= np.append(co_at_70_ppm['sense_six'],concatenate_data(key = 'sense_six'))\n",
    "print(sense_six.shape)\n",
    "sense_seven = np.append(co_at_70_ppm['sense_seven'],concatenate_data(key = 'sense_seven'))\n",
    "print(sense_seven.shape)\n",
    "sense_eight = np.append(co_at_70_ppm['sense_eight'],concatenate_data(key = 'sense_eight'))\n",
    "print(sense_eight.shape)\n",
    "target = np.append(co_at_70_ppm['target'],concatenate_data(key = 'target'))\n",
    "print(target.shape)\n"
   ]
  },
  {
   "cell_type": "code",
   "execution_count": 90,
   "metadata": {},
   "outputs": [
    {
     "data": {
      "text/plain": [
       "array([ 1.,  1.,  1.,  1.,  1.,  1.,  1.,  1.,  1.,  1.])"
      ]
     },
     "execution_count": 90,
     "metadata": {},
     "output_type": "execute_result"
    }
   ],
   "source": [
    "target[:10]"
   ]
  },
  {
   "cell_type": "code",
   "execution_count": 91,
   "metadata": {},
   "outputs": [
    {
     "data": {
      "text/html": [
       "<div>\n",
       "<style>\n",
       "    .dataframe thead tr:only-child th {\n",
       "        text-align: right;\n",
       "    }\n",
       "\n",
       "    .dataframe thead th {\n",
       "        text-align: left;\n",
       "    }\n",
       "\n",
       "    .dataframe tbody tr th {\n",
       "        vertical-align: top;\n",
       "    }\n",
       "</style>\n",
       "<table border=\"1\" class=\"dataframe\">\n",
       "  <thead>\n",
       "    <tr style=\"text-align: right;\">\n",
       "      <th></th>\n",
       "      <th>sense_eight</th>\n",
       "      <th>sense_five</th>\n",
       "      <th>sense_four</th>\n",
       "      <th>sense_one</th>\n",
       "      <th>sense_seven</th>\n",
       "      <th>sense_six</th>\n",
       "      <th>sense_three</th>\n",
       "      <th>sense_two</th>\n",
       "      <th>target</th>\n",
       "    </tr>\n",
       "  </thead>\n",
       "  <tbody>\n",
       "    <tr>\n",
       "      <th>0</th>\n",
       "      <td>7.7250</td>\n",
       "      <td>77.7575</td>\n",
       "      <td>6.875</td>\n",
       "      <td>41.935</td>\n",
       "      <td>61.2100</td>\n",
       "      <td>47.1925</td>\n",
       "      <td>23.2900</td>\n",
       "      <td>20.2800</td>\n",
       "      <td>1.0</td>\n",
       "    </tr>\n",
       "    <tr>\n",
       "      <th>1</th>\n",
       "      <td>7.7225</td>\n",
       "      <td>77.7075</td>\n",
       "      <td>6.875</td>\n",
       "      <td>41.960</td>\n",
       "      <td>61.2100</td>\n",
       "      <td>47.2700</td>\n",
       "      <td>23.3075</td>\n",
       "      <td>20.3000</td>\n",
       "      <td>1.0</td>\n",
       "    </tr>\n",
       "    <tr>\n",
       "      <th>2</th>\n",
       "      <td>7.7300</td>\n",
       "      <td>77.7025</td>\n",
       "      <td>6.875</td>\n",
       "      <td>41.935</td>\n",
       "      <td>61.2100</td>\n",
       "      <td>47.1625</td>\n",
       "      <td>23.2800</td>\n",
       "      <td>20.2875</td>\n",
       "      <td>1.0</td>\n",
       "    </tr>\n",
       "    <tr>\n",
       "      <th>3</th>\n",
       "      <td>7.7250</td>\n",
       "      <td>77.7025</td>\n",
       "      <td>6.875</td>\n",
       "      <td>41.915</td>\n",
       "      <td>61.1775</td>\n",
       "      <td>47.2625</td>\n",
       "      <td>23.2900</td>\n",
       "      <td>20.2800</td>\n",
       "      <td>1.0</td>\n",
       "    </tr>\n",
       "    <tr>\n",
       "      <th>4</th>\n",
       "      <td>7.7250</td>\n",
       "      <td>77.7575</td>\n",
       "      <td>6.875</td>\n",
       "      <td>41.960</td>\n",
       "      <td>61.1600</td>\n",
       "      <td>47.2450</td>\n",
       "      <td>23.2900</td>\n",
       "      <td>20.3025</td>\n",
       "      <td>1.0</td>\n",
       "    </tr>\n",
       "  </tbody>\n",
       "</table>\n",
       "</div>"
      ],
      "text/plain": [
       "   sense_eight  sense_five  sense_four  sense_one  sense_seven  sense_six  \\\n",
       "0       7.7250     77.7575       6.875     41.935      61.2100    47.1925   \n",
       "1       7.7225     77.7075       6.875     41.960      61.2100    47.2700   \n",
       "2       7.7300     77.7025       6.875     41.935      61.2100    47.1625   \n",
       "3       7.7250     77.7025       6.875     41.915      61.1775    47.2625   \n",
       "4       7.7250     77.7575       6.875     41.960      61.1600    47.2450   \n",
       "\n",
       "   sense_three  sense_two  target  \n",
       "0      23.2900    20.2800     1.0  \n",
       "1      23.3075    20.3000     1.0  \n",
       "2      23.2800    20.2875     1.0  \n",
       "3      23.2900    20.2800     1.0  \n",
       "4      23.2900    20.3025     1.0  "
      ]
     },
     "execution_count": 91,
     "metadata": {},
     "output_type": "execute_result"
    }
   ],
   "source": [
    "new_dataframe = pd.DataFrame({'sense_one':sense_one,'sense_two':sense_two, 'sense_three':sense_three,'sense_four':sense_four,'sense_five':sense_five,\n",
    "                             'sense_six': sense_six, 'sense_seven': sense_seven,'sense_eight':sense_eight,'target':target})\n",
    "new_dataframe.head()"
   ]
  },
  {
   "cell_type": "code",
   "execution_count": 92,
   "metadata": {},
   "outputs": [
    {
     "data": {
      "text/plain": [
       "(719951, 9)"
      ]
     },
     "execution_count": 92,
     "metadata": {},
     "output_type": "execute_result"
    }
   ],
   "source": [
    "new_dataframe.shape"
   ]
  },
  {
   "cell_type": "code",
   "execution_count": 93,
   "metadata": {},
   "outputs": [
    {
     "name": "stdout",
     "output_type": "stream",
     "text": [
      "<class 'pandas.core.frame.DataFrame'>\n",
      "RangeIndex: 719951 entries, 0 to 719950\n",
      "Data columns (total 9 columns):\n",
      "sense_eight    698601 non-null float64\n",
      "sense_five     698601 non-null float64\n",
      "sense_four     698601 non-null float64\n",
      "sense_one      698601 non-null float64\n",
      "sense_seven    698601 non-null float64\n",
      "sense_six      698601 non-null float64\n",
      "sense_three    698601 non-null float64\n",
      "sense_two      698601 non-null float64\n",
      "target         719951 non-null float64\n",
      "dtypes: float64(9)\n",
      "memory usage: 49.4 MB\n"
     ]
    }
   ],
   "source": [
    "new_dataframe.info()"
   ]
  },
  {
   "cell_type": "code",
   "execution_count": 94,
   "metadata": {},
   "outputs": [
    {
     "data": {
      "text/plain": [
       "sense_eight    21350\n",
       "sense_five     21350\n",
       "sense_four     21350\n",
       "sense_one      21350\n",
       "sense_seven    21350\n",
       "sense_six      21350\n",
       "sense_three    21350\n",
       "sense_two      21350\n",
       "target             0\n",
       "dtype: int64"
      ]
     },
     "execution_count": 94,
     "metadata": {},
     "output_type": "execute_result"
    }
   ],
   "source": [
    "new_dataframe.isnull().sum()"
   ]
  },
  {
   "cell_type": "code",
   "execution_count": 96,
   "metadata": {},
   "outputs": [
    {
     "data": {
      "text/plain": [
       "(698601, 9)"
      ]
     },
     "execution_count": 96,
     "metadata": {},
     "output_type": "execute_result"
    }
   ],
   "source": [
    "new_data = new_dataframe.dropna(axis = 0, how = 'any')\n",
    "new_data.shape"
   ]
  },
  {
   "cell_type": "code",
   "execution_count": 97,
   "metadata": {},
   "outputs": [
    {
     "name": "stdout",
     "output_type": "stream",
     "text": [
      "<class 'pandas.core.frame.DataFrame'>\n",
      "Int64Index: 698601 entries, 0 to 719613\n",
      "Data columns (total 9 columns):\n",
      "sense_eight    698601 non-null float64\n",
      "sense_five     698601 non-null float64\n",
      "sense_four     698601 non-null float64\n",
      "sense_one      698601 non-null float64\n",
      "sense_seven    698601 non-null float64\n",
      "sense_six      698601 non-null float64\n",
      "sense_three    698601 non-null float64\n",
      "sense_two      698601 non-null float64\n",
      "target         698601 non-null float64\n",
      "dtypes: float64(9)\n",
      "memory usage: 53.3 MB\n"
     ]
    }
   ],
   "source": [
    "new_data.info()"
   ]
  },
  {
   "cell_type": "code",
   "execution_count": 98,
   "metadata": {
    "collapsed": true
   },
   "outputs": [],
   "source": [
    "new_data.to_csv('merged_preprocess_data.csv')"
   ]
  },
  {
   "cell_type": "code",
   "execution_count": null,
   "metadata": {
    "collapsed": true
   },
   "outputs": [],
   "source": []
  }
 ],
 "metadata": {
  "kernelspec": {
   "display_name": "Python 3",
   "language": "python",
   "name": "python3"
  },
  "language_info": {
   "codemirror_mode": {
    "name": "ipython",
    "version": 3
   },
   "file_extension": ".py",
   "mimetype": "text/x-python",
   "name": "python",
   "nbconvert_exporter": "python",
   "pygments_lexer": "ipython3",
   "version": "3.6.1"
  }
 },
 "nbformat": 4,
 "nbformat_minor": 2
}
