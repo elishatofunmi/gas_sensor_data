{
 "cells": [
  {
   "cell_type": "code",
   "execution_count": 11,
   "metadata": {},
   "outputs": [
    {
     "data": {
      "text/plain": [
       "['.ipynb_checkpoints',\n",
       " 'B1_GCO_F030_R1.txt',\n",
       " 'B1_GCO_F030_R2.txt',\n",
       " 'B1_GCO_F030_R3.txt',\n",
       " 'B1_GCO_F030_R4.txt',\n",
       " 'Box_plot_of_sense_eightboard_one_CO_at_30ppm.jpeg',\n",
       " 'Box_plot_of_sense_eight_no_outliers_board_one_CO_at_30ppm.jpeg',\n",
       " 'Box_plot_of_sense_fiveboard_one_CO_at_30ppm.jpeg',\n",
       " 'Box_plot_of_sense_five_no_outliers_board_one_CO_at_30ppm.jpeg',\n",
       " 'Box_plot_of_sense_fourboard_one_CO_at_30ppm.jpeg',\n",
       " 'Box_plot_of_sense_four_no_outliers_board_one_CO_at_30ppm.jpeg',\n",
       " 'Box_plot_of_sense_oneboard_one_CO_at_30ppm.jpeg',\n",
       " 'Box_plot_of_sense_one_no_outliers_board_one_CO_at_30ppm.jpeg',\n",
       " 'Box_plot_of_sense_sevenboard_one_CO_at_30ppm.jpeg',\n",
       " 'Box_plot_of_sense_seven_no_outliers_board_one_CO_at_30ppm.jpeg',\n",
       " 'Box_plot_of_sense_sixboard_one_CO_at_30ppm.jpeg',\n",
       " 'Box_plot_of_sense_six_no_outliers_board_one_CO_at_30ppm.jpeg',\n",
       " 'Box_plot_of_sense_threeboard_one_CO_at_30ppm.jpeg',\n",
       " 'Box_plot_of_sense_three_no_outliers_board_one_CO_at_30ppm.jpeg',\n",
       " 'Box_plot_of_sense_twoboard_one_CO_at_30ppm.jpeg',\n",
       " 'Box_plot_of_sense_two_no_outliers_board_one_CO_at_30ppm.jpeg',\n",
       " 'Box_plot_of_timeboard_one_CO_at_30ppm.jpeg',\n",
       " 'Box_plot_of_time_no_outliers_board_one_CO_at_30ppm.jpeg',\n",
       " 'Merge_CO_30.ipynb']"
      ]
     },
     "execution_count": 11,
     "metadata": {},
     "output_type": "execute_result"
    }
   ],
   "source": [
    "import os\n",
    "import sys\n",
    "os.listdir()"
   ]
  },
  {
   "cell_type": "code",
   "execution_count": 12,
   "metadata": {},
   "outputs": [
    {
     "data": {
      "text/html": [
       "<div>\n",
       "<style>\n",
       "    .dataframe thead tr:only-child th {\n",
       "        text-align: right;\n",
       "    }\n",
       "\n",
       "    .dataframe thead th {\n",
       "        text-align: left;\n",
       "    }\n",
       "\n",
       "    .dataframe tbody tr th {\n",
       "        vertical-align: top;\n",
       "    }\n",
       "</style>\n",
       "<table border=\"1\" class=\"dataframe\">\n",
       "  <thead>\n",
       "    <tr style=\"text-align: right;\">\n",
       "      <th></th>\n",
       "      <th>time</th>\n",
       "      <th>sense_one</th>\n",
       "      <th>sense_two</th>\n",
       "      <th>sense_three</th>\n",
       "      <th>sense_four</th>\n",
       "      <th>sense_five</th>\n",
       "      <th>sense_six</th>\n",
       "      <th>sense_seven</th>\n",
       "      <th>sense_eight</th>\n",
       "    </tr>\n",
       "  </thead>\n",
       "  <tbody>\n",
       "    <tr>\n",
       "      <th>0</th>\n",
       "      <td>0.00</td>\n",
       "      <td>39.22</td>\n",
       "      <td>18.80</td>\n",
       "      <td>21.76</td>\n",
       "      <td>5.62</td>\n",
       "      <td>73.3</td>\n",
       "      <td>46.07</td>\n",
       "      <td>55.95</td>\n",
       "      <td>7.01</td>\n",
       "    </tr>\n",
       "    <tr>\n",
       "      <th>1</th>\n",
       "      <td>0.01</td>\n",
       "      <td>39.22</td>\n",
       "      <td>18.77</td>\n",
       "      <td>21.73</td>\n",
       "      <td>5.62</td>\n",
       "      <td>73.3</td>\n",
       "      <td>45.97</td>\n",
       "      <td>55.81</td>\n",
       "      <td>7.01</td>\n",
       "    </tr>\n",
       "    <tr>\n",
       "      <th>2</th>\n",
       "      <td>0.02</td>\n",
       "      <td>39.22</td>\n",
       "      <td>18.80</td>\n",
       "      <td>21.76</td>\n",
       "      <td>5.62</td>\n",
       "      <td>73.3</td>\n",
       "      <td>46.07</td>\n",
       "      <td>55.95</td>\n",
       "      <td>7.03</td>\n",
       "    </tr>\n",
       "    <tr>\n",
       "      <th>3</th>\n",
       "      <td>0.03</td>\n",
       "      <td>39.30</td>\n",
       "      <td>18.80</td>\n",
       "      <td>21.76</td>\n",
       "      <td>5.62</td>\n",
       "      <td>73.3</td>\n",
       "      <td>45.97</td>\n",
       "      <td>55.95</td>\n",
       "      <td>7.01</td>\n",
       "    </tr>\n",
       "    <tr>\n",
       "      <th>4</th>\n",
       "      <td>0.04</td>\n",
       "      <td>39.22</td>\n",
       "      <td>18.77</td>\n",
       "      <td>21.73</td>\n",
       "      <td>5.62</td>\n",
       "      <td>73.3</td>\n",
       "      <td>45.97</td>\n",
       "      <td>55.95</td>\n",
       "      <td>7.01</td>\n",
       "    </tr>\n",
       "  </tbody>\n",
       "</table>\n",
       "</div>"
      ],
      "text/plain": [
       "   time  sense_one  sense_two  sense_three  sense_four  sense_five  sense_six  \\\n",
       "0  0.00      39.22      18.80        21.76        5.62        73.3      46.07   \n",
       "1  0.01      39.22      18.77        21.73        5.62        73.3      45.97   \n",
       "2  0.02      39.22      18.80        21.76        5.62        73.3      46.07   \n",
       "3  0.03      39.30      18.80        21.76        5.62        73.3      45.97   \n",
       "4  0.04      39.22      18.77        21.73        5.62        73.3      45.97   \n",
       "\n",
       "   sense_seven  sense_eight  \n",
       "0        55.95         7.01  \n",
       "1        55.81         7.01  \n",
       "2        55.95         7.03  \n",
       "3        55.95         7.01  \n",
       "4        55.95         7.01  "
      ]
     },
     "execution_count": 12,
     "metadata": {},
     "output_type": "execute_result"
    }
   ],
   "source": [
    "import pandas as pd\n",
    "repitition_one = pd.read_csv(r'B1_GCO_F030_R1.txt',sep = '\\t',header = None)\n",
    "repitition_one.columns = ['time','sense_one', 'sense_two', 'sense_three','sense_four','sense_five',\n",
    "                          'sense_six','sense_seven','sense_eight']\n",
    "repitition_one.head()"
   ]
  },
  {
   "cell_type": "code",
   "execution_count": 13,
   "metadata": {},
   "outputs": [
    {
     "data": {
      "text/html": [
       "<div>\n",
       "<style>\n",
       "    .dataframe thead tr:only-child th {\n",
       "        text-align: right;\n",
       "    }\n",
       "\n",
       "    .dataframe thead th {\n",
       "        text-align: left;\n",
       "    }\n",
       "\n",
       "    .dataframe tbody tr th {\n",
       "        vertical-align: top;\n",
       "    }\n",
       "</style>\n",
       "<table border=\"1\" class=\"dataframe\">\n",
       "  <thead>\n",
       "    <tr style=\"text-align: right;\">\n",
       "      <th></th>\n",
       "      <th>time</th>\n",
       "      <th>sense_one</th>\n",
       "      <th>sense_two</th>\n",
       "      <th>sense_three</th>\n",
       "      <th>sense_four</th>\n",
       "      <th>sense_five</th>\n",
       "      <th>sense_six</th>\n",
       "      <th>sense_seven</th>\n",
       "      <th>sense_eight</th>\n",
       "    </tr>\n",
       "  </thead>\n",
       "  <tbody>\n",
       "    <tr>\n",
       "      <th>0</th>\n",
       "      <td>0.00</td>\n",
       "      <td>36.85</td>\n",
       "      <td>17.23</td>\n",
       "      <td>20.04</td>\n",
       "      <td>5.89</td>\n",
       "      <td>69.26</td>\n",
       "      <td>42.22</td>\n",
       "      <td>53.14</td>\n",
       "      <td>7.12</td>\n",
       "    </tr>\n",
       "    <tr>\n",
       "      <th>1</th>\n",
       "      <td>0.01</td>\n",
       "      <td>36.85</td>\n",
       "      <td>17.23</td>\n",
       "      <td>20.01</td>\n",
       "      <td>5.89</td>\n",
       "      <td>69.26</td>\n",
       "      <td>42.13</td>\n",
       "      <td>53.14</td>\n",
       "      <td>7.11</td>\n",
       "    </tr>\n",
       "    <tr>\n",
       "      <th>2</th>\n",
       "      <td>0.02</td>\n",
       "      <td>36.78</td>\n",
       "      <td>17.23</td>\n",
       "      <td>20.01</td>\n",
       "      <td>5.90</td>\n",
       "      <td>69.26</td>\n",
       "      <td>42.22</td>\n",
       "      <td>53.14</td>\n",
       "      <td>7.11</td>\n",
       "    </tr>\n",
       "    <tr>\n",
       "      <th>3</th>\n",
       "      <td>0.03</td>\n",
       "      <td>36.85</td>\n",
       "      <td>17.23</td>\n",
       "      <td>20.07</td>\n",
       "      <td>5.90</td>\n",
       "      <td>69.26</td>\n",
       "      <td>42.13</td>\n",
       "      <td>53.14</td>\n",
       "      <td>7.12</td>\n",
       "    </tr>\n",
       "    <tr>\n",
       "      <th>4</th>\n",
       "      <td>0.04</td>\n",
       "      <td>36.92</td>\n",
       "      <td>17.26</td>\n",
       "      <td>20.04</td>\n",
       "      <td>5.89</td>\n",
       "      <td>69.26</td>\n",
       "      <td>42.13</td>\n",
       "      <td>53.14</td>\n",
       "      <td>7.11</td>\n",
       "    </tr>\n",
       "  </tbody>\n",
       "</table>\n",
       "</div>"
      ],
      "text/plain": [
       "   time  sense_one  sense_two  sense_three  sense_four  sense_five  sense_six  \\\n",
       "0  0.00      36.85      17.23        20.04        5.89       69.26      42.22   \n",
       "1  0.01      36.85      17.23        20.01        5.89       69.26      42.13   \n",
       "2  0.02      36.78      17.23        20.01        5.90       69.26      42.22   \n",
       "3  0.03      36.85      17.23        20.07        5.90       69.26      42.13   \n",
       "4  0.04      36.92      17.26        20.04        5.89       69.26      42.13   \n",
       "\n",
       "   sense_seven  sense_eight  \n",
       "0        53.14         7.12  \n",
       "1        53.14         7.11  \n",
       "2        53.14         7.11  \n",
       "3        53.14         7.12  \n",
       "4        53.14         7.11  "
      ]
     },
     "execution_count": 13,
     "metadata": {},
     "output_type": "execute_result"
    }
   ],
   "source": [
    "repitition_two = pd.read_csv(r'B1_GCO_F030_R2.txt',sep = '\\t',header = None)\n",
    "repitition_two.columns = ['time','sense_one', 'sense_two', 'sense_three','sense_four','sense_five',\n",
    "                          'sense_six','sense_seven','sense_eight']\n",
    "repitition_two.head()"
   ]
  },
  {
   "cell_type": "code",
   "execution_count": 14,
   "metadata": {},
   "outputs": [
    {
     "data": {
      "text/html": [
       "<div>\n",
       "<style>\n",
       "    .dataframe thead tr:only-child th {\n",
       "        text-align: right;\n",
       "    }\n",
       "\n",
       "    .dataframe thead th {\n",
       "        text-align: left;\n",
       "    }\n",
       "\n",
       "    .dataframe tbody tr th {\n",
       "        vertical-align: top;\n",
       "    }\n",
       "</style>\n",
       "<table border=\"1\" class=\"dataframe\">\n",
       "  <thead>\n",
       "    <tr style=\"text-align: right;\">\n",
       "      <th></th>\n",
       "      <th>time</th>\n",
       "      <th>sense_one</th>\n",
       "      <th>sense_two</th>\n",
       "      <th>sense_three</th>\n",
       "      <th>sense_four</th>\n",
       "      <th>sense_five</th>\n",
       "      <th>sense_six</th>\n",
       "      <th>sense_seven</th>\n",
       "      <th>sense_eight</th>\n",
       "    </tr>\n",
       "  </thead>\n",
       "  <tbody>\n",
       "    <tr>\n",
       "      <th>0</th>\n",
       "      <td>0.00</td>\n",
       "      <td>44.21</td>\n",
       "      <td>21.80</td>\n",
       "      <td>24.74</td>\n",
       "      <td>8.06</td>\n",
       "      <td>80.85</td>\n",
       "      <td>49.28</td>\n",
       "      <td>65.38</td>\n",
       "      <td>8.58</td>\n",
       "    </tr>\n",
       "    <tr>\n",
       "      <th>1</th>\n",
       "      <td>0.01</td>\n",
       "      <td>44.21</td>\n",
       "      <td>21.80</td>\n",
       "      <td>24.74</td>\n",
       "      <td>8.08</td>\n",
       "      <td>80.85</td>\n",
       "      <td>49.16</td>\n",
       "      <td>65.38</td>\n",
       "      <td>8.60</td>\n",
       "    </tr>\n",
       "    <tr>\n",
       "      <th>2</th>\n",
       "      <td>0.02</td>\n",
       "      <td>44.21</td>\n",
       "      <td>21.80</td>\n",
       "      <td>24.74</td>\n",
       "      <td>8.06</td>\n",
       "      <td>81.11</td>\n",
       "      <td>49.28</td>\n",
       "      <td>65.56</td>\n",
       "      <td>8.61</td>\n",
       "    </tr>\n",
       "    <tr>\n",
       "      <th>3</th>\n",
       "      <td>0.03</td>\n",
       "      <td>44.21</td>\n",
       "      <td>21.83</td>\n",
       "      <td>24.74</td>\n",
       "      <td>8.07</td>\n",
       "      <td>80.85</td>\n",
       "      <td>49.16</td>\n",
       "      <td>65.56</td>\n",
       "      <td>8.61</td>\n",
       "    </tr>\n",
       "    <tr>\n",
       "      <th>4</th>\n",
       "      <td>0.04</td>\n",
       "      <td>44.11</td>\n",
       "      <td>21.80</td>\n",
       "      <td>24.70</td>\n",
       "      <td>8.06</td>\n",
       "      <td>80.85</td>\n",
       "      <td>49.16</td>\n",
       "      <td>65.38</td>\n",
       "      <td>8.61</td>\n",
       "    </tr>\n",
       "  </tbody>\n",
       "</table>\n",
       "</div>"
      ],
      "text/plain": [
       "   time  sense_one  sense_two  sense_three  sense_four  sense_five  sense_six  \\\n",
       "0  0.00      44.21      21.80        24.74        8.06       80.85      49.28   \n",
       "1  0.01      44.21      21.80        24.74        8.08       80.85      49.16   \n",
       "2  0.02      44.21      21.80        24.74        8.06       81.11      49.28   \n",
       "3  0.03      44.21      21.83        24.74        8.07       80.85      49.16   \n",
       "4  0.04      44.11      21.80        24.70        8.06       80.85      49.16   \n",
       "\n",
       "   sense_seven  sense_eight  \n",
       "0        65.38         8.58  \n",
       "1        65.38         8.60  \n",
       "2        65.56         8.61  \n",
       "3        65.56         8.61  \n",
       "4        65.38         8.61  "
      ]
     },
     "execution_count": 14,
     "metadata": {},
     "output_type": "execute_result"
    }
   ],
   "source": [
    "repitition_three = pd.read_csv(r'B1_GCO_F030_R3.txt',sep = '\\t',header = None)\n",
    "repitition_three.columns = ['time','sense_one', 'sense_two', 'sense_three','sense_four','sense_five',\n",
    "                          'sense_six','sense_seven','sense_eight']\n",
    "repitition_three.head()"
   ]
  },
  {
   "cell_type": "code",
   "execution_count": 15,
   "metadata": {},
   "outputs": [
    {
     "data": {
      "text/html": [
       "<div>\n",
       "<style>\n",
       "    .dataframe thead tr:only-child th {\n",
       "        text-align: right;\n",
       "    }\n",
       "\n",
       "    .dataframe thead th {\n",
       "        text-align: left;\n",
       "    }\n",
       "\n",
       "    .dataframe tbody tr th {\n",
       "        vertical-align: top;\n",
       "    }\n",
       "</style>\n",
       "<table border=\"1\" class=\"dataframe\">\n",
       "  <thead>\n",
       "    <tr style=\"text-align: right;\">\n",
       "      <th></th>\n",
       "      <th>time</th>\n",
       "      <th>sense_one</th>\n",
       "      <th>sense_two</th>\n",
       "      <th>sense_three</th>\n",
       "      <th>sense_four</th>\n",
       "      <th>sense_five</th>\n",
       "      <th>sense_six</th>\n",
       "      <th>sense_seven</th>\n",
       "      <th>sense_eight</th>\n",
       "    </tr>\n",
       "  </thead>\n",
       "  <tbody>\n",
       "    <tr>\n",
       "      <th>0</th>\n",
       "      <td>0.00</td>\n",
       "      <td>47.2</td>\n",
       "      <td>23.19</td>\n",
       "      <td>26.5</td>\n",
       "      <td>7.95</td>\n",
       "      <td>86.79</td>\n",
       "      <td>51.14</td>\n",
       "      <td>70.03</td>\n",
       "      <td>8.18</td>\n",
       "    </tr>\n",
       "    <tr>\n",
       "      <th>1</th>\n",
       "      <td>0.01</td>\n",
       "      <td>47.1</td>\n",
       "      <td>23.19</td>\n",
       "      <td>26.5</td>\n",
       "      <td>7.96</td>\n",
       "      <td>87.09</td>\n",
       "      <td>51.14</td>\n",
       "      <td>70.03</td>\n",
       "      <td>8.17</td>\n",
       "    </tr>\n",
       "    <tr>\n",
       "      <th>2</th>\n",
       "      <td>0.02</td>\n",
       "      <td>47.2</td>\n",
       "      <td>23.23</td>\n",
       "      <td>26.5</td>\n",
       "      <td>7.95</td>\n",
       "      <td>87.09</td>\n",
       "      <td>51.14</td>\n",
       "      <td>70.03</td>\n",
       "      <td>8.18</td>\n",
       "    </tr>\n",
       "    <tr>\n",
       "      <th>3</th>\n",
       "      <td>0.03</td>\n",
       "      <td>47.2</td>\n",
       "      <td>23.23</td>\n",
       "      <td>26.5</td>\n",
       "      <td>7.95</td>\n",
       "      <td>87.09</td>\n",
       "      <td>51.14</td>\n",
       "      <td>70.03</td>\n",
       "      <td>8.18</td>\n",
       "    </tr>\n",
       "    <tr>\n",
       "      <th>4</th>\n",
       "      <td>0.04</td>\n",
       "      <td>47.2</td>\n",
       "      <td>23.23</td>\n",
       "      <td>26.5</td>\n",
       "      <td>7.95</td>\n",
       "      <td>87.09</td>\n",
       "      <td>51.26</td>\n",
       "      <td>70.03</td>\n",
       "      <td>8.17</td>\n",
       "    </tr>\n",
       "  </tbody>\n",
       "</table>\n",
       "</div>"
      ],
      "text/plain": [
       "   time  sense_one  sense_two  sense_three  sense_four  sense_five  sense_six  \\\n",
       "0  0.00       47.2      23.19         26.5        7.95       86.79      51.14   \n",
       "1  0.01       47.1      23.19         26.5        7.96       87.09      51.14   \n",
       "2  0.02       47.2      23.23         26.5        7.95       87.09      51.14   \n",
       "3  0.03       47.2      23.23         26.5        7.95       87.09      51.14   \n",
       "4  0.04       47.2      23.23         26.5        7.95       87.09      51.26   \n",
       "\n",
       "   sense_seven  sense_eight  \n",
       "0        70.03         8.18  \n",
       "1        70.03         8.17  \n",
       "2        70.03         8.18  \n",
       "3        70.03         8.18  \n",
       "4        70.03         8.17  "
      ]
     },
     "execution_count": 15,
     "metadata": {},
     "output_type": "execute_result"
    }
   ],
   "source": [
    "repitition_four = pd.read_csv(r'B1_GCO_F030_R4.txt',sep = '\\t',header = None)\n",
    "repitition_four.columns = ['time','sense_one', 'sense_two', 'sense_three','sense_four','sense_five',\n",
    "                          'sense_six','sense_seven','sense_eight']\n",
    "repitition_four.head()"
   ]
  },
  {
   "cell_type": "code",
   "execution_count": 16,
   "metadata": {},
   "outputs": [
    {
     "data": {
      "image/png": "[encoded data removed]",
      "text/plain": [
       "<matplotlib.figure.Figure at 0x1cde58f7c50>"
      ]
     },
     "metadata": {},
     "output_type": "display_data"
    },
    {
     "data": {
      "image/png": "[encoded data removed]",
      "text/plain": [
       "<matplotlib.figure.Figure at 0x1cde5890828>"
      ]
     },
     "metadata": {},
     "output_type": "display_data"
    },
    {
     "data": {
      "image/png": "[encoded data removed]",
      "text/plain": [
       "<matplotlib.figure.Figure at 0x1cde5009a58>"
      ]
     },
     "metadata": {},
     "output_type": "display_data"
    },
    {
     "data": {
      "image/png": "[encoded data removed]",
      "text/plain": [
       "<matplotlib.figure.Figure at 0x1cde4c2eeb8>"
      ]
     },
     "metadata": {},
     "output_type": "display_data"
    },
    {
     "data": {
      "image/png": "[encoded data removed]",
      "text/plain": [
       "<matplotlib.figure.Figure at 0x1cde4dfcf98>"
      ]
     },
     "metadata": {},
     "output_type": "display_data"
    },
    {
     "data": {
      "image/png": "[encoded data removed]",
      "text/plain": [
       "<matplotlib.figure.Figure at 0x1cde4f9bcc0>"
      ]
     },
     "metadata": {},
     "output_type": "display_data"
    },
    {
     "data": {
      "image/png": "[encoded data removed]",
      "text/plain": [
       "<matplotlib.figure.Figure at 0x1cde4e91390>"
      ]
     },
     "metadata": {},
     "output_type": "display_data"
    },
    {
     "data": {
      "image/png": "[encoded data removed]",
      "text/plain": [
       "<matplotlib.figure.Figure at 0x1cde483f940>"
      ]
     },
     "metadata": {},
     "output_type": "display_data"
    },
    {
     "data": {
      "image/png": "[encoded data removed]",
      "text/plain": [
       "<matplotlib.figure.Figure at 0x1cde4418fd0>"
      ]
     },
     "metadata": {},
     "output_type": "display_data"
    }
   ],
   "source": [
    "import matplotlib.pyplot as plt\n",
    "\n",
    "for key in repitition_one.keys():\n",
    "    plt.boxplot(repitition_one[key])\n",
    "    plt.grid('on')\n",
    "    plt.title('Box plot of '+str(key))\n",
    "    plt.show()\n",
    "    plt.savefig('Box_plot_of_'+ str(key)+ 'board_one_CO_at_30ppm.jpeg')"
   ]
  },
  {
   "cell_type": "code",
   "execution_count": 28,
   "metadata": {
    "collapsed": true
   },
   "outputs": [],
   "source": [
    "repitition_one['sense_one'][repitition_one['sense_one'] <= 38.9] = 38.9\n",
    "repitition_one['sense_one'][repitition_one['sense_one'] >= 39.70] = 39.70"
   ]
  },
  {
   "cell_type": "code",
   "execution_count": 18,
   "metadata": {
    "collapsed": true
   },
   "outputs": [],
   "source": [
    "repitition_one['sense_two'][repitition_one['sense_two'] <= 18.45] = 18.45"
   ]
  },
  {
   "cell_type": "code",
   "execution_count": 19,
   "metadata": {
    "collapsed": true
   },
   "outputs": [],
   "source": [
    "repitition_one['sense_three'][repitition_one['sense_three'] >= 21.9] = 21.9\n",
    "repitition_one['sense_three'][repitition_one['sense_three'] < 21.5] = 21.5"
   ]
  },
  {
   "cell_type": "code",
   "execution_count": 20,
   "metadata": {
    "collapsed": true
   },
   "outputs": [],
   "source": [
    "repitition_one['sense_four'][repitition_one['sense_four'] <= 5.5] = 5.5"
   ]
  },
  {
   "cell_type": "code",
   "execution_count": 22,
   "metadata": {
    "collapsed": true
   },
   "outputs": [],
   "source": [
    "repitition_one['sense_five'][repitition_one['sense_five'] <= 72.9] = 72.9\n",
    "repitition_one['sense_five'][repitition_one['sense_five'] >= 73.5] = 73.5"
   ]
  },
  {
   "cell_type": "code",
   "execution_count": 23,
   "metadata": {
    "collapsed": true
   },
   "outputs": [],
   "source": [
    "repitition_one['sense_six'][repitition_one['sense_six'] <= 45.3] = 45.3\n",
    "repitition_one['sense_six'][repitition_one['sense_six'] >= 46.4] = 46.4"
   ]
  },
  {
   "cell_type": "code",
   "execution_count": 27,
   "metadata": {
    "collapsed": true
   },
   "outputs": [],
   "source": [
    "repitition_one['sense_seven'][repitition_one['sense_seven'] < 55.3] = 55.3\n",
    "repitition_one['sense_seven'][repitition_one['sense_seven'] > 56.1] = 56.1"
   ]
  },
  {
   "cell_type": "code",
   "execution_count": 25,
   "metadata": {
    "collapsed": true
   },
   "outputs": [],
   "source": [
    "repitition_one['sense_eight'][repitition_one['sense_eight'] <= 6.8] = 6.8"
   ]
  },
  {
   "cell_type": "code",
   "execution_count": 29,
   "metadata": {},
   "outputs": [
    {
     "data": {
      "image/png": "[encoded data removed]",
      "text/plain": [
       "<matplotlib.figure.Figure at 0x1cde3c0ff60>"
      ]
     },
     "metadata": {},
     "output_type": "display_data"
    },
    {
     "data": {
      "image/png": "[encoded data removed]",
      "text/plain": [
       "<matplotlib.figure.Figure at 0x1cde4fb0860>"
      ]
     },
     "metadata": {},
     "output_type": "display_data"
    },
    {
     "data": {
      "image/png": "[encoded data removed]",
      "text/plain": [
       "<matplotlib.figure.Figure at 0x1cde5822ef0>"
      ]
     },
     "metadata": {},
     "output_type": "display_data"
    },
    {
     "data": {
      "image/png": "[encoded data removed]",
      "text/plain": [
       "<matplotlib.figure.Figure at 0x1cde4d24f60>"
      ]
     },
     "metadata": {},
     "output_type": "display_data"
    },
    {
     "data": {
      "image/png": "[encoded data removed]",
      "text/plain": [
       "<matplotlib.figure.Figure at 0x1cde4ed0780>"
      ]
     },
     "metadata": {},
     "output_type": "display_data"
    },
    {
     "data": {
      "image/png": "[encoded data removed]",
      "text/plain": [
       "<matplotlib.figure.Figure at 0x1cde4d34f28>"
      ]
     },
     "metadata": {},
     "output_type": "display_data"
    },
    {
     "data": {
      "image/png": "[encoded data removed]",
      "text/plain": [
       "<matplotlib.figure.Figure at 0x1cde58fda58>"
      ]
     },
     "metadata": {},
     "output_type": "display_data"
    },
    {
     "data": {
      "image/png": "[encoded data removed]",
      "text/plain": [
       "<matplotlib.figure.Figure at 0x1cde4b8bdd8>"
      ]
     },
     "metadata": {},
     "output_type": "display_data"
    },
    {
     "data": {
      "image/png": "[encoded data removed]",
      "text/plain": [
       "<matplotlib.figure.Figure at 0x1cde50298d0>"
      ]
     },
     "metadata": {},
     "output_type": "display_data"
    }
   ],
   "source": [
    "import matplotlib.pyplot as plt\n",
    "\n",
    "for key in repitition_one.keys():\n",
    "    plt.boxplot(repitition_one[key])\n",
    "    plt.grid('on')\n",
    "    plt.title('Box plot of '+str(key))\n",
    "    plt.show()\n",
    "    plt.savefig('Box_plot_of_'+ str(key)+ '_no_outliers_board_one_CO_at_30ppm.jpeg')"
   ]
  },
  {
   "cell_type": "code",
   "execution_count": 30,
   "metadata": {
    "collapsed": true
   },
   "outputs": [],
   "source": [
    "final_repitition = (repitition_one + repitition_two+repitition_three + repitition_four) / 4"
   ]
  },
  {
   "cell_type": "code",
   "execution_count": 31,
   "metadata": {},
   "outputs": [
    {
     "data": {
      "text/html": [
       "<div>\n",
       "<style>\n",
       "    .dataframe thead tr:only-child th {\n",
       "        text-align: right;\n",
       "    }\n",
       "\n",
       "    .dataframe thead th {\n",
       "        text-align: left;\n",
       "    }\n",
       "\n",
       "    .dataframe tbody tr th {\n",
       "        vertical-align: top;\n",
       "    }\n",
       "</style>\n",
       "<table border=\"1\" class=\"dataframe\">\n",
       "  <thead>\n",
       "    <tr style=\"text-align: right;\">\n",
       "      <th></th>\n",
       "      <th>time</th>\n",
       "      <th>sense_one</th>\n",
       "      <th>sense_two</th>\n",
       "      <th>sense_three</th>\n",
       "      <th>sense_four</th>\n",
       "      <th>sense_five</th>\n",
       "      <th>sense_six</th>\n",
       "      <th>sense_seven</th>\n",
       "      <th>sense_eight</th>\n",
       "    </tr>\n",
       "  </thead>\n",
       "  <tbody>\n",
       "    <tr>\n",
       "      <th>0</th>\n",
       "      <td>0.00</td>\n",
       "      <td>41.8700</td>\n",
       "      <td>20.2550</td>\n",
       "      <td>23.2600</td>\n",
       "      <td>6.8800</td>\n",
       "      <td>77.550</td>\n",
       "      <td>47.1775</td>\n",
       "      <td>61.125</td>\n",
       "      <td>7.7225</td>\n",
       "    </tr>\n",
       "    <tr>\n",
       "      <th>1</th>\n",
       "      <td>0.01</td>\n",
       "      <td>41.8450</td>\n",
       "      <td>20.2475</td>\n",
       "      <td>23.2450</td>\n",
       "      <td>6.8875</td>\n",
       "      <td>77.625</td>\n",
       "      <td>47.1000</td>\n",
       "      <td>61.090</td>\n",
       "      <td>7.7225</td>\n",
       "    </tr>\n",
       "    <tr>\n",
       "      <th>2</th>\n",
       "      <td>0.02</td>\n",
       "      <td>41.8525</td>\n",
       "      <td>20.2650</td>\n",
       "      <td>23.2525</td>\n",
       "      <td>6.8825</td>\n",
       "      <td>77.690</td>\n",
       "      <td>47.1775</td>\n",
       "      <td>61.170</td>\n",
       "      <td>7.7325</td>\n",
       "    </tr>\n",
       "    <tr>\n",
       "      <th>3</th>\n",
       "      <td>0.03</td>\n",
       "      <td>41.8900</td>\n",
       "      <td>20.2725</td>\n",
       "      <td>23.2675</td>\n",
       "      <td>6.8850</td>\n",
       "      <td>77.625</td>\n",
       "      <td>47.1000</td>\n",
       "      <td>61.170</td>\n",
       "      <td>7.7300</td>\n",
       "    </tr>\n",
       "    <tr>\n",
       "      <th>4</th>\n",
       "      <td>0.04</td>\n",
       "      <td>41.8625</td>\n",
       "      <td>20.2650</td>\n",
       "      <td>23.2425</td>\n",
       "      <td>6.8800</td>\n",
       "      <td>77.625</td>\n",
       "      <td>47.1300</td>\n",
       "      <td>61.125</td>\n",
       "      <td>7.7250</td>\n",
       "    </tr>\n",
       "  </tbody>\n",
       "</table>\n",
       "</div>"
      ],
      "text/plain": [
       "   time  sense_one  sense_two  sense_three  sense_four  sense_five  sense_six  \\\n",
       "0  0.00    41.8700    20.2550      23.2600      6.8800      77.550    47.1775   \n",
       "1  0.01    41.8450    20.2475      23.2450      6.8875      77.625    47.1000   \n",
       "2  0.02    41.8525    20.2650      23.2525      6.8825      77.690    47.1775   \n",
       "3  0.03    41.8900    20.2725      23.2675      6.8850      77.625    47.1000   \n",
       "4  0.04    41.8625    20.2650      23.2425      6.8800      77.625    47.1300   \n",
       "\n",
       "   sense_seven  sense_eight  \n",
       "0       61.125       7.7225  \n",
       "1       61.090       7.7225  \n",
       "2       61.170       7.7325  \n",
       "3       61.170       7.7300  \n",
       "4       61.125       7.7250  "
      ]
     },
     "execution_count": 31,
     "metadata": {},
     "output_type": "execute_result"
    }
   ],
   "source": [
    "final_repitition.head()"
   ]
  },
  {
   "cell_type": "code",
   "execution_count": 33,
   "metadata": {
    "collapsed": true
   },
   "outputs": [],
   "source": [
    "final_repitition.to_csv('Repitition_CO_at_30_ppm.csv')"
   ]
  },
  {
   "cell_type": "code",
   "execution_count": null,
   "metadata": {
    "collapsed": true
   },
   "outputs": [],
   "source": []
  }
 ],
 "metadata": {
  "kernelspec": {
   "display_name": "Python 3",
   "language": "python",
   "name": "python3"
  },
  "language_info": {
   "codemirror_mode": {
    "name": "ipython",
    "version": 3
   },
   "file_extension": ".py",
   "mimetype": "text/x-python",
   "name": "python",
   "nbconvert_exporter": "python",
   "pygments_lexer": "ipython3",
   "version": "3.6.1"
  }
 },
 "nbformat": 4,
 "nbformat_minor": 2
}
